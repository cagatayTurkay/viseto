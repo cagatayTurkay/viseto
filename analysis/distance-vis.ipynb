{
 "cells": [
  {
   "cell_type": "markdown",
   "metadata": {
    "toc": true
   },
   "source": [
    "<h1>Contents<span class=\"tocSkip\"></span></h1>\n",
    "<div class=\"toc\"><ul class=\"toc-item\"><li><span><a href=\"#Load-and-clean-the-data\" data-toc-modified-id=\"Load-and-clean-the-data-1\"><span class=\"toc-item-num\">1&nbsp;&nbsp;</span>Load and clean the data</a></span></li><li><span><a href=\"#LDA-with-10-topics\" data-toc-modified-id=\"LDA-with-10-topics-2\"><span class=\"toc-item-num\">2&nbsp;&nbsp;</span>LDA with 10 topics</a></span></li><li><span><a href=\"#Find-the-strongest-topic-for-each-document\" data-toc-modified-id=\"Find-the-strongest-topic-for-each-document-3\"><span class=\"toc-item-num\">3&nbsp;&nbsp;</span>Find the strongest topic for each document</a></span></li><li><span><a href=\"#Compute-document-similarity-using-word2vec\" data-toc-modified-id=\"Compute-document-similarity-using-word2vec-4\"><span class=\"toc-item-num\">4&nbsp;&nbsp;</span>Compute document similarity using word2vec</a></span></li><li><span><a href=\"#t-sne-projection,-color-coded-with-topics\" data-toc-modified-id=\"t-sne-projection,-color-coded-with-topics-5\"><span class=\"toc-item-num\">5&nbsp;&nbsp;</span>t-sne projection, color coded with topics</a></span></li><li><span><a href=\"#Compute-cosine-similarity-from-doc2vec\" data-toc-modified-id=\"Compute-cosine-similarity-from-doc2vec-6\"><span class=\"toc-item-num\">6&nbsp;&nbsp;</span>Compute cosine similarity from doc2vec</a></span></li><li><span><a href=\"#Compare-intra-topic-similarity-vs.-inter-topic-similarity\" data-toc-modified-id=\"Compare-intra-topic-similarity-vs.-inter-topic-similarity-7\"><span class=\"toc-item-num\">7&nbsp;&nbsp;</span>Compare intra-topic similarity vs. inter-topic similarity</a></span></li><li><span><a href=\"#Build-word2vec-model\" data-toc-modified-id=\"Build-word2vec-model-8\"><span class=\"toc-item-num\">8&nbsp;&nbsp;</span>Build word2vec model</a></span><ul class=\"toc-item\"><li><span><a href=\"#Find-the-strongest-topic-for-each-term\" data-toc-modified-id=\"Find-the-strongest-topic-for-each-term-8.1\"><span class=\"toc-item-num\">8.1&nbsp;&nbsp;</span>Find the strongest topic for each term</a></span></li></ul></li></ul></div>"
   ]
  },
  {
   "cell_type": "code",
   "execution_count": 1,
   "metadata": {},
   "outputs": [],
   "source": [
    "import nlp\n",
    "import json\n",
    "\n",
    "import numpy as np\n",
    "import pandas as pd\n",
    "\n",
    "import matplotlib.pyplot as plt\n",
    "%matplotlib inline  \n",
    "import seaborn as sns\n",
    "\n",
    "from sklearn import manifold\n",
    "\n",
    "from gensim.models.doc2vec import TaggedDocument\n",
    "from gensim.models.doc2vec import Doc2Vec\n",
    "from gensim.models import Word2Vec\n",
    "\n",
    "import spacy\n",
    "spa = spacy.load('en')\n",
    "\n",
    "from itertools import chain\n",
    "from itertools import combinations"
   ]
  },
  {
   "cell_type": "markdown",
   "metadata": {},
   "source": [
    "I want to compute document similarity based on word2vec and check if documents discussing the same topic are similar."
   ]
  },
  {
   "cell_type": "markdown",
   "metadata": {},
   "source": [
    "### Load and clean the data"
   ]
  },
  {
   "cell_type": "code",
   "execution_count": 2,
   "metadata": {},
   "outputs": [
    {
     "data": {
      "text/plain": [
       "(300,\n",
       " 'Hundreds of people have been forced to vacate their homes in the Southern Highlands of New South Wales as strong winds today pushed a huge bushfire towards the town of Hill Top. A new blaze near Goulburn, south-west of Sydney, has forced the closure of the Hume Highway. At about 4:00pm AEDT, a marked deterioration in the weather as a storm cell moved east across the Blue Mountains forced authorities to make a decision to evacuate people from homes in outlying streets at Hill Top in the New South Wales southern highlands. An estimated 500 residents have left their homes for nearby Mittagong. The New South Wales Rural Fire Service says the weather conditions which caused the fire to burn in a finger formation have now eased and about 60 fire units in and around Hill Top are optimistic of defending all properties. As more than 100 blazes burn on New Year\\'s Eve in New South Wales, fire crews have been called to new fire at Gunning, south of Goulburn. While few details are available at this stage, fire authorities says it has closed the Hume Highway in both directions. Meanwhile, a new fire in Sydney\\'s west is no longer threatening properties in the Cranebrook area. Rain has fallen in some parts of the Illawarra, Sydney, the Hunter Valley and the north coast. But the Bureau of Meteorology\\'s Claire Richards says the rain has done little to ease any of the hundred fires still burning across the state. \"The falls have been quite isolated in those areas and generally the falls have been less than about five millimetres,\" she said. \"In some places really not significant at all, less than a millimetre, so there hasn\\'t been much relief as far as rain is concerned. \"In fact, they\\'ve probably hampered the efforts of the firefighters more because of the wind gusts that are associated with those thunderstorms.\"',\n",
       " ['hundred',\n",
       "  'people',\n",
       "  'forced',\n",
       "  'vacate',\n",
       "  'home',\n",
       "  'southern',\n",
       "  'highland',\n",
       "  'new',\n",
       "  'south',\n",
       "  'wale',\n",
       "  'strong',\n",
       "  'wind',\n",
       "  'today',\n",
       "  'pushed',\n",
       "  'huge',\n",
       "  'bushfire',\n",
       "  'towards',\n",
       "  'town',\n",
       "  'hill',\n",
       "  'top',\n",
       "  'new',\n",
       "  'blaze',\n",
       "  'near',\n",
       "  'goulburn',\n",
       "  'southwest',\n",
       "  'sydney',\n",
       "  'forced',\n",
       "  'closure',\n",
       "  'hume',\n",
       "  'highway',\n",
       "  '400pm',\n",
       "  'aedt',\n",
       "  'marked',\n",
       "  'deterioration',\n",
       "  'weather',\n",
       "  'storm',\n",
       "  'cell',\n",
       "  'moved',\n",
       "  'east',\n",
       "  'across',\n",
       "  'blue',\n",
       "  'mountain',\n",
       "  'forced',\n",
       "  'authority',\n",
       "  'make',\n",
       "  'decision',\n",
       "  'evacuate',\n",
       "  'people',\n",
       "  'home',\n",
       "  'outlying',\n",
       "  'street',\n",
       "  'hill',\n",
       "  'top',\n",
       "  'new',\n",
       "  'south',\n",
       "  'wale',\n",
       "  'southern',\n",
       "  'highland',\n",
       "  'estimated',\n",
       "  '500',\n",
       "  'resident',\n",
       "  'left',\n",
       "  'home',\n",
       "  'nearby',\n",
       "  'mittagong',\n",
       "  'new',\n",
       "  'south',\n",
       "  'wale',\n",
       "  'rural',\n",
       "  'fire',\n",
       "  'service',\n",
       "  'say',\n",
       "  'weather',\n",
       "  'condition',\n",
       "  'caused',\n",
       "  'fire',\n",
       "  'burn',\n",
       "  'finger',\n",
       "  'formation',\n",
       "  'eased',\n",
       "  'fire',\n",
       "  'unit',\n",
       "  'around',\n",
       "  'hill',\n",
       "  'top',\n",
       "  'optimistic',\n",
       "  'defending',\n",
       "  'property',\n",
       "  '100',\n",
       "  'blaze',\n",
       "  'burn',\n",
       "  'new',\n",
       "  'year',\n",
       "  'eve',\n",
       "  'new',\n",
       "  'south',\n",
       "  'wale',\n",
       "  'fire',\n",
       "  'crew',\n",
       "  'called',\n",
       "  'new',\n",
       "  'fire',\n",
       "  'gunning',\n",
       "  'south',\n",
       "  'goulburn',\n",
       "  'detail',\n",
       "  'available',\n",
       "  'stage',\n",
       "  'fire',\n",
       "  'authority',\n",
       "  'say',\n",
       "  'closed',\n",
       "  'hume',\n",
       "  'highway',\n",
       "  'direction',\n",
       "  'meanwhile',\n",
       "  'new',\n",
       "  'fire',\n",
       "  'sydney',\n",
       "  'west',\n",
       "  'longer',\n",
       "  'threatening',\n",
       "  'property',\n",
       "  'cranebrook',\n",
       "  'area',\n",
       "  'rain',\n",
       "  'fallen',\n",
       "  'part',\n",
       "  'illawarra',\n",
       "  'sydney',\n",
       "  'hunter',\n",
       "  'valley',\n",
       "  'north',\n",
       "  'coast',\n",
       "  'bureau',\n",
       "  'meteorology',\n",
       "  'claire',\n",
       "  'richards',\n",
       "  'say',\n",
       "  'rain',\n",
       "  'done',\n",
       "  'little',\n",
       "  'ease',\n",
       "  'hundred',\n",
       "  'fire',\n",
       "  'still',\n",
       "  'burning',\n",
       "  'across',\n",
       "  'state',\n",
       "  'fall',\n",
       "  'quite',\n",
       "  'isolated',\n",
       "  'area',\n",
       "  'generally',\n",
       "  'fall',\n",
       "  'le',\n",
       "  'five',\n",
       "  'millimetre',\n",
       "  'said',\n",
       "  'place',\n",
       "  'really',\n",
       "  'significant',\n",
       "  'le',\n",
       "  'millimetre',\n",
       "  'hasnt',\n",
       "  'much',\n",
       "  'relief',\n",
       "  'far',\n",
       "  'rain',\n",
       "  'concerned',\n",
       "  'fact',\n",
       "  'theyve',\n",
       "  'probably',\n",
       "  'hampered',\n",
       "  'effort',\n",
       "  'firefighter',\n",
       "  'wind',\n",
       "  'gust',\n",
       "  'associated',\n",
       "  'thunderstorm'])"
      ]
     },
     "execution_count": 2,
     "metadata": {},
     "output_type": "execute_result"
    }
   ],
   "source": [
    "data = nlp.load_file('../data/lee.txt')\n",
    "docs = nlp.preprocess(data)\n",
    "len(data), data[0], docs[0]"
   ]
  },
  {
   "cell_type": "markdown",
   "metadata": {},
   "source": [
    "### LDA with 10 topics"
   ]
  },
  {
   "cell_type": "code",
   "execution_count": 3,
   "metadata": {
    "scrolled": true
   },
   "outputs": [
    {
     "data": {
      "text/plain": [
       "[(0,\n",
       "  '0.035*\"palestinian\" + 0.024*\"israeli\" + 0.020*\"arafat\" + 0.011*\"said\" + 0.011*\"gaza\" + 0.010*\"hamas\" + 0.009*\"israel\" + 0.007*\"west\" + 0.007*\"official\" + 0.007*\"suicide\"'),\n",
       " (1,\n",
       "  '0.018*\"say\" + 0.012*\"south\" + 0.009*\"australia\" + 0.009*\"new\" + 0.009*\"fire\" + 0.007*\"test\" + 0.006*\"said\" + 0.005*\"year\" + 0.004*\"wale\" + 0.004*\"sydney\"'),\n",
       " (2,\n",
       "  '0.017*\"say\" + 0.013*\"said\" + 0.007*\"australian\" + 0.006*\"year\" + 0.004*\"per\" + 0.004*\"australia\" + 0.004*\"could\" + 0.004*\"child\" + 0.004*\"new\" + 0.004*\"cent\"'),\n",
       " (3,\n",
       "  '0.015*\"said\" + 0.010*\"say\" + 0.007*\"attack\" + 0.006*\"palestinian\" + 0.005*\"state\" + 0.005*\"one\" + 0.005*\"two\" + 0.005*\"metre\" + 0.004*\"last\" + 0.004*\"first\"'),\n",
       " (4,\n",
       "  '0.016*\"said\" + 0.016*\"say\" + 0.012*\"afghanistan\" + 0.011*\"force\" + 0.011*\"government\" + 0.008*\"bin\" + 0.007*\"qaeda\" + 0.006*\"laden\" + 0.006*\"taliban\" + 0.006*\"afghan\"'),\n",
       " (5,\n",
       "  '0.017*\"say\" + 0.014*\"union\" + 0.011*\"worker\" + 0.010*\"qantas\" + 0.008*\"said\" + 0.008*\"australian\" + 0.006*\"industrial\" + 0.006*\"two\" + 0.005*\"commission\" + 0.005*\"action\"'),\n",
       " (6,\n",
       "  '0.009*\"test\" + 0.009*\"new\" + 0.009*\"day\" + 0.008*\"south\" + 0.008*\"first\" + 0.007*\"say\" + 0.007*\"said\" + 0.007*\"australia\" + 0.005*\"wicket\" + 0.005*\"two\"'),\n",
       " (7,\n",
       "  '0.016*\"said\" + 0.012*\"say\" + 0.007*\"people\" + 0.006*\"fire\" + 0.005*\"attack\" + 0.005*\"hollingworth\" + 0.005*\"statement\" + 0.004*\"governorgeneral\" + 0.004*\"new\" + 0.004*\"abuse\"'),\n",
       " (8,\n",
       "  '0.015*\"people\" + 0.011*\"say\" + 0.010*\"said\" + 0.007*\"australian\" + 0.006*\"australia\" + 0.006*\"police\" + 0.005*\"minister\" + 0.005*\"south\" + 0.005*\"storm\" + 0.005*\"state\"'),\n",
       " (9,\n",
       "  '0.008*\"say\" + 0.006*\"said\" + 0.005*\"wind\" + 0.004*\"yacht\" + 0.004*\"hour\" + 0.004*\"zimbabwe\" + 0.004*\"commonwealth\" + 0.004*\"new\" + 0.004*\"area\" + 0.004*\"today\"')]"
      ]
     },
     "execution_count": 3,
     "metadata": {},
     "output_type": "execute_result"
    }
   ],
   "source": [
    "lda = nlp.build_lda(docs, num_topics=10)\n",
    "lda.print_topics()"
   ]
  },
  {
   "cell_type": "markdown",
   "metadata": {},
   "source": [
    "### Find the strongest topic for each document"
   ]
  },
  {
   "cell_type": "code",
   "execution_count": 4,
   "metadata": {},
   "outputs": [],
   "source": [
    "def get_strongest_topics(lda, corpus):\n",
    "    for doc in corpus:\n",
    "        topics = lda.get_document_topics(doc, minimum_probability=0.01)\n",
    "        strongest_topic = max(topics, key=lambda x: x[1])\n",
    "        yield strongest_topic[0]\n",
    "\n",
    "corpus, dictionary = nlp.build_corpus_dictionary(docs)\n",
    "doc_topics = list(get_strongest_topics(lda, corpus))"
   ]
  },
  {
   "cell_type": "markdown",
   "metadata": {},
   "source": [
    "### Compute document similarity using word2vec"
   ]
  },
  {
   "cell_type": "code",
   "execution_count": 5,
   "metadata": {},
   "outputs": [],
   "source": [
    "def build_doc2vec_model(docs, vector_size=100, window=5, min_count=10, epochs=100, random_state=0):\n",
    "    tagged_docs = [TaggedDocument(doc, [idx]) for idx, doc in enumerate(docs)]\n",
    "    model = Doc2Vec(vector_size=vector_size, window=window, min_count=min_count, epochs=epochs, seed=random_state)\n",
    "    model.build_vocab(tagged_docs)\n",
    "    model.train(tagged_docs, total_examples=model.corpus_count, epochs=model.epochs)\n",
    "    return model"
   ]
  },
  {
   "cell_type": "code",
   "execution_count": 6,
   "metadata": {},
   "outputs": [],
   "source": [
    "model = build_doc2vec_model(docs)\n",
    "docvecs = np.concatenate([model.docvecs[i].reshape(1, -1) for i in range(len(model.docvecs))])"
   ]
  },
  {
   "cell_type": "markdown",
   "metadata": {},
   "source": [
    "### t-sne projection, color coded with topics"
   ]
  },
  {
   "cell_type": "code",
   "execution_count": 7,
   "metadata": {},
   "outputs": [],
   "source": [
    "def plot_tsne(vectors, topic_ids):\n",
    "    tsne_vectors = manifold.TSNE(perplexity=100, random_state=0).fit_transform(vectors)\n",
    "    df = pd.DataFrame(data=np.c_[tsne_vectors, topic_ids], columns= ['x', 'y', 'topic'])\n",
    "    df.topic = df.topic.astype(int)\n",
    "    sns.lmplot(data=df, x='x', y='y', hue='topic', fit_reg=False, size=6, aspect=1.6)"
   ]
  },
  {
   "cell_type": "code",
   "execution_count": 8,
   "metadata": {},
   "outputs": [
    {
     "data": {
      "image/png": "[encoded data removed]",
      "text/plain": [
       "<matplotlib.figure.Figure at 0x10f261780>"
      ]
     },
     "metadata": {},
     "output_type": "display_data"
    }
   ],
   "source": [
    "plot_tsne(docvecs, doc_topics)"
   ]
  },
  {
   "cell_type": "markdown",
   "metadata": {},
   "source": [
    "### Compute cosine similarity from doc2vec"
   ]
  },
  {
   "cell_type": "code",
   "execution_count": 9,
   "metadata": {},
   "outputs": [],
   "source": [
    "from gensim.models import KeyedVectors\n",
    "\n",
    "def compute_similarity(docvecs):\n",
    "    def compute_one(docvec):\n",
    "        return (KeyedVectors.cosine_similarities(docvec, docvecs).reshape(1,-1) + 1) / 2\n",
    "    \n",
    "    return np.concatenate([compute_one(docvec) for docvec in docvecs])"
   ]
  },
  {
   "cell_type": "code",
   "execution_count": 10,
   "metadata": {},
   "outputs": [],
   "source": [
    "distance_matrix = compute_similarity(docvecs)"
   ]
  },
  {
   "cell_type": "markdown",
   "metadata": {},
   "source": [
    "### Compare intra-topic similarity vs. inter-topic similarity"
   ]
  },
  {
   "cell_type": "code",
   "execution_count": 11,
   "metadata": {},
   "outputs": [],
   "source": [
    "def compute_sim_docs(distance_matrix, topic_id, doc_topics):\n",
    "    'Return average similarity between pairs of documents within a topic.'\n",
    "    doc_indices = [i for i in range(len(doc_topics)) if doc_topics[i] == topic_id]\n",
    "    distances = [distance_matrix[i][j] for i in doc_indices for j in doc_indices]\n",
    "    intra_sim = sum(distances) / len(distances)\n",
    "    \n",
    "    outdoc_indices = [i for i in range(len(doc_topics)) if doc_topics[i] != topic_id]\n",
    "    distances = [distance_matrix[i][j] for i in doc_indices for j in outdoc_indices]\n",
    "    inter_sim = sum(distances) / len(distances)\n",
    "        \n",
    "    return intra_sim, inter_sim"
   ]
  },
  {
   "cell_type": "code",
   "execution_count": 12,
   "metadata": {},
   "outputs": [
    {
     "name": "stdout",
     "output_type": "stream",
     "text": [
      "topic 0\n",
      "(0.7140358666743128, 0.5784195423311389)\n",
      "\n",
      "topic 1\n",
      "(0.6750893475115299, 0.6060598761694772)\n",
      "\n",
      "topic 2\n",
      "(0.6219828274369169, 0.5975848962519956)\n",
      "\n",
      "topic 3\n",
      "(0.6118934643966129, 0.5982967169102827)\n",
      "\n",
      "topic 4\n",
      "(0.6336499540549185, 0.5841560050766305)\n",
      "\n",
      "topic 5\n",
      "(0.6466371190734208, 0.5977580023958133)\n",
      "\n",
      "topic 6\n",
      "(0.6488183999996213, 0.5968325045346745)\n",
      "\n",
      "topic 7\n",
      "(0.6255979005992413, 0.5938417410584432)\n",
      "\n",
      "topic 8\n",
      "(0.658188949053993, 0.6038488848095744)\n",
      "\n",
      "topic 9\n",
      "(0.6346131593454629, 0.5997828347214931)\n",
      "\n"
     ]
    }
   ],
   "source": [
    "for i in range(10):\n",
    "    print('topic', i)\n",
    "    print(compute_sim_docs(distance_matrix, i, doc_topics))\n",
    "    print()"
   ]
  },
  {
   "cell_type": "markdown",
   "metadata": {},
   "source": [
    "There's not much difference between inter-topic similarity and intra-topic similarity?"
   ]
  },
  {
   "cell_type": "markdown",
   "metadata": {},
   "source": [
    "---\n",
    "Let's do the same for terms."
   ]
  },
  {
   "cell_type": "markdown",
   "metadata": {},
   "source": [
    "### Build word2vec model"
   ]
  },
  {
   "cell_type": "code",
   "execution_count": 13,
   "metadata": {},
   "outputs": [],
   "source": [
    "def split_sentences(text):\n",
    "    tokens = spa(text)\n",
    "    return [sent.string.strip() for sent in tokens.sents]        "
   ]
  },
  {
   "cell_type": "code",
   "execution_count": 14,
   "metadata": {},
   "outputs": [
    {
     "data": {
      "text/plain": [
       "(2748,\n",
       " ['hundred',\n",
       "  'people',\n",
       "  'forced',\n",
       "  'vacate',\n",
       "  'home',\n",
       "  'southern',\n",
       "  'highland',\n",
       "  'new',\n",
       "  'south',\n",
       "  'wale',\n",
       "  'strong',\n",
       "  'wind',\n",
       "  'today',\n",
       "  'pushed',\n",
       "  'huge',\n",
       "  'bushfire',\n",
       "  'towards',\n",
       "  'town',\n",
       "  'hill',\n",
       "  'top'])"
      ]
     },
     "execution_count": 14,
     "metadata": {},
     "output_type": "execute_result"
    }
   ],
   "source": [
    "sentences = nlp.preprocess(split_sentences('. '.join(data)))\n",
    "len(sentences), sentences[0]"
   ]
  },
  {
   "cell_type": "code",
   "execution_count": 15,
   "metadata": {},
   "outputs": [],
   "source": [
    "def build_word2vec_model(sentences):\n",
    "    return Word2Vec(sentences, iter=100)"
   ]
  },
  {
   "cell_type": "code",
   "execution_count": 16,
   "metadata": {},
   "outputs": [],
   "source": [
    "model = build_doc2vec_model(sentences).wv"
   ]
  },
  {
   "cell_type": "code",
   "execution_count": 18,
   "metadata": {},
   "outputs": [],
   "source": [
    "def cos_sim(a, b):\n",
    "    'Return cosine similarity between two given numpy arrays.'\n",
    "    return np.dot(a, b) / (np.linalg.norm(a) * np.linalg.norm(b))\n",
    "\n",
    "def compute_sim_terms(wv, topic_id, lda):\n",
    "    'Return average similarity between pairs of terms within a topic.'\n",
    "    terms = [lda.id2word[t] for t, p in lda.get_topic_terms(topic_id, topn=5)]\n",
    "    return np.mean([wv.similarity(a, b) for (a, b) in combinations(terms, 2)])"
   ]
  },
  {
   "cell_type": "code",
   "execution_count": 19,
   "metadata": {
    "scrolled": true
   },
   "outputs": [
    {
     "data": {
      "text/plain": [
       "0.32842490424315607"
      ]
     },
     "execution_count": 19,
     "metadata": {},
     "output_type": "execute_result"
    }
   ],
   "source": [
    "compute_sim_terms(model, 0, lda)"
   ]
  },
  {
   "cell_type": "code",
   "execution_count": 20,
   "metadata": {},
   "outputs": [],
   "source": [
    "def compute_sim_dict(wv, terms):\n",
    "    'Return the average similarity between all pairs of words in the dictionary.'\n",
    "    return np.mean([wv.similarity(a, b) for (a, b) in combinations(terms, 2)])"
   ]
  },
  {
   "cell_type": "code",
   "execution_count": 21,
   "metadata": {},
   "outputs": [
    {
     "data": {
      "text/plain": [
       "0.05718774660041884"
      ]
     },
     "execution_count": 21,
     "metadata": {},
     "output_type": "execute_result"
    }
   ],
   "source": [
    "compute_sim_dict(model, list(model.vocab.keys()))"
   ]
  },
  {
   "cell_type": "markdown",
   "metadata": {},
   "source": [
    "Looks promising! The average of term similarity in the entire dictionary is much smaller than that in a given topic. Let's look at t-sne projection."
   ]
  },
  {
   "cell_type": "code",
   "execution_count": 22,
   "metadata": {},
   "outputs": [],
   "source": [
    "wordvecs = np.concatenate([model[t].reshape(1, -1) for t in model.vocab])"
   ]
  },
  {
   "cell_type": "markdown",
   "metadata": {},
   "source": [
    "#### Find the strongest topic for each term"
   ]
  },
  {
   "cell_type": "code",
   "execution_count": 23,
   "metadata": {},
   "outputs": [],
   "source": [
    "from collections import defaultdict\n",
    "\n",
    "def find_strongest_topics(lda, vocab):\n",
    "    'Return the strongest topic associated with each term in the vocab (the dictionary of word2vec).'\n",
    "    lookup = defaultdict(lambda: -1)    \n",
    "    for t in lda.id2word:\n",
    "        topics = lda.get_term_topics(t)\n",
    "        if topics:\n",
    "            lookup[lda.id2word[t]] = topics[0][0]\n",
    "\n",
    "    return [lookup[t] for t in model.vocab]"
   ]
  },
  {
   "cell_type": "code",
   "execution_count": 24,
   "metadata": {},
   "outputs": [
    {
     "data": {
      "text/plain": [
       "772"
      ]
     },
     "execution_count": 24,
     "metadata": {},
     "output_type": "execute_result"
    }
   ],
   "source": [
    "term_topics = find_strongest_topics(lda, model.vocab)\n",
    "len(term_topics)"
   ]
  },
  {
   "cell_type": "code",
   "execution_count": 25,
   "metadata": {},
   "outputs": [
    {
     "data": {
      "image/png": "[encoded data removed]",
      "text/plain": [
       "<matplotlib.figure.Figure at 0x11f26e5f8>"
      ]
     },
     "metadata": {},
     "output_type": "display_data"
    }
   ],
   "source": [
    "plot_tsne(wordvecs, term_topics)"
   ]
  }
 ],
 "metadata": {
  "kernelspec": {
   "display_name": "Python 3",
   "language": "python",
   "name": "python3"
  },
  "language_info": {
   "codemirror_mode": {
    "name": "ipython",
    "version": 3
   },
   "file_extension": ".py",
   "mimetype": "text/x-python",
   "name": "python",
   "nbconvert_exporter": "python",
   "pygments_lexer": "ipython3",
   "version": "3.6.4"
  },
  "toc": {
   "base_numbering": 1,
   "nav_menu": {},
   "number_sections": true,
   "sideBar": true,
   "skip_h1_title": true,
   "title_cell": "Contents",
   "title_sidebar": "Contents",
   "toc_cell": true,
   "toc_position": {},
   "toc_section_display": true,
   "toc_window_display": true
  }
 },
 "nbformat": 4,
 "nbformat_minor": 2
}
