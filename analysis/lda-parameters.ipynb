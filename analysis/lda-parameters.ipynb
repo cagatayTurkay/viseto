{
 "cells": [
  {
   "cell_type": "markdown",
   "metadata": {},
   "source": [
    "# LDA Topic Models with Varying Parameters"
   ]
  },
  {
   "cell_type": "markdown",
   "metadata": {},
   "source": [
    "*Apply LDA with different values of alpha and beta parameters. Export the models for visualisation.*"
   ]
  },
  {
   "cell_type": "code",
   "execution_count": 1,
   "metadata": {},
   "outputs": [],
   "source": [
    "import nlp\n",
    "import json"
   ]
  },
  {
   "cell_type": "markdown",
   "metadata": {},
   "source": [
    "### Load and clean the data"
   ]
  },
  {
   "cell_type": "code",
   "execution_count": 2,
   "metadata": {},
   "outputs": [
    {
     "data": {
      "text/plain": [
       "(300,\n",
       " 'Hundreds of people have been forced to vacate their homes in the Southern Highlands of New South Wales as strong winds today pushed a huge bushfire towards the town of Hill Top. A new blaze near Goulburn, south-west of Sydney, has forced the closure of the Hume Highway. At about 4:00pm AEDT, a marked deterioration in the weather as a storm cell moved east across the Blue Mountains forced authorities to make a decision to evacuate people from homes in outlying streets at Hill Top in the New South Wales southern highlands. An estimated 500 residents have left their homes for nearby Mittagong. The New South Wales Rural Fire Service says the weather conditions which caused the fire to burn in a finger formation have now eased and about 60 fire units in and around Hill Top are optimistic of defending all properties. As more than 100 blazes burn on New Year\\'s Eve in New South Wales, fire crews have been called to new fire at Gunning, south of Goulburn. While few details are available at this stage, fire authorities says it has closed the Hume Highway in both directions. Meanwhile, a new fire in Sydney\\'s west is no longer threatening properties in the Cranebrook area. Rain has fallen in some parts of the Illawarra, Sydney, the Hunter Valley and the north coast. But the Bureau of Meteorology\\'s Claire Richards says the rain has done little to ease any of the hundred fires still burning across the state. \"The falls have been quite isolated in those areas and generally the falls have been less than about five millimetres,\" she said. \"In some places really not significant at all, less than a millimetre, so there hasn\\'t been much relief as far as rain is concerned. \"In fact, they\\'ve probably hampered the efforts of the firefighters more because of the wind gusts that are associated with those thunderstorms.\"',\n",
       " ['hundred',\n",
       "  'people',\n",
       "  'forced',\n",
       "  'vacate',\n",
       "  'home',\n",
       "  'southern',\n",
       "  'highland',\n",
       "  'new',\n",
       "  'south',\n",
       "  'wale',\n",
       "  'strong',\n",
       "  'wind',\n",
       "  'today',\n",
       "  'pushed',\n",
       "  'huge',\n",
       "  'bushfire',\n",
       "  'towards',\n",
       "  'town',\n",
       "  'hill',\n",
       "  'top',\n",
       "  'new',\n",
       "  'blaze',\n",
       "  'near',\n",
       "  'goulburn',\n",
       "  'southwest',\n",
       "  'sydney',\n",
       "  'forced',\n",
       "  'closure',\n",
       "  'hume',\n",
       "  'highway',\n",
       "  '400pm',\n",
       "  'aedt',\n",
       "  'marked',\n",
       "  'deterioration',\n",
       "  'weather',\n",
       "  'storm',\n",
       "  'cell',\n",
       "  'moved',\n",
       "  'east',\n",
       "  'across',\n",
       "  'blue',\n",
       "  'mountain',\n",
       "  'forced',\n",
       "  'authority',\n",
       "  'make',\n",
       "  'decision',\n",
       "  'evacuate',\n",
       "  'people',\n",
       "  'home',\n",
       "  'outlying',\n",
       "  'street',\n",
       "  'hill',\n",
       "  'top',\n",
       "  'new',\n",
       "  'south',\n",
       "  'wale',\n",
       "  'southern',\n",
       "  'highland',\n",
       "  'estimated',\n",
       "  '500',\n",
       "  'resident',\n",
       "  'left',\n",
       "  'home',\n",
       "  'nearby',\n",
       "  'mittagong',\n",
       "  'new',\n",
       "  'south',\n",
       "  'wale',\n",
       "  'rural',\n",
       "  'fire',\n",
       "  'service',\n",
       "  'say',\n",
       "  'weather',\n",
       "  'condition',\n",
       "  'caused',\n",
       "  'fire',\n",
       "  'burn',\n",
       "  'finger',\n",
       "  'formation',\n",
       "  'eased',\n",
       "  'fire',\n",
       "  'unit',\n",
       "  'around',\n",
       "  'hill',\n",
       "  'top',\n",
       "  'optimistic',\n",
       "  'defending',\n",
       "  'property',\n",
       "  '100',\n",
       "  'blaze',\n",
       "  'burn',\n",
       "  'new',\n",
       "  'year',\n",
       "  'eve',\n",
       "  'new',\n",
       "  'south',\n",
       "  'wale',\n",
       "  'fire',\n",
       "  'crew',\n",
       "  'called',\n",
       "  'new',\n",
       "  'fire',\n",
       "  'gunning',\n",
       "  'south',\n",
       "  'goulburn',\n",
       "  'detail',\n",
       "  'available',\n",
       "  'stage',\n",
       "  'fire',\n",
       "  'authority',\n",
       "  'say',\n",
       "  'closed',\n",
       "  'hume',\n",
       "  'highway',\n",
       "  'direction',\n",
       "  'meanwhile',\n",
       "  'new',\n",
       "  'fire',\n",
       "  'sydney',\n",
       "  'west',\n",
       "  'longer',\n",
       "  'threatening',\n",
       "  'property',\n",
       "  'cranebrook',\n",
       "  'area',\n",
       "  'rain',\n",
       "  'fallen',\n",
       "  'part',\n",
       "  'illawarra',\n",
       "  'sydney',\n",
       "  'hunter',\n",
       "  'valley',\n",
       "  'north',\n",
       "  'coast',\n",
       "  'bureau',\n",
       "  'meteorology',\n",
       "  'claire',\n",
       "  'richards',\n",
       "  'say',\n",
       "  'rain',\n",
       "  'done',\n",
       "  'little',\n",
       "  'ease',\n",
       "  'hundred',\n",
       "  'fire',\n",
       "  'still',\n",
       "  'burning',\n",
       "  'across',\n",
       "  'state',\n",
       "  'fall',\n",
       "  'quite',\n",
       "  'isolated',\n",
       "  'area',\n",
       "  'generally',\n",
       "  'fall',\n",
       "  'le',\n",
       "  'five',\n",
       "  'millimetre',\n",
       "  'said',\n",
       "  'place',\n",
       "  'really',\n",
       "  'significant',\n",
       "  'le',\n",
       "  'millimetre',\n",
       "  'hasnt',\n",
       "  'much',\n",
       "  'relief',\n",
       "  'far',\n",
       "  'rain',\n",
       "  'concerned',\n",
       "  'fact',\n",
       "  'theyve',\n",
       "  'probably',\n",
       "  'hampered',\n",
       "  'effort',\n",
       "  'firefighter',\n",
       "  'wind',\n",
       "  'gust',\n",
       "  'associated',\n",
       "  'thunderstorm'])"
      ]
     },
     "execution_count": 2,
     "metadata": {},
     "output_type": "execute_result"
    }
   ],
   "source": [
    "data = nlp.load_file('../data/lee.txt')\n",
    "docs = nlp.preprocess(data)\n",
    "len(data), data[0], docs[0]"
   ]
  },
  {
   "cell_type": "markdown",
   "metadata": {},
   "source": [
    "### Test with LDA "
   ]
  },
  {
   "cell_type": "code",
   "execution_count": 4,
   "metadata": {
    "scrolled": false
   },
   "outputs": [
    {
     "data": {
      "text/plain": [
       "[(0,\n",
       "  '0.009*\"say\" + 0.006*\"wicket\" + 0.006*\"said\" + 0.006*\"australia\" + 0.006*\"south\" + 0.005*\"day\" + 0.005*\"fire\" + 0.005*\"test\" + 0.005*\"new\" + 0.005*\"pakistan\"'),\n",
       " (1,\n",
       "  '0.013*\"said\" + 0.012*\"south\" + 0.009*\"fire\" + 0.009*\"new\" + 0.009*\"say\" + 0.008*\"sydney\" + 0.008*\"area\" + 0.006*\"state\" + 0.005*\"day\" + 0.005*\"wind\"'),\n",
       " (2,\n",
       "  '0.016*\"say\" + 0.007*\"centre\" + 0.007*\"said\" + 0.007*\"australia\" + 0.007*\"australian\" + 0.006*\"year\" + 0.005*\"detainee\" + 0.005*\"rate\" + 0.004*\"detention\" + 0.004*\"south\"'),\n",
       " (3,\n",
       "  '0.019*\"said\" + 0.007*\"say\" + 0.006*\"bin\" + 0.006*\"taliban\" + 0.005*\"force\" + 0.005*\"laden\" + 0.005*\"kandahar\" + 0.004*\"attack\" + 0.004*\"state\" + 0.004*\"also\"'),\n",
       " (4,\n",
       "  '0.020*\"say\" + 0.012*\"afghanistan\" + 0.012*\"said\" + 0.010*\"government\" + 0.010*\"australian\" + 0.009*\"force\" + 0.007*\"australia\" + 0.006*\"afghan\" + 0.006*\"bin\" + 0.006*\"people\"'),\n",
       " (5,\n",
       "  '0.020*\"palestinian\" + 0.015*\"said\" + 0.014*\"say\" + 0.012*\"israeli\" + 0.012*\"arafat\" + 0.007*\"attack\" + 0.007*\"israel\" + 0.006*\"hamas\" + 0.006*\"minister\" + 0.006*\"security\"'),\n",
       " (6,\n",
       "  '0.015*\"say\" + 0.008*\"australian\" + 0.007*\"australia\" + 0.006*\"said\" + 0.006*\"new\" + 0.005*\"airline\" + 0.004*\"zinni\" + 0.004*\"government\" + 0.004*\"state\" + 0.004*\"day\"'),\n",
       " (7,\n",
       "  '0.013*\"union\" + 0.012*\"said\" + 0.011*\"say\" + 0.010*\"worker\" + 0.009*\"commission\" + 0.009*\"company\" + 0.008*\"qantas\" + 0.006*\"industrial\" + 0.006*\"year\" + 0.005*\"action\"'),\n",
       " (8,\n",
       "  '0.010*\"said\" + 0.009*\"say\" + 0.007*\"metre\" + 0.007*\"new\" + 0.006*\"people\" + 0.005*\"year\" + 0.005*\"last\" + 0.004*\"first\" + 0.004*\"south\" + 0.004*\"space\"'),\n",
       " (9,\n",
       "  '0.011*\"said\" + 0.010*\"say\" + 0.009*\"official\" + 0.007*\"palestinian\" + 0.007*\"fire\" + 0.005*\"one\" + 0.005*\"two\" + 0.005*\"police\" + 0.005*\"building\" + 0.005*\"people\"')]"
      ]
     },
     "execution_count": 4,
     "metadata": {},
     "output_type": "execute_result"
    }
   ],
   "source": [
    "lda = nlp.build_lda(docs, num_topics=10)\n",
    "lda.print_topics()"
   ]
  },
  {
   "cell_type": "markdown",
   "metadata": {},
   "source": [
    "### Compute  and export data with varying number of topics\n",
    "Data output: a list of models\n",
    " - each model has a list of its topics\n",
    "   - each topic has a list of top 100 terms (term, probability)"
   ]
  },
  {
   "cell_type": "code",
   "execution_count": 45,
   "metadata": {},
   "outputs": [],
   "source": [
    "import math\n",
    "\n",
    "def mydiff(p, q):\n",
    "    total = 0\n",
    "    for i in range(len(p)):\n",
    "         total += (math.sqrt(p[i]) - math.sqrt(q[i])) ** 2\n",
    "    return math.sqrt(total) / math.sqrt(2)"
   ]
  },
  {
   "cell_type": "markdown",
   "metadata": {},
   "source": [
    "test"
   ]
  },
  {
   "cell_type": "code",
   "execution_count": 47,
   "metadata": {},
   "outputs": [
    {
     "name": "stdout",
     "output_type": "stream",
     "text": [
      "0.07495072700475026 0.4090592012983077 0.4265837569566741\n"
     ]
    }
   ],
   "source": [
    "p1 = [.1, .2, .3, .4]\n",
    "p2 = [.15, .25, .35, .45]\n",
    "p3 = [.01, .8, .1, .2]\n",
    "print(mydiff(p1, p2), mydiff(p1, p3), mydiff(p3, p2))"
   ]
  },
  {
   "cell_type": "code",
   "execution_count": 70,
   "metadata": {
    "collapsed": true
   },
   "outputs": [],
   "source": [
    "def get_topic_terms(lda, topic_id, topn):\n",
    "    return [(lda.id2word[t], float(format(p, '.3f'))) for t, p in lda.get_topic_terms(topic_id, topn=topn)]\n",
    "    \n",
    "def get_topics(corpus, dictionary, num_topics):\n",
    "    'Return the 100 most probable terms as an array of (term, probability) for each topic.'\n",
    "    lda = nlp.build_lda_with_corpus(corpus, dictionary, num_topics=num_topics)\n",
    "    print(str(num_topics) + ' topics: done')\n",
    "    return [get_topic_terms(lda, i, 100) for i in range(lda.num_topics)]\n",
    "\n",
    "def compute_and_export(corpus, dictionary, topic_range, outname):\n",
    "    data = [get_topics(corpus, dictionary, k) for k in topic_range]\n",
    "\n",
    "    with open(outname, 'w') as f:\n",
    "        json.dump(data, f)"
   ]
  },
  {
   "cell_type": "code",
   "execution_count": 71,
   "metadata": {
    "collapsed": true
   },
   "outputs": [],
   "source": [
    "corpus, dictionary = nlp.build_corpus_dictionary(docs)"
   ]
  },
  {
   "cell_type": "code",
   "execution_count": 72,
   "metadata": {},
   "outputs": [
    {
     "name": "stdout",
     "output_type": "stream",
     "text": [
      "1 topics: done\n",
      "2 topics: done\n",
      "3 topics: done\n",
      "4 topics: done\n",
      "5 topics: done\n",
      "6 topics: done\n",
      "7 topics: done\n",
      "8 topics: done\n",
      "9 topics: done\n",
      "10 topics: done\n",
      "11 topics: done\n",
      "12 topics: done\n",
      "13 topics: done\n",
      "14 topics: done\n",
      "15 topics: done\n",
      "16 topics: done\n",
      "17 topics: done\n",
      "18 topics: done\n",
      "19 topics: done\n",
      "20 topics: done\n"
     ]
    }
   ],
   "source": [
    "compute_and_export(corpus, dictionary, range(1, 21), '../data/lee-k-20topics.json')"
   ]
  },
  {
   "cell_type": "markdown",
   "metadata": {},
   "source": [
    "#### Get topics associated with documents"
   ]
  },
  {
   "cell_type": "code",
   "execution_count": 10,
   "metadata": {
    "collapsed": true
   },
   "outputs": [],
   "source": [
    "def get_topics_for_documents(lda, corpus):\n",
    "    'Return top 5 topic probabilities for each document in the given corpus.'\n",
    "    return [get_topics_for_one_document(lda, doc) for doc in corpus]\n",
    "\n",
    "def get_topics_for_one_document(lda, doc):\n",
    "    topics = sorted(lda.get_document_topics(doc, minimum_probability=10**-6), key = lambda x: -x[1])[:5]\n",
    "    return [float('{:.3f}'.format(p)) for (t, p) in topics]"
   ]
  },
  {
   "cell_type": "code",
   "execution_count": 11,
   "metadata": {},
   "outputs": [
    {
     "data": {
      "text/plain": [
       "[[0.394, 0.156, 0.074, 0.071, 0.063],\n",
       " [0.154, 0.137, 0.12, 0.113, 0.094],\n",
       " [0.125, 0.116, 0.109, 0.105, 0.1],\n",
       " [0.195, 0.113, 0.106, 0.103, 0.1],\n",
       " [0.17, 0.13, 0.128, 0.108, 0.08],\n",
       " [0.218, 0.115, 0.095, 0.095, 0.094],\n",
       " [0.259, 0.17, 0.124, 0.078, 0.071],\n",
       " [0.141, 0.118, 0.116, 0.107, 0.091],\n",
       " [0.464, 0.079, 0.067, 0.065, 0.063],\n",
       " [0.294, 0.087, 0.086, 0.084, 0.084]]"
      ]
     },
     "execution_count": 11,
     "metadata": {},
     "output_type": "execute_result"
    }
   ],
   "source": [
    "output_topics = get_topics_for_documents(lda, corpus)\n",
    "output_topics[:10]"
   ]
  },
  {
   "cell_type": "markdown",
   "metadata": {},
   "source": [
    "#### Find terms associated with topics "
   ]
  },
  {
   "cell_type": "code",
   "execution_count": 12,
   "metadata": {
    "collapsed": true
   },
   "outputs": [],
   "source": [
    "def get_terms_for_topics(lda):\n",
    "    'Return term probabilities for each topic. Only top 5 terms.'\n",
    "    return [get_terms_for_one_topic(lda, i) for i in range(lda.num_topics)]\n",
    "\n",
    "def get_terms_for_one_topic(lda, topic_id):\n",
    "    return [float('{:.3f}'.format(p)) for t, p in lda.get_topic_terms(topic_id, topn=5)]"
   ]
  },
  {
   "cell_type": "code",
   "execution_count": 13,
   "metadata": {},
   "outputs": [
    {
     "data": {
      "text/plain": [
       "[[0.02, 0.015, 0.015, 0.013, 0.011],\n",
       " [0.021, 0.011, 0.011, 0.01, 0.009],\n",
       " [0.017, 0.017, 0.008, 0.006, 0.004],\n",
       " [0.016, 0.009, 0.008, 0.006, 0.005],\n",
       " [0.019, 0.016, 0.01, 0.009, 0.008],\n",
       " [0.018, 0.01, 0.01, 0.009, 0.007],\n",
       " [0.01, 0.009, 0.009, 0.009, 0.007],\n",
       " [0.02, 0.013, 0.007, 0.006, 0.005],\n",
       " [0.017, 0.01, 0.009, 0.006, 0.006],\n",
       " [0.015, 0.014, 0.006, 0.006, 0.005]]"
      ]
     },
     "execution_count": 13,
     "metadata": {},
     "output_type": "execute_result"
    }
   ],
   "source": [
    "output_terms = get_terms_for_topics(lda)\n",
    "output_terms"
   ]
  },
  {
   "cell_type": "markdown",
   "metadata": {},
   "source": [
    "## Export Model Data"
   ]
  },
  {
   "cell_type": "code",
   "execution_count": 14,
   "metadata": {
    "collapsed": true
   },
   "outputs": [],
   "source": [
    "def export_model_data(corpus, alpha, beta):\n",
    "    'Return a dictionary detailing model parameters and probability matrices.'\n",
    "    lda = build_lda(corpus, alpha=alpha, eta=beta)\n",
    "    return {\n",
    "        'alpha': alpha,\n",
    "        'beta': beta,\n",
    "        'num_topics': lda.num_topics,\n",
    "        'doc_topics': get_topics_for_documents(lda, corpus),\n",
    "        'topic_terms': get_terms_for_topics(lda)\n",
    "    }"
   ]
  },
  {
   "cell_type": "code",
   "execution_count": 15,
   "metadata": {
    "collapsed": true
   },
   "outputs": [],
   "source": [
    "def save_file(data, filename):\n",
    "    with open(filename, 'w') as f:\n",
    "        json.dump(data, f)"
   ]
  },
  {
   "cell_type": "markdown",
   "metadata": {},
   "source": [
    "#### Different alpha values"
   ]
  },
  {
   "cell_type": "code",
   "execution_count": 16,
   "metadata": {
    "collapsed": true
   },
   "outputs": [],
   "source": [
    "def export_data(corpus, alphas, betas, filename):\n",
    "    data = [export_model_data(corpus, alpha, beta) for alpha in alphas for beta in betas]\n",
    "    save_file(data, filename)"
   ]
  },
  {
   "cell_type": "code",
   "execution_count": 17,
   "metadata": {},
   "outputs": [
    {
     "name": "stderr",
     "output_type": "stream",
     "text": [
      "/anaconda3/lib/python3.6/site-packages/gensim/models/ldamodel.py:775: RuntimeWarning: divide by zero encountered in log\n",
      "  diff = np.log(self.expElogbeta)\n"
     ]
    }
   ],
   "source": [
    "alphas = [0.01, 0.1, 1, 10]\n",
    "betas = [0.001, 0.01, 0.1, 1]\n",
    "export_data(corpus, alphas, betas, '../data/lee-params.json')"
   ]
  },
  {
   "cell_type": "markdown",
   "metadata": {},
   "source": [
    "---"
   ]
  },
  {
   "cell_type": "code",
   "execution_count": 19,
   "metadata": {
    "collapsed": true
   },
   "outputs": [],
   "source": [
    "%load_ext autoreload\n",
    "%autoreload 2"
   ]
  }
 ],
 "metadata": {
  "kernelspec": {
   "display_name": "Python 3",
   "language": "python",
   "name": "python3"
  },
  "language_info": {
   "codemirror_mode": {
    "name": "ipython",
    "version": 3
   },
   "file_extension": ".py",
   "mimetype": "text/x-python",
   "name": "python",
   "nbconvert_exporter": "python",
   "pygments_lexer": "ipython3",
   "version": "3.6.4"
  }
 },
 "nbformat": 4,
 "nbformat_minor": 2
}
