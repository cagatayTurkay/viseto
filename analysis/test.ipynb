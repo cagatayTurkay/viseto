{
 "cells": [
  {
   "cell_type": "markdown",
   "metadata": {},
   "source": [
    "# Experimental Space"
   ]
  },
  {
   "cell_type": "markdown",
   "metadata": {},
   "source": [
    "*Do some quick and dirty stuff to explore things.*"
   ]
  },
  {
   "cell_type": "code",
   "execution_count": 57,
   "metadata": {},
   "outputs": [],
   "source": [
    "import nlp\n",
    "import json"
   ]
  },
  {
   "cell_type": "markdown",
   "metadata": {},
   "source": [
    "### Load and clean the data"
   ]
  },
  {
   "cell_type": "code",
   "execution_count": 58,
   "metadata": {},
   "outputs": [
    {
     "data": {
      "text/plain": [
       "(300,\n",
       " 'Hundreds of people have been forced to vacate their homes in the Southern Highlands of New South Wales as strong winds today pushed a huge bushfire towards the town of Hill Top. A new blaze near Goulburn, south-west of Sydney, has forced the closure of the Hume Highway. At about 4:00pm AEDT, a marked deterioration in the weather as a storm cell moved east across the Blue Mountains forced authorities to make a decision to evacuate people from homes in outlying streets at Hill Top in the New South Wales southern highlands. An estimated 500 residents have left their homes for nearby Mittagong. The New South Wales Rural Fire Service says the weather conditions which caused the fire to burn in a finger formation have now eased and about 60 fire units in and around Hill Top are optimistic of defending all properties. As more than 100 blazes burn on New Year\\'s Eve in New South Wales, fire crews have been called to new fire at Gunning, south of Goulburn. While few details are available at this stage, fire authorities says it has closed the Hume Highway in both directions. Meanwhile, a new fire in Sydney\\'s west is no longer threatening properties in the Cranebrook area. Rain has fallen in some parts of the Illawarra, Sydney, the Hunter Valley and the north coast. But the Bureau of Meteorology\\'s Claire Richards says the rain has done little to ease any of the hundred fires still burning across the state. \"The falls have been quite isolated in those areas and generally the falls have been less than about five millimetres,\" she said. \"In some places really not significant at all, less than a millimetre, so there hasn\\'t been much relief as far as rain is concerned. \"In fact, they\\'ve probably hampered the efforts of the firefighters more because of the wind gusts that are associated with those thunderstorms.\"',\n",
       " ['hundred',\n",
       "  'people',\n",
       "  'forced',\n",
       "  'vacate',\n",
       "  'home',\n",
       "  'southern',\n",
       "  'highland',\n",
       "  'new',\n",
       "  'south',\n",
       "  'wale',\n",
       "  'strong',\n",
       "  'wind',\n",
       "  'today',\n",
       "  'pushed',\n",
       "  'huge',\n",
       "  'bushfire',\n",
       "  'towards',\n",
       "  'town',\n",
       "  'hill',\n",
       "  'top',\n",
       "  'new',\n",
       "  'blaze',\n",
       "  'near',\n",
       "  'goulburn',\n",
       "  'southwest',\n",
       "  'sydney',\n",
       "  'forced',\n",
       "  'closure',\n",
       "  'hume',\n",
       "  'highway',\n",
       "  '400pm',\n",
       "  'aedt',\n",
       "  'marked',\n",
       "  'deterioration',\n",
       "  'weather',\n",
       "  'storm',\n",
       "  'cell',\n",
       "  'moved',\n",
       "  'east',\n",
       "  'across',\n",
       "  'blue',\n",
       "  'mountain',\n",
       "  'forced',\n",
       "  'authority',\n",
       "  'make',\n",
       "  'decision',\n",
       "  'evacuate',\n",
       "  'people',\n",
       "  'home',\n",
       "  'outlying',\n",
       "  'street',\n",
       "  'hill',\n",
       "  'top',\n",
       "  'new',\n",
       "  'south',\n",
       "  'wale',\n",
       "  'southern',\n",
       "  'highland',\n",
       "  'estimated',\n",
       "  '500',\n",
       "  'resident',\n",
       "  'left',\n",
       "  'home',\n",
       "  'nearby',\n",
       "  'mittagong',\n",
       "  'new',\n",
       "  'south',\n",
       "  'wale',\n",
       "  'rural',\n",
       "  'fire',\n",
       "  'service',\n",
       "  'say',\n",
       "  'weather',\n",
       "  'condition',\n",
       "  'caused',\n",
       "  'fire',\n",
       "  'burn',\n",
       "  'finger',\n",
       "  'formation',\n",
       "  'eased',\n",
       "  'fire',\n",
       "  'unit',\n",
       "  'around',\n",
       "  'hill',\n",
       "  'top',\n",
       "  'optimistic',\n",
       "  'defending',\n",
       "  'property',\n",
       "  '100',\n",
       "  'blaze',\n",
       "  'burn',\n",
       "  'new',\n",
       "  'year',\n",
       "  'eve',\n",
       "  'new',\n",
       "  'south',\n",
       "  'wale',\n",
       "  'fire',\n",
       "  'crew',\n",
       "  'called',\n",
       "  'new',\n",
       "  'fire',\n",
       "  'gunning',\n",
       "  'south',\n",
       "  'goulburn',\n",
       "  'detail',\n",
       "  'available',\n",
       "  'stage',\n",
       "  'fire',\n",
       "  'authority',\n",
       "  'say',\n",
       "  'closed',\n",
       "  'hume',\n",
       "  'highway',\n",
       "  'direction',\n",
       "  'meanwhile',\n",
       "  'new',\n",
       "  'fire',\n",
       "  'sydney',\n",
       "  'west',\n",
       "  'longer',\n",
       "  'threatening',\n",
       "  'property',\n",
       "  'cranebrook',\n",
       "  'area',\n",
       "  'rain',\n",
       "  'fallen',\n",
       "  'part',\n",
       "  'illawarra',\n",
       "  'sydney',\n",
       "  'hunter',\n",
       "  'valley',\n",
       "  'north',\n",
       "  'coast',\n",
       "  'bureau',\n",
       "  'meteorology',\n",
       "  'claire',\n",
       "  'richards',\n",
       "  'say',\n",
       "  'rain',\n",
       "  'done',\n",
       "  'little',\n",
       "  'ease',\n",
       "  'hundred',\n",
       "  'fire',\n",
       "  'still',\n",
       "  'burning',\n",
       "  'across',\n",
       "  'state',\n",
       "  'fall',\n",
       "  'quite',\n",
       "  'isolated',\n",
       "  'area',\n",
       "  'generally',\n",
       "  'fall',\n",
       "  'le',\n",
       "  'five',\n",
       "  'millimetre',\n",
       "  'said',\n",
       "  'place',\n",
       "  'really',\n",
       "  'significant',\n",
       "  'le',\n",
       "  'millimetre',\n",
       "  'hasnt',\n",
       "  'much',\n",
       "  'relief',\n",
       "  'far',\n",
       "  'rain',\n",
       "  'concerned',\n",
       "  'fact',\n",
       "  'theyve',\n",
       "  'probably',\n",
       "  'hampered',\n",
       "  'effort',\n",
       "  'firefighter',\n",
       "  'wind',\n",
       "  'gust',\n",
       "  'associated',\n",
       "  'thunderstorm'])"
      ]
     },
     "execution_count": 58,
     "metadata": {},
     "output_type": "execute_result"
    }
   ],
   "source": [
    "data = nlp.load_file('../data/lee.txt')\n",
    "docs = nlp.preprocess(data)\n",
    "len(data), data[0], docs[0]"
   ]
  },
  {
   "cell_type": "markdown",
   "metadata": {},
   "source": [
    "### Test with LDA "
   ]
  },
  {
   "cell_type": "code",
   "execution_count": 59,
   "metadata": {
    "scrolled": false
   },
   "outputs": [
    {
     "data": {
      "text/plain": [
       "[(0,\n",
       "  '0.035*\"palestinian\" + 0.024*\"israeli\" + 0.020*\"arafat\" + 0.011*\"said\" + 0.011*\"gaza\" + 0.010*\"hamas\" + 0.009*\"israel\" + 0.007*\"west\" + 0.007*\"official\" + 0.007*\"suicide\"'),\n",
       " (1,\n",
       "  '0.018*\"say\" + 0.012*\"south\" + 0.009*\"australia\" + 0.009*\"new\" + 0.009*\"fire\" + 0.007*\"test\" + 0.006*\"said\" + 0.005*\"year\" + 0.004*\"wale\" + 0.004*\"sydney\"'),\n",
       " (2,\n",
       "  '0.017*\"say\" + 0.013*\"said\" + 0.007*\"australian\" + 0.006*\"year\" + 0.004*\"per\" + 0.004*\"australia\" + 0.004*\"could\" + 0.004*\"child\" + 0.004*\"new\" + 0.004*\"cent\"'),\n",
       " (3,\n",
       "  '0.015*\"said\" + 0.010*\"say\" + 0.007*\"attack\" + 0.006*\"palestinian\" + 0.005*\"state\" + 0.005*\"one\" + 0.005*\"two\" + 0.005*\"metre\" + 0.004*\"last\" + 0.004*\"first\"'),\n",
       " (4,\n",
       "  '0.016*\"said\" + 0.016*\"say\" + 0.012*\"afghanistan\" + 0.011*\"force\" + 0.011*\"government\" + 0.008*\"bin\" + 0.007*\"qaeda\" + 0.006*\"laden\" + 0.006*\"taliban\" + 0.006*\"afghan\"'),\n",
       " (5,\n",
       "  '0.017*\"say\" + 0.014*\"union\" + 0.011*\"worker\" + 0.010*\"qantas\" + 0.008*\"said\" + 0.008*\"australian\" + 0.006*\"industrial\" + 0.006*\"two\" + 0.005*\"commission\" + 0.005*\"action\"'),\n",
       " (6,\n",
       "  '0.009*\"test\" + 0.009*\"new\" + 0.009*\"day\" + 0.008*\"south\" + 0.008*\"first\" + 0.007*\"say\" + 0.007*\"said\" + 0.007*\"australia\" + 0.005*\"wicket\" + 0.005*\"two\"'),\n",
       " (7,\n",
       "  '0.016*\"said\" + 0.012*\"say\" + 0.007*\"people\" + 0.006*\"fire\" + 0.005*\"attack\" + 0.005*\"hollingworth\" + 0.005*\"statement\" + 0.004*\"governorgeneral\" + 0.004*\"new\" + 0.004*\"abuse\"'),\n",
       " (8,\n",
       "  '0.015*\"people\" + 0.011*\"say\" + 0.010*\"said\" + 0.007*\"australian\" + 0.006*\"australia\" + 0.006*\"police\" + 0.005*\"minister\" + 0.005*\"south\" + 0.005*\"storm\" + 0.005*\"state\"'),\n",
       " (9,\n",
       "  '0.008*\"say\" + 0.006*\"said\" + 0.005*\"wind\" + 0.004*\"yacht\" + 0.004*\"hour\" + 0.004*\"zimbabwe\" + 0.004*\"commonwealth\" + 0.004*\"new\" + 0.004*\"area\" + 0.004*\"today\"')]"
      ]
     },
     "execution_count": 59,
     "metadata": {},
     "output_type": "execute_result"
    }
   ],
   "source": [
    "lda = nlp.build_lda(docs, num_topics=10)\n",
    "lda.print_topics()"
   ]
  },
  {
   "cell_type": "markdown",
   "metadata": {},
   "source": [
    "### Explore topic coherence"
   ]
  },
  {
   "cell_type": "markdown",
   "metadata": {},
   "source": [
    "I want to compute [UMass](https://aclanthology.info/pdf/D/D11/D11-1024.pdf) term coherence. `gensim` provides topic coherence as an average of coherence between terms, but doesn't provide API for coherence of pairs of terms. But I can use this to validate against my calculation."
   ]
  },
  {
   "cell_type": "code",
   "execution_count": 60,
   "metadata": {},
   "outputs": [],
   "source": [
    "from gensim.models import CoherenceModel\n",
    "\n",
    "corpus, dictionary = nlp.build_corpus_dictionary(docs)\n",
    "topic = ['palestinian', 'israeli', 'arafat']\n",
    "cm = CoherenceModel(model=lda, topics=[topic], corpus=corpus, dictionary=dictionary, coherence='u_mass')"
   ]
  },
  {
   "cell_type": "code",
   "execution_count": 61,
   "metadata": {},
   "outputs": [
    {
     "data": {
      "text/plain": [
       "[-0.15413790323070112]"
      ]
     },
     "execution_count": 61,
     "metadata": {},
     "output_type": "execute_result"
    }
   ],
   "source": [
    "cm.get_coherence_per_topic()"
   ]
  },
  {
   "cell_type": "code",
   "execution_count": 62,
   "metadata": {},
   "outputs": [
    {
     "data": {
      "text/plain": [
       "(29, 27, 25, 26, 25, 22)"
      ]
     },
     "execution_count": 62,
     "metadata": {},
     "output_type": "execute_result"
    }
   ],
   "source": [
    "d0 = len([1 for doc in docs if topic[0] in doc])\n",
    "d1 = len([1 for doc in docs if topic[1] in doc])\n",
    "d2 = len([1 for doc in docs if topic[2] in doc])\n",
    "d01 = len([1 for doc in docs if topic[0] in doc and topic[1] in doc])\n",
    "d02 = len([1 for doc in docs if topic[0] in doc and topic[2] in doc])\n",
    "d12 = len([1 for doc in docs if topic[1] in doc and topic[2] in doc])\n",
    "d0, d1, d2, d01, d02, d12"
   ]
  },
  {
   "cell_type": "code",
   "execution_count": 85,
   "metadata": {},
   "outputs": [
    {
     "data": {
      "text/plain": [
       "-0.15413790323070112"
      ]
     },
     "execution_count": 85,
     "metadata": {},
     "output_type": "execute_result"
    }
   ],
   "source": [
    "import math\n",
    "e = 1e-12\n",
    "\n",
    "t01 = math.log((d01 / len(docs) + e) / (d0 / len(docs)))\n",
    "t02 = math.log((d02 / len(docs) + e) / (d0 / len(docs)))\n",
    "t12 = math.log((d12 / len(docs) + e) / (d1 / len(docs)))\n",
    "(t01 + t02 + t12) / 3"
   ]
  },
  {
   "cell_type": "markdown",
   "metadata": {},
   "source": [
    "Excellent! Now, I can move on to compute coherence between any terms."
   ]
  },
  {
   "cell_type": "code",
   "execution_count": 81,
   "metadata": {},
   "outputs": [],
   "source": [
    "from itertools import combinations\n",
    "    \n",
    "def count(terms, docs):\n",
    "    'Count the number of documents that contain all the terms.'\n",
    "    return len([1 for doc in docs if all(term in doc for term in terms)])\n",
    "\n",
    "def compute_terms_conherences(terms, docs):\n",
    "    'Return a dict of (term1, term2): coherence.'\n",
    "    one_dict = {term: count([term], docs) for term in terms}\n",
    "    coherences = {}\n",
    "    \n",
    "    for t1, t2 in combinations(terms, 2):\n",
    "        c = math.log((count([t1, t2], docs) / len(docs) + e) / (one_dict[t1] / len(docs)))\n",
    "        coherences[(t1, t2)] = c\n",
    "\n",
    "    return coherences"
   ]
  },
  {
   "cell_type": "code",
   "execution_count": 88,
   "metadata": {},
   "outputs": [
    {
     "data": {
      "text/plain": [
       "{('arafat', 'phong'): -25.14611446614055,\n",
       " ('israeli', 'arafat'): -0.20479441263237677,\n",
       " ('israeli', 'phong'): -25.223075507276675,\n",
       " ('palestinian', 'arafat'): -0.1484200051062732,\n",
       " ('palestinian', 'israeli'): -0.10919929195345338,\n",
       " ('palestinian', 'phong'): -25.29453447125882}"
      ]
     },
     "execution_count": 88,
     "metadata": {},
     "output_type": "execute_result"
    }
   ],
   "source": [
    "terms = ['palestinian', 'israeli', 'arafat', 'phong']\n",
    "compute_terms_conherences(terms, docs)"
   ]
  },
  {
   "cell_type": "code",
   "execution_count": 71,
   "metadata": {},
   "outputs": [],
   "source": []
  },
  {
   "cell_type": "code",
   "execution_count": 72,
   "metadata": {},
   "outputs": [
    {
     "data": {
      "text/plain": [
       "22"
      ]
     },
     "execution_count": 72,
     "metadata": {},
     "output_type": "execute_result"
    }
   ],
   "source": [
    "count(terms, docs)"
   ]
  },
  {
   "cell_type": "markdown",
   "metadata": {},
   "source": [
    "---"
   ]
  },
  {
   "cell_type": "code",
   "execution_count": 4,
   "metadata": {},
   "outputs": [],
   "source": [
    "%load_ext autoreload\n",
    "%autoreload 2"
   ]
  }
 ],
 "metadata": {
  "kernelspec": {
   "display_name": "Python 3",
   "language": "python",
   "name": "python3"
  },
  "language_info": {
   "codemirror_mode": {
    "name": "ipython",
    "version": 3
   },
   "file_extension": ".py",
   "mimetype": "text/x-python",
   "name": "python",
   "nbconvert_exporter": "python",
   "pygments_lexer": "ipython3",
   "version": "3.6.4"
  }
 },
 "nbformat": 4,
 "nbformat_minor": 2
}
