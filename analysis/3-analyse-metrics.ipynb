{
 "cells": [
  {
   "cell_type": "markdown",
   "metadata": {},
   "source": [
    "# Analysing topic model evaluation metrics"
   ]
  },
  {
   "cell_type": "code",
   "execution_count": 47,
   "metadata": {
    "collapsed": true
   },
   "outputs": [],
   "source": [
    "import json\n",
    "\n",
    "import pandas as pd\n",
    "import seaborn as sns\n",
    "import matplotlib.pyplot as plt\n",
    "%matplotlib inline \n",
    "\n",
    "from sklearn import manifold\n",
    "from sklearn.preprocessing import MinMaxScaler\n",
    "\n",
    "metric_names = ['c_npmi', 'c_uci', 'c_v', 'c_w2v', 'perplexity', 'u_mass']\n",
    "param_names = ['alpha', 'beta', 'num_topics']"
   ]
  },
  {
   "cell_type": "markdown",
   "metadata": {},
   "source": [
    "### Load saved metrics"
   ]
  },
  {
   "cell_type": "code",
   "execution_count": 7,
   "metadata": {},
   "outputs": [
    {
     "data": {
      "text/html": [
       "<div>\n",
       "<style>\n",
       "    .dataframe thead tr:only-child th {\n",
       "        text-align: right;\n",
       "    }\n",
       "\n",
       "    .dataframe thead th {\n",
       "        text-align: left;\n",
       "    }\n",
       "\n",
       "    .dataframe tbody tr th {\n",
       "        vertical-align: top;\n",
       "    }\n",
       "</style>\n",
       "<table border=\"1\" class=\"dataframe\">\n",
       "  <thead>\n",
       "    <tr style=\"text-align: right;\">\n",
       "      <th></th>\n",
       "      <th>alpha</th>\n",
       "      <th>beta</th>\n",
       "      <th>c_npmi</th>\n",
       "      <th>c_uci</th>\n",
       "      <th>c_v</th>\n",
       "      <th>c_w2v</th>\n",
       "      <th>coords</th>\n",
       "      <th>num_topics</th>\n",
       "      <th>perplexity</th>\n",
       "      <th>u_mass</th>\n",
       "    </tr>\n",
       "  </thead>\n",
       "  <tbody>\n",
       "    <tr>\n",
       "      <th>0</th>\n",
       "      <td>0.01</td>\n",
       "      <td>0.01</td>\n",
       "      <td>-0.003759</td>\n",
       "      <td>-1.836443</td>\n",
       "      <td>0.449097</td>\n",
       "      <td>0.998124</td>\n",
       "      <td>[0.3720097152748205, 1.0813154600300736]</td>\n",
       "      <td>5</td>\n",
       "      <td>-6.246609</td>\n",
       "      <td>-2.393090</td>\n",
       "    </tr>\n",
       "    <tr>\n",
       "      <th>1</th>\n",
       "      <td>0.01</td>\n",
       "      <td>0.01</td>\n",
       "      <td>-0.037455</td>\n",
       "      <td>-2.854046</td>\n",
       "      <td>0.470005</td>\n",
       "      <td>0.998854</td>\n",
       "      <td>[0.14137447541242126, 0.09896699150563214]</td>\n",
       "      <td>10</td>\n",
       "      <td>-6.302226</td>\n",
       "      <td>-2.233028</td>\n",
       "    </tr>\n",
       "    <tr>\n",
       "      <th>2</th>\n",
       "      <td>0.01</td>\n",
       "      <td>0.01</td>\n",
       "      <td>-0.059600</td>\n",
       "      <td>-3.329506</td>\n",
       "      <td>0.433467</td>\n",
       "      <td>0.998855</td>\n",
       "      <td>[-0.03094414892392135, -0.41066024722653116]</td>\n",
       "      <td>15</td>\n",
       "      <td>-6.363658</td>\n",
       "      <td>-2.439774</td>\n",
       "    </tr>\n",
       "    <tr>\n",
       "      <th>3</th>\n",
       "      <td>0.01</td>\n",
       "      <td>0.01</td>\n",
       "      <td>-0.075871</td>\n",
       "      <td>-3.677816</td>\n",
       "      <td>0.412369</td>\n",
       "      <td>0.998948</td>\n",
       "      <td>[-0.18770661151304485, -0.7328761790098938]</td>\n",
       "      <td>20</td>\n",
       "      <td>-6.402373</td>\n",
       "      <td>-2.509307</td>\n",
       "    </tr>\n",
       "    <tr>\n",
       "      <th>4</th>\n",
       "      <td>0.01</td>\n",
       "      <td>0.10</td>\n",
       "      <td>-0.008113</td>\n",
       "      <td>-2.012630</td>\n",
       "      <td>0.449335</td>\n",
       "      <td>0.998335</td>\n",
       "      <td>[0.2417932688714692, 0.9375419503545677]</td>\n",
       "      <td>5</td>\n",
       "      <td>-6.038808</td>\n",
       "      <td>-2.413199</td>\n",
       "    </tr>\n",
       "  </tbody>\n",
       "</table>\n",
       "</div>"
      ],
      "text/plain": [
       "   alpha  beta    c_npmi     c_uci       c_v     c_w2v  \\\n",
       "0   0.01  0.01 -0.003759 -1.836443  0.449097  0.998124   \n",
       "1   0.01  0.01 -0.037455 -2.854046  0.470005  0.998854   \n",
       "2   0.01  0.01 -0.059600 -3.329506  0.433467  0.998855   \n",
       "3   0.01  0.01 -0.075871 -3.677816  0.412369  0.998948   \n",
       "4   0.01  0.10 -0.008113 -2.012630  0.449335  0.998335   \n",
       "\n",
       "                                         coords  num_topics  perplexity  \\\n",
       "0      [0.3720097152748205, 1.0813154600300736]           5   -6.246609   \n",
       "1    [0.14137447541242126, 0.09896699150563214]          10   -6.302226   \n",
       "2  [-0.03094414892392135, -0.41066024722653116]          15   -6.363658   \n",
       "3   [-0.18770661151304485, -0.7328761790098938]          20   -6.402373   \n",
       "4      [0.2417932688714692, 0.9375419503545677]           5   -6.038808   \n",
       "\n",
       "     u_mass  \n",
       "0 -2.393090  \n",
       "1 -2.233028  \n",
       "2 -2.439774  \n",
       "3 -2.509307  \n",
       "4 -2.413199  "
      ]
     },
     "execution_count": 7,
     "metadata": {},
     "output_type": "execute_result"
    }
   ],
   "source": [
    "with open('../data/lee-metrics.json') as f:\n",
    "    models = json.load(f)\n",
    "\n",
    "df = pd.DataFrame(models)\n",
    "df.head()"
   ]
  },
  {
   "cell_type": "markdown",
   "metadata": {},
   "source": [
    "### Add ranks of absolute metric values"
   ]
  },
  {
   "cell_type": "code",
   "execution_count": 21,
   "metadata": {},
   "outputs": [
    {
     "data": {
      "text/html": [
       "<div>\n",
       "<style>\n",
       "    .dataframe thead tr:only-child th {\n",
       "        text-align: right;\n",
       "    }\n",
       "\n",
       "    .dataframe thead th {\n",
       "        text-align: left;\n",
       "    }\n",
       "\n",
       "    .dataframe tbody tr th {\n",
       "        vertical-align: top;\n",
       "    }\n",
       "</style>\n",
       "<table border=\"1\" class=\"dataframe\">\n",
       "  <thead>\n",
       "    <tr style=\"text-align: right;\">\n",
       "      <th></th>\n",
       "      <th>alpha</th>\n",
       "      <th>beta</th>\n",
       "      <th>c_npmi</th>\n",
       "      <th>c_uci</th>\n",
       "      <th>c_v</th>\n",
       "      <th>c_w2v</th>\n",
       "      <th>coords</th>\n",
       "      <th>num_topics</th>\n",
       "      <th>perplexity</th>\n",
       "      <th>u_mass</th>\n",
       "      <th>c_v-rank</th>\n",
       "      <th>c_uci-rank</th>\n",
       "      <th>c_npmi-rank</th>\n",
       "      <th>c_w2v-rank</th>\n",
       "      <th>perplexity-rank</th>\n",
       "      <th>u_mass-rank</th>\n",
       "      <th>mean_rank</th>\n",
       "      <th>best_rank</th>\n",
       "    </tr>\n",
       "  </thead>\n",
       "  <tbody>\n",
       "    <tr>\n",
       "      <th>0</th>\n",
       "      <td>0.01</td>\n",
       "      <td>0.01</td>\n",
       "      <td>-0.003759</td>\n",
       "      <td>-1.836443</td>\n",
       "      <td>0.449097</td>\n",
       "      <td>0.998124</td>\n",
       "      <td>[0.3720097152748205, 1.0813154600300736]</td>\n",
       "      <td>5</td>\n",
       "      <td>-6.246609</td>\n",
       "      <td>-2.393090</td>\n",
       "      <td>42.0</td>\n",
       "      <td>46.0</td>\n",
       "      <td>58.0</td>\n",
       "      <td>9.0</td>\n",
       "      <td>34.0</td>\n",
       "      <td>32.0</td>\n",
       "      <td>36.833333</td>\n",
       "      <td>58.0</td>\n",
       "    </tr>\n",
       "    <tr>\n",
       "      <th>1</th>\n",
       "      <td>0.01</td>\n",
       "      <td>0.01</td>\n",
       "      <td>-0.037455</td>\n",
       "      <td>-2.854046</td>\n",
       "      <td>0.470005</td>\n",
       "      <td>0.998854</td>\n",
       "      <td>[0.14137447541242126, 0.09896699150563214]</td>\n",
       "      <td>10</td>\n",
       "      <td>-6.302226</td>\n",
       "      <td>-2.233028</td>\n",
       "      <td>59.0</td>\n",
       "      <td>32.0</td>\n",
       "      <td>40.0</td>\n",
       "      <td>34.0</td>\n",
       "      <td>24.0</td>\n",
       "      <td>41.0</td>\n",
       "      <td>38.333333</td>\n",
       "      <td>59.0</td>\n",
       "    </tr>\n",
       "    <tr>\n",
       "      <th>2</th>\n",
       "      <td>0.01</td>\n",
       "      <td>0.01</td>\n",
       "      <td>-0.059600</td>\n",
       "      <td>-3.329506</td>\n",
       "      <td>0.433467</td>\n",
       "      <td>0.998855</td>\n",
       "      <td>[-0.03094414892392135, -0.41066024722653116]</td>\n",
       "      <td>15</td>\n",
       "      <td>-6.363658</td>\n",
       "      <td>-2.439774</td>\n",
       "      <td>36.0</td>\n",
       "      <td>24.0</td>\n",
       "      <td>24.0</td>\n",
       "      <td>35.0</td>\n",
       "      <td>20.0</td>\n",
       "      <td>20.0</td>\n",
       "      <td>26.500000</td>\n",
       "      <td>36.0</td>\n",
       "    </tr>\n",
       "    <tr>\n",
       "      <th>3</th>\n",
       "      <td>0.01</td>\n",
       "      <td>0.01</td>\n",
       "      <td>-0.075871</td>\n",
       "      <td>-3.677816</td>\n",
       "      <td>0.412369</td>\n",
       "      <td>0.998948</td>\n",
       "      <td>[-0.18770661151304485, -0.7328761790098938]</td>\n",
       "      <td>20</td>\n",
       "      <td>-6.402373</td>\n",
       "      <td>-2.509307</td>\n",
       "      <td>26.0</td>\n",
       "      <td>16.0</td>\n",
       "      <td>17.0</td>\n",
       "      <td>52.0</td>\n",
       "      <td>18.0</td>\n",
       "      <td>14.0</td>\n",
       "      <td>23.833333</td>\n",
       "      <td>52.0</td>\n",
       "    </tr>\n",
       "    <tr>\n",
       "      <th>4</th>\n",
       "      <td>0.01</td>\n",
       "      <td>0.10</td>\n",
       "      <td>-0.008113</td>\n",
       "      <td>-2.012630</td>\n",
       "      <td>0.449335</td>\n",
       "      <td>0.998335</td>\n",
       "      <td>[0.2417932688714692, 0.9375419503545677]</td>\n",
       "      <td>5</td>\n",
       "      <td>-6.038808</td>\n",
       "      <td>-2.413199</td>\n",
       "      <td>43.5</td>\n",
       "      <td>40.5</td>\n",
       "      <td>54.0</td>\n",
       "      <td>16.0</td>\n",
       "      <td>56.0</td>\n",
       "      <td>24.0</td>\n",
       "      <td>39.000000</td>\n",
       "      <td>56.0</td>\n",
       "    </tr>\n",
       "  </tbody>\n",
       "</table>\n",
       "</div>"
      ],
      "text/plain": [
       "   alpha  beta    c_npmi     c_uci       c_v     c_w2v  \\\n",
       "0   0.01  0.01 -0.003759 -1.836443  0.449097  0.998124   \n",
       "1   0.01  0.01 -0.037455 -2.854046  0.470005  0.998854   \n",
       "2   0.01  0.01 -0.059600 -3.329506  0.433467  0.998855   \n",
       "3   0.01  0.01 -0.075871 -3.677816  0.412369  0.998948   \n",
       "4   0.01  0.10 -0.008113 -2.012630  0.449335  0.998335   \n",
       "\n",
       "                                         coords  num_topics  perplexity  \\\n",
       "0      [0.3720097152748205, 1.0813154600300736]           5   -6.246609   \n",
       "1    [0.14137447541242126, 0.09896699150563214]          10   -6.302226   \n",
       "2  [-0.03094414892392135, -0.41066024722653116]          15   -6.363658   \n",
       "3   [-0.18770661151304485, -0.7328761790098938]          20   -6.402373   \n",
       "4      [0.2417932688714692, 0.9375419503545677]           5   -6.038808   \n",
       "\n",
       "     u_mass  c_v-rank  c_uci-rank  c_npmi-rank  c_w2v-rank  perplexity-rank  \\\n",
       "0 -2.393090      42.0        46.0         58.0         9.0             34.0   \n",
       "1 -2.233028      59.0        32.0         40.0        34.0             24.0   \n",
       "2 -2.439774      36.0        24.0         24.0        35.0             20.0   \n",
       "3 -2.509307      26.0        16.0         17.0        52.0             18.0   \n",
       "4 -2.413199      43.5        40.5         54.0        16.0             56.0   \n",
       "\n",
       "   u_mass-rank  mean_rank  best_rank  \n",
       "0         32.0  36.833333       58.0  \n",
       "1         41.0  38.333333       59.0  \n",
       "2         20.0  26.500000       36.0  \n",
       "3         14.0  23.833333       52.0  \n",
       "4         24.0  39.000000       56.0  "
      ]
     },
     "execution_count": 21,
     "metadata": {},
     "output_type": "execute_result"
    }
   ],
   "source": [
    "metric_names_with_ranks = [m + '-rank' for m in metric_names]\n",
    "df[metric_names_with_ranks] = df[metric_names].rank()\n",
    "df['mean_rank'] = df[metric_names_with_ranks].mean(axis=1)\n",
    "df['best_rank'] = df[metric_names_with_ranks].max(axis=1)\n",
    "df.head()"
   ]
  },
  {
   "cell_type": "markdown",
   "metadata": {},
   "source": [
    "### Project metrics into 2D space, color with mean rank"
   ]
  },
  {
   "cell_type": "code",
   "execution_count": 39,
   "metadata": {},
   "outputs": [
    {
     "data": {
      "text/plain": [
       "<matplotlib.collections.PathCollection at 0x1a23877d68>"
      ]
     },
     "execution_count": 39,
     "metadata": {},
     "output_type": "execute_result"
    },
    {
     "data": {
      "image/png": "[encoded data removed]",
      "text/plain": [
       "<matplotlib.figure.Figure at 0x1a236eb940>"
      ]
     },
     "metadata": {},
     "output_type": "display_data"
    }
   ],
   "source": [
    "coords = manifold.MDS(random_state=0).fit_transform(df[metric_names].values)\n",
    "plt.figure(figsize=(12,8))\n",
    "plt.scatter(coords[:,0], coords[:,1], s=50, c=df['mean_rank'], cmap='Reds')"
   ]
  },
  {
   "cell_type": "markdown",
   "metadata": {},
   "source": [
    "### Look at correlation between the metrics"
   ]
  },
  {
   "cell_type": "code",
   "execution_count": 40,
   "metadata": {},
   "outputs": [
    {
     "data": {
      "text/plain": [
       "<seaborn.axisgrid.PairGrid at 0x11a2e06a0>"
      ]
     },
     "execution_count": 40,
     "metadata": {},
     "output_type": "execute_result"
    },
    {
     "data": {
      "image/png": "[encoded data removed]",
      "text/plain": [
       "<matplotlib.figure.Figure at 0x11a2e06d8>"
      ]
     },
     "metadata": {},
     "output_type": "display_data"
    }
   ],
   "source": [
    "sns.pairplot(df[metric_names])"
   ]
  },
  {
   "cell_type": "markdown",
   "metadata": {},
   "source": [
    "Some are correlated, most are not. Let's look at the values, but using rank, or Spearman correlation."
   ]
  },
  {
   "cell_type": "code",
   "execution_count": 61,
   "metadata": {},
   "outputs": [
    {
     "data": {
      "text/html": [
       "<div>\n",
       "<style>\n",
       "    .dataframe thead tr:only-child th {\n",
       "        text-align: right;\n",
       "    }\n",
       "\n",
       "    .dataframe thead th {\n",
       "        text-align: left;\n",
       "    }\n",
       "\n",
       "    .dataframe tbody tr th {\n",
       "        vertical-align: top;\n",
       "    }\n",
       "</style>\n",
       "<table border=\"1\" class=\"dataframe\">\n",
       "  <thead>\n",
       "    <tr style=\"text-align: right;\">\n",
       "      <th></th>\n",
       "      <th>c_npmi</th>\n",
       "      <th>c_uci</th>\n",
       "      <th>c_v</th>\n",
       "      <th>c_w2v</th>\n",
       "      <th>perplexity</th>\n",
       "      <th>u_mass</th>\n",
       "    </tr>\n",
       "  </thead>\n",
       "  <tbody>\n",
       "    <tr>\n",
       "      <th>c_npmi</th>\n",
       "      <td>1.000000</td>\n",
       "      <td>0.842938</td>\n",
       "      <td>0.480465</td>\n",
       "      <td>-0.704014</td>\n",
       "      <td>0.328804</td>\n",
       "      <td>0.566836</td>\n",
       "    </tr>\n",
       "    <tr>\n",
       "      <th>c_uci</th>\n",
       "      <td>0.842938</td>\n",
       "      <td>1.000000</td>\n",
       "      <td>0.040365</td>\n",
       "      <td>-0.852933</td>\n",
       "      <td>0.011470</td>\n",
       "      <td>0.820094</td>\n",
       "    </tr>\n",
       "    <tr>\n",
       "      <th>c_v</th>\n",
       "      <td>0.480465</td>\n",
       "      <td>0.040365</td>\n",
       "      <td>1.000000</td>\n",
       "      <td>0.057488</td>\n",
       "      <td>0.564047</td>\n",
       "      <td>-0.102159</td>\n",
       "    </tr>\n",
       "    <tr>\n",
       "      <th>c_w2v</th>\n",
       "      <td>-0.704014</td>\n",
       "      <td>-0.852933</td>\n",
       "      <td>0.057488</td>\n",
       "      <td>1.000000</td>\n",
       "      <td>0.005907</td>\n",
       "      <td>-0.629424</td>\n",
       "    </tr>\n",
       "    <tr>\n",
       "      <th>perplexity</th>\n",
       "      <td>0.328804</td>\n",
       "      <td>0.011470</td>\n",
       "      <td>0.564047</td>\n",
       "      <td>0.005907</td>\n",
       "      <td>1.000000</td>\n",
       "      <td>-0.043363</td>\n",
       "    </tr>\n",
       "    <tr>\n",
       "      <th>u_mass</th>\n",
       "      <td>0.566836</td>\n",
       "      <td>0.820094</td>\n",
       "      <td>-0.102159</td>\n",
       "      <td>-0.629424</td>\n",
       "      <td>-0.043363</td>\n",
       "      <td>1.000000</td>\n",
       "    </tr>\n",
       "  </tbody>\n",
       "</table>\n",
       "</div>"
      ],
      "text/plain": [
       "              c_npmi     c_uci       c_v     c_w2v  perplexity    u_mass\n",
       "c_npmi      1.000000  0.842938  0.480465 -0.704014    0.328804  0.566836\n",
       "c_uci       0.842938  1.000000  0.040365 -0.852933    0.011470  0.820094\n",
       "c_v         0.480465  0.040365  1.000000  0.057488    0.564047 -0.102159\n",
       "c_w2v      -0.704014 -0.852933  0.057488  1.000000    0.005907 -0.629424\n",
       "perplexity  0.328804  0.011470  0.564047  0.005907    1.000000 -0.043363\n",
       "u_mass      0.566836  0.820094 -0.102159 -0.629424   -0.043363  1.000000"
      ]
     },
     "execution_count": 61,
     "metadata": {},
     "output_type": "execute_result"
    }
   ],
   "source": [
    "df[metric_names].corr('spearman')"
   ]
  },
  {
   "cell_type": "markdown",
   "metadata": {},
   "source": [
    "### Subgroup correlation analysis"
   ]
  },
  {
   "cell_type": "code",
   "execution_count": 66,
   "metadata": {},
   "outputs": [
    {
     "data": {
      "text/html": [
       "<div>\n",
       "<style>\n",
       "    .dataframe thead tr:only-child th {\n",
       "        text-align: right;\n",
       "    }\n",
       "\n",
       "    .dataframe thead th {\n",
       "        text-align: left;\n",
       "    }\n",
       "\n",
       "    .dataframe tbody tr th {\n",
       "        vertical-align: top;\n",
       "    }\n",
       "</style>\n",
       "<table border=\"1\" class=\"dataframe\">\n",
       "  <thead>\n",
       "    <tr style=\"text-align: right;\">\n",
       "      <th></th>\n",
       "      <th>c_npmi</th>\n",
       "      <th>c_uci</th>\n",
       "      <th>c_v</th>\n",
       "      <th>c_w2v</th>\n",
       "      <th>perplexity</th>\n",
       "      <th>u_mass</th>\n",
       "      <th>alpha</th>\n",
       "      <th>beta</th>\n",
       "      <th>num_topics</th>\n",
       "    </tr>\n",
       "  </thead>\n",
       "  <tbody>\n",
       "    <tr>\n",
       "      <th>0</th>\n",
       "      <td>-0.003759</td>\n",
       "      <td>-1.836443</td>\n",
       "      <td>0.449097</td>\n",
       "      <td>0.998124</td>\n",
       "      <td>-6.246609</td>\n",
       "      <td>-2.393090</td>\n",
       "      <td>0.01</td>\n",
       "      <td>0.01</td>\n",
       "      <td>5</td>\n",
       "    </tr>\n",
       "    <tr>\n",
       "      <th>1</th>\n",
       "      <td>-0.037455</td>\n",
       "      <td>-2.854046</td>\n",
       "      <td>0.470005</td>\n",
       "      <td>0.998854</td>\n",
       "      <td>-6.302226</td>\n",
       "      <td>-2.233028</td>\n",
       "      <td>0.01</td>\n",
       "      <td>0.01</td>\n",
       "      <td>10</td>\n",
       "    </tr>\n",
       "    <tr>\n",
       "      <th>2</th>\n",
       "      <td>-0.059600</td>\n",
       "      <td>-3.329506</td>\n",
       "      <td>0.433467</td>\n",
       "      <td>0.998855</td>\n",
       "      <td>-6.363658</td>\n",
       "      <td>-2.439774</td>\n",
       "      <td>0.01</td>\n",
       "      <td>0.01</td>\n",
       "      <td>15</td>\n",
       "    </tr>\n",
       "    <tr>\n",
       "      <th>3</th>\n",
       "      <td>-0.075871</td>\n",
       "      <td>-3.677816</td>\n",
       "      <td>0.412369</td>\n",
       "      <td>0.998948</td>\n",
       "      <td>-6.402373</td>\n",
       "      <td>-2.509307</td>\n",
       "      <td>0.01</td>\n",
       "      <td>0.01</td>\n",
       "      <td>20</td>\n",
       "    </tr>\n",
       "    <tr>\n",
       "      <th>4</th>\n",
       "      <td>-0.008113</td>\n",
       "      <td>-2.012630</td>\n",
       "      <td>0.449335</td>\n",
       "      <td>0.998335</td>\n",
       "      <td>-6.038808</td>\n",
       "      <td>-2.413199</td>\n",
       "      <td>0.01</td>\n",
       "      <td>0.10</td>\n",
       "      <td>5</td>\n",
       "    </tr>\n",
       "  </tbody>\n",
       "</table>\n",
       "</div>"
      ],
      "text/plain": [
       "     c_npmi     c_uci       c_v     c_w2v  perplexity    u_mass  alpha  beta  \\\n",
       "0 -0.003759 -1.836443  0.449097  0.998124   -6.246609 -2.393090   0.01  0.01   \n",
       "1 -0.037455 -2.854046  0.470005  0.998854   -6.302226 -2.233028   0.01  0.01   \n",
       "2 -0.059600 -3.329506  0.433467  0.998855   -6.363658 -2.439774   0.01  0.01   \n",
       "3 -0.075871 -3.677816  0.412369  0.998948   -6.402373 -2.509307   0.01  0.01   \n",
       "4 -0.008113 -2.012630  0.449335  0.998335   -6.038808 -2.413199   0.01  0.10   \n",
       "\n",
       "   num_topics  \n",
       "0           5  \n",
       "1          10  \n",
       "2          15  \n",
       "3          20  \n",
       "4           5  "
      ]
     },
     "execution_count": 66,
     "metadata": {},
     "output_type": "execute_result"
    }
   ],
   "source": [
    "subdf = df[metric_names + param_names]\n",
    "subdf.head()"
   ]
  },
  {
   "cell_type": "code",
   "execution_count": 98,
   "metadata": {},
   "outputs": [],
   "source": [
    "from itertools import chain\n",
    "\n",
    "def compute_corr_group(df, param):\n",
    "    '''Group the dataframe by the given param and perform Spearman correlation.'''\n",
    "    results = []\n",
    "    for k, g in df.groupby(param):\n",
    "        corr_df = g[metric_names].corr('spearman')\n",
    "        result = {}\n",
    "        result[param] = k\n",
    "        result['values'] = corr_df.values\n",
    "        for i in range(len(result['values'])):\n",
    "            result['values'][i][i] = -999\n",
    "        results.append(result)\n",
    "\n",
    "    return results"
   ]
  },
  {
   "cell_type": "code",
   "execution_count": 99,
   "metadata": {
    "collapsed": true
   },
   "outputs": [],
   "source": [
    "def compute_overall_corr(df):\n",
    "    result = {\n",
    "        'overall': True, \n",
    "        'values': df[metric_names].corr('spearman').values\n",
    "    }\n",
    "        \n",
    "    for i in range(len(result['values'])):\n",
    "        result['values'][i][i] = -999\n",
    "        \n",
    "    return result"
   ]
  },
  {
   "cell_type": "code",
   "execution_count": 100,
   "metadata": {},
   "outputs": [],
   "source": [
    "all_corrs = list(chain.from_iterable([compute_corr_group(df, param) for param in param_names]))\n",
    "all_corrs.append(compute_overall_corr(df))"
   ]
  },
  {
   "cell_type": "markdown",
   "metadata": {},
   "source": [
    "OK, now we have 13 sets of correlations. Each set has 6 x 5 = 30 pairs. Which correlation value is the highest?"
   ]
  },
  {
   "cell_type": "code",
   "execution_count": 105,
   "metadata": {},
   "outputs": [
    {
     "data": {
      "text/plain": [
       "0.54157483388883942"
      ]
     },
     "execution_count": 105,
     "metadata": {},
     "output_type": "execute_result"
    }
   ],
   "source": [
    "all_corrs[8]['values'].max()"
   ]
  },
  {
   "cell_type": "code",
   "execution_count": 80,
   "metadata": {},
   "outputs": [
    {
     "data": {
      "text/plain": [
       "[{'alpha': 0.01,\n",
       "  'values': [[None,\n",
       "    0.9823529411764705,\n",
       "    0.7294117647058823,\n",
       "    -0.861764705882353,\n",
       "    0.3058823529411765,\n",
       "    0.6088235294117647],\n",
       "   [0.9823529411764705,\n",
       "    None,\n",
       "    0.65,\n",
       "    -0.8941176470588236,\n",
       "    0.3941176470588235,\n",
       "    0.6058823529411764],\n",
       "   [0.7294117647058823,\n",
       "    0.65,\n",
       "    None,\n",
       "    -0.5058823529411764,\n",
       "    0.1588235294117647,\n",
       "    0.5529411764705883],\n",
       "   [-0.861764705882353,\n",
       "    -0.8941176470588236,\n",
       "    -0.5058823529411764,\n",
       "    None,\n",
       "    -0.3088235294117647,\n",
       "    -0.49117647058823527],\n",
       "   [0.3058823529411765,\n",
       "    0.3941176470588235,\n",
       "    0.1588235294117647,\n",
       "    -0.3088235294117647,\n",
       "    None,\n",
       "    0.18823529411764706],\n",
       "   [0.6088235294117647,\n",
       "    0.6058823529411764,\n",
       "    0.5529411764705883,\n",
       "    -0.49117647058823527,\n",
       "    0.18823529411764706,\n",
       "    None]]},\n",
       " {'alpha': 0.10000000000000001,\n",
       "  'values': [[None,\n",
       "    1.0,\n",
       "    0.7029411764705882,\n",
       "    -0.8823529411764706,\n",
       "    0.49117647058823527,\n",
       "    0.29411764705882354],\n",
       "   [1.0,\n",
       "    None,\n",
       "    0.7029411764705882,\n",
       "    -0.8823529411764706,\n",
       "    0.49117647058823527,\n",
       "    0.29411764705882354],\n",
       "   [0.7029411764705882,\n",
       "    0.7029411764705882,\n",
       "    None,\n",
       "    -0.4764705882352941,\n",
       "    0.36470588235294116,\n",
       "    0.1411764705882353],\n",
       "   [-0.8823529411764706,\n",
       "    -0.8823529411764706,\n",
       "    -0.4764705882352941,\n",
       "    None,\n",
       "    -0.6147058823529412,\n",
       "    -0.1676470588235294],\n",
       "   [0.49117647058823527,\n",
       "    0.49117647058823527,\n",
       "    0.36470588235294116,\n",
       "    -0.6147058823529412,\n",
       "    None,\n",
       "    0.2235294117647059],\n",
       "   [0.29411764705882354,\n",
       "    0.29411764705882354,\n",
       "    0.1411764705882353,\n",
       "    -0.1676470588235294,\n",
       "    0.2235294117647059,\n",
       "    None]]},\n",
       " {'alpha': 1.0,\n",
       "  'values': [[None,\n",
       "    0.8588235294117647,\n",
       "    0.061764705882352944,\n",
       "    -0.8647058823529412,\n",
       "    -0.011764705882352941,\n",
       "    0.7264705882352941],\n",
       "   [0.8588235294117647,\n",
       "    None,\n",
       "    -0.2911764705882353,\n",
       "    -0.8794117647058823,\n",
       "    -0.36470588235294116,\n",
       "    0.9352941176470588],\n",
       "   [0.061764705882352944,\n",
       "    -0.2911764705882353,\n",
       "    None,\n",
       "    0.029411764705882353,\n",
       "    0.7264705882352941,\n",
       "    -0.3941176470588235],\n",
       "   [-0.8647058823529412,\n",
       "    -0.8794117647058823,\n",
       "    0.029411764705882353,\n",
       "    None,\n",
       "    0.1,\n",
       "    -0.7852941176470588],\n",
       "   [-0.011764705882352941,\n",
       "    -0.36470588235294116,\n",
       "    0.7264705882352941,\n",
       "    0.1,\n",
       "    None,\n",
       "    -0.49411764705882355],\n",
       "   [0.7264705882352941,\n",
       "    0.9352941176470588,\n",
       "    -0.3941176470588235,\n",
       "    -0.7852941176470588,\n",
       "    -0.49411764705882355,\n",
       "    None]]},\n",
       " {'alpha': 10.0,\n",
       "  'values': [[None,\n",
       "    0.7143928948527206,\n",
       "    0.0780559646539028,\n",
       "    -0.5165564312363659,\n",
       "    0.9197942151644691,\n",
       "    0.6435440127185665],\n",
       "   [0.7143928948527206,\n",
       "    None,\n",
       "    -0.578599204095592,\n",
       "    -0.8318620263652249,\n",
       "    0.7374663354301639,\n",
       "    0.9437869822485208],\n",
       "   [0.0780559646539028,\n",
       "    -0.578599204095592,\n",
       "    None,\n",
       "    0.6107433588692075,\n",
       "    -0.05445181753773658,\n",
       "    -0.661256233252105],\n",
       "   [-0.5165564312363659,\n",
       "    -0.8318620263652249,\n",
       "    0.6107433588692075,\n",
       "    None,\n",
       "    -0.5205882352941177,\n",
       "    -0.8879094678579174],\n",
       "   [0.9197942151644691,\n",
       "    0.7374663354301639,\n",
       "    -0.05445181753773658,\n",
       "    -0.5205882352941177,\n",
       "    None,\n",
       "    0.7050178166712368],\n",
       "   [0.6435440127185665,\n",
       "    0.9437869822485208,\n",
       "    -0.661256233252105,\n",
       "    -0.8879094678579174,\n",
       "    0.7050178166712368,\n",
       "    None]]}]"
      ]
     },
     "execution_count": 80,
     "metadata": {},
     "output_type": "execute_result"
    }
   ],
   "source": [
    "with open('../data/test.json', 'w') as f:\n",
    "    json.dump(data, f)"
   ]
  },
  {
   "cell_type": "code",
   "execution_count": 76,
   "metadata": {},
   "outputs": [
    {
     "data": {
      "text/plain": [
       "False"
      ]
     },
     "execution_count": 76,
     "metadata": {},
     "output_type": "execute_result"
    }
   ],
   "source": [
    "0.1*3==0.3"
   ]
  },
  {
   "cell_type": "code",
   "execution_count": 62,
   "metadata": {},
   "outputs": [
    {
     "data": {
      "text/plain": [
       "64"
      ]
     },
     "execution_count": 62,
     "metadata": {},
     "output_type": "execute_result"
    }
   ],
   "source": [
    "len(df)"
   ]
  },
  {
   "cell_type": "code",
   "execution_count": 54,
   "metadata": {},
   "outputs": [
    {
     "name": "stdout",
     "output_type": "stream",
     "text": [
      "<class 'pandas.core.frame.DataFrame'>\n",
      "<class 'pandas.core.frame.DataFrame'>\n",
      "<class 'pandas.core.frame.DataFrame'>\n",
      "<class 'pandas.core.frame.DataFrame'>\n"
     ]
    }
   ],
   "source": [
    "for k, v in subdf.groupby('alpha'):\n",
    "    print(type(v))"
   ]
  },
  {
   "cell_type": "markdown",
   "metadata": {},
   "source": [
    "### Exports metrics"
   ]
  },
  {
   "cell_type": "code",
   "execution_count": 51,
   "metadata": {},
   "outputs": [
    {
     "data": {
      "text/plain": [
       "array([0.37200972, 1.08131546])"
      ]
     },
     "execution_count": 51,
     "metadata": {},
     "output_type": "execute_result"
    }
   ],
   "source": [
    "coords[0]"
   ]
  },
  {
   "cell_type": "code",
   "execution_count": 50,
   "metadata": {},
   "outputs": [
    {
     "ename": "TypeError",
     "evalue": "Object of type 'ndarray' is not JSON serializable",
     "output_type": "error",
     "traceback": [
      "\u001b[0;31m---------------------------------------------------------------------------\u001b[0m",
      "\u001b[0;31mTypeError\u001b[0m                                 Traceback (most recent call last)",
      "\u001b[0;32m<ipython-input-50-9e57a54c7be2>\u001b[0m in \u001b[0;36m<module>\u001b[0;34m()\u001b[0m\n\u001b[1;32m      4\u001b[0m \u001b[0;34m\u001b[0m\u001b[0m\n\u001b[1;32m      5\u001b[0m \u001b[0;32mwith\u001b[0m \u001b[0mopen\u001b[0m\u001b[0;34m(\u001b[0m\u001b[0;34m'../data/lee-metrics.json'\u001b[0m\u001b[0;34m,\u001b[0m \u001b[0;34m'w'\u001b[0m\u001b[0;34m)\u001b[0m \u001b[0;32mas\u001b[0m \u001b[0mf\u001b[0m\u001b[0;34m:\u001b[0m\u001b[0;34m\u001b[0m\u001b[0m\n\u001b[0;32m----> 6\u001b[0;31m     \u001b[0mjson\u001b[0m\u001b[0;34m.\u001b[0m\u001b[0mdump\u001b[0m\u001b[0;34m(\u001b[0m\u001b[0mmodels\u001b[0m\u001b[0;34m,\u001b[0m \u001b[0mf\u001b[0m\u001b[0;34m)\u001b[0m\u001b[0;34m\u001b[0m\u001b[0m\n\u001b[0m",
      "\u001b[0;32m/anaconda3/lib/python3.6/json/__init__.py\u001b[0m in \u001b[0;36mdump\u001b[0;34m(obj, fp, skipkeys, ensure_ascii, check_circular, allow_nan, cls, indent, separators, default, sort_keys, **kw)\u001b[0m\n\u001b[1;32m    177\u001b[0m     \u001b[0;31m# could accelerate with writelines in some versions of Python, at\u001b[0m\u001b[0;34m\u001b[0m\u001b[0;34m\u001b[0m\u001b[0m\n\u001b[1;32m    178\u001b[0m     \u001b[0;31m# a debuggability cost\u001b[0m\u001b[0;34m\u001b[0m\u001b[0;34m\u001b[0m\u001b[0m\n\u001b[0;32m--> 179\u001b[0;31m     \u001b[0;32mfor\u001b[0m \u001b[0mchunk\u001b[0m \u001b[0;32min\u001b[0m \u001b[0miterable\u001b[0m\u001b[0;34m:\u001b[0m\u001b[0;34m\u001b[0m\u001b[0m\n\u001b[0m\u001b[1;32m    180\u001b[0m         \u001b[0mfp\u001b[0m\u001b[0;34m.\u001b[0m\u001b[0mwrite\u001b[0m\u001b[0;34m(\u001b[0m\u001b[0mchunk\u001b[0m\u001b[0;34m)\u001b[0m\u001b[0;34m\u001b[0m\u001b[0m\n\u001b[1;32m    181\u001b[0m \u001b[0;34m\u001b[0m\u001b[0m\n",
      "\u001b[0;32m/anaconda3/lib/python3.6/json/encoder.py\u001b[0m in \u001b[0;36m_iterencode\u001b[0;34m(o, _current_indent_level)\u001b[0m\n\u001b[1;32m    426\u001b[0m             \u001b[0;32myield\u001b[0m \u001b[0m_floatstr\u001b[0m\u001b[0;34m(\u001b[0m\u001b[0mo\u001b[0m\u001b[0;34m)\u001b[0m\u001b[0;34m\u001b[0m\u001b[0m\n\u001b[1;32m    427\u001b[0m         \u001b[0;32melif\u001b[0m \u001b[0misinstance\u001b[0m\u001b[0;34m(\u001b[0m\u001b[0mo\u001b[0m\u001b[0;34m,\u001b[0m \u001b[0;34m(\u001b[0m\u001b[0mlist\u001b[0m\u001b[0;34m,\u001b[0m \u001b[0mtuple\u001b[0m\u001b[0;34m)\u001b[0m\u001b[0;34m)\u001b[0m\u001b[0;34m:\u001b[0m\u001b[0;34m\u001b[0m\u001b[0m\n\u001b[0;32m--> 428\u001b[0;31m             \u001b[0;32myield\u001b[0m \u001b[0;32mfrom\u001b[0m \u001b[0m_iterencode_list\u001b[0m\u001b[0;34m(\u001b[0m\u001b[0mo\u001b[0m\u001b[0;34m,\u001b[0m \u001b[0m_current_indent_level\u001b[0m\u001b[0;34m)\u001b[0m\u001b[0;34m\u001b[0m\u001b[0m\n\u001b[0m\u001b[1;32m    429\u001b[0m         \u001b[0;32melif\u001b[0m \u001b[0misinstance\u001b[0m\u001b[0;34m(\u001b[0m\u001b[0mo\u001b[0m\u001b[0;34m,\u001b[0m \u001b[0mdict\u001b[0m\u001b[0;34m)\u001b[0m\u001b[0;34m:\u001b[0m\u001b[0;34m\u001b[0m\u001b[0m\n\u001b[1;32m    430\u001b[0m             \u001b[0;32myield\u001b[0m \u001b[0;32mfrom\u001b[0m \u001b[0m_iterencode_dict\u001b[0m\u001b[0;34m(\u001b[0m\u001b[0mo\u001b[0m\u001b[0;34m,\u001b[0m \u001b[0m_current_indent_level\u001b[0m\u001b[0;34m)\u001b[0m\u001b[0;34m\u001b[0m\u001b[0m\n",
      "\u001b[0;32m/anaconda3/lib/python3.6/json/encoder.py\u001b[0m in \u001b[0;36m_iterencode_list\u001b[0;34m(lst, _current_indent_level)\u001b[0m\n\u001b[1;32m    323\u001b[0m                 \u001b[0;32melse\u001b[0m\u001b[0;34m:\u001b[0m\u001b[0;34m\u001b[0m\u001b[0m\n\u001b[1;32m    324\u001b[0m                     \u001b[0mchunks\u001b[0m \u001b[0;34m=\u001b[0m \u001b[0m_iterencode\u001b[0m\u001b[0;34m(\u001b[0m\u001b[0mvalue\u001b[0m\u001b[0;34m,\u001b[0m \u001b[0m_current_indent_level\u001b[0m\u001b[0;34m)\u001b[0m\u001b[0;34m\u001b[0m\u001b[0m\n\u001b[0;32m--> 325\u001b[0;31m                 \u001b[0;32myield\u001b[0m \u001b[0;32mfrom\u001b[0m \u001b[0mchunks\u001b[0m\u001b[0;34m\u001b[0m\u001b[0m\n\u001b[0m\u001b[1;32m    326\u001b[0m         \u001b[0;32mif\u001b[0m \u001b[0mnewline_indent\u001b[0m \u001b[0;32mis\u001b[0m \u001b[0;32mnot\u001b[0m \u001b[0;32mNone\u001b[0m\u001b[0;34m:\u001b[0m\u001b[0;34m\u001b[0m\u001b[0m\n\u001b[1;32m    327\u001b[0m             \u001b[0m_current_indent_level\u001b[0m \u001b[0;34m-=\u001b[0m \u001b[0;36m1\u001b[0m\u001b[0;34m\u001b[0m\u001b[0m\n",
      "\u001b[0;32m/anaconda3/lib/python3.6/json/encoder.py\u001b[0m in \u001b[0;36m_iterencode_dict\u001b[0;34m(dct, _current_indent_level)\u001b[0m\n\u001b[1;32m    402\u001b[0m                 \u001b[0;32melse\u001b[0m\u001b[0;34m:\u001b[0m\u001b[0;34m\u001b[0m\u001b[0m\n\u001b[1;32m    403\u001b[0m                     \u001b[0mchunks\u001b[0m \u001b[0;34m=\u001b[0m \u001b[0m_iterencode\u001b[0m\u001b[0;34m(\u001b[0m\u001b[0mvalue\u001b[0m\u001b[0;34m,\u001b[0m \u001b[0m_current_indent_level\u001b[0m\u001b[0;34m)\u001b[0m\u001b[0;34m\u001b[0m\u001b[0m\n\u001b[0;32m--> 404\u001b[0;31m                 \u001b[0;32myield\u001b[0m \u001b[0;32mfrom\u001b[0m \u001b[0mchunks\u001b[0m\u001b[0;34m\u001b[0m\u001b[0m\n\u001b[0m\u001b[1;32m    405\u001b[0m         \u001b[0;32mif\u001b[0m \u001b[0mnewline_indent\u001b[0m \u001b[0;32mis\u001b[0m \u001b[0;32mnot\u001b[0m \u001b[0;32mNone\u001b[0m\u001b[0;34m:\u001b[0m\u001b[0;34m\u001b[0m\u001b[0m\n\u001b[1;32m    406\u001b[0m             \u001b[0m_current_indent_level\u001b[0m \u001b[0;34m-=\u001b[0m \u001b[0;36m1\u001b[0m\u001b[0;34m\u001b[0m\u001b[0m\n",
      "\u001b[0;32m/anaconda3/lib/python3.6/json/encoder.py\u001b[0m in \u001b[0;36m_iterencode\u001b[0;34m(o, _current_indent_level)\u001b[0m\n\u001b[1;32m    435\u001b[0m                     \u001b[0;32mraise\u001b[0m \u001b[0mValueError\u001b[0m\u001b[0;34m(\u001b[0m\u001b[0;34m\"Circular reference detected\"\u001b[0m\u001b[0;34m)\u001b[0m\u001b[0;34m\u001b[0m\u001b[0m\n\u001b[1;32m    436\u001b[0m                 \u001b[0mmarkers\u001b[0m\u001b[0;34m[\u001b[0m\u001b[0mmarkerid\u001b[0m\u001b[0;34m]\u001b[0m \u001b[0;34m=\u001b[0m \u001b[0mo\u001b[0m\u001b[0;34m\u001b[0m\u001b[0m\n\u001b[0;32m--> 437\u001b[0;31m             \u001b[0mo\u001b[0m \u001b[0;34m=\u001b[0m \u001b[0m_default\u001b[0m\u001b[0;34m(\u001b[0m\u001b[0mo\u001b[0m\u001b[0;34m)\u001b[0m\u001b[0;34m\u001b[0m\u001b[0m\n\u001b[0m\u001b[1;32m    438\u001b[0m             \u001b[0;32myield\u001b[0m \u001b[0;32mfrom\u001b[0m \u001b[0m_iterencode\u001b[0m\u001b[0;34m(\u001b[0m\u001b[0mo\u001b[0m\u001b[0;34m,\u001b[0m \u001b[0m_current_indent_level\u001b[0m\u001b[0;34m)\u001b[0m\u001b[0;34m\u001b[0m\u001b[0m\n\u001b[1;32m    439\u001b[0m             \u001b[0;32mif\u001b[0m \u001b[0mmarkers\u001b[0m \u001b[0;32mis\u001b[0m \u001b[0;32mnot\u001b[0m \u001b[0;32mNone\u001b[0m\u001b[0;34m:\u001b[0m\u001b[0;34m\u001b[0m\u001b[0m\n",
      "\u001b[0;32m/anaconda3/lib/python3.6/json/encoder.py\u001b[0m in \u001b[0;36mdefault\u001b[0;34m(self, o)\u001b[0m\n\u001b[1;32m    178\u001b[0m         \"\"\"\n\u001b[1;32m    179\u001b[0m         raise TypeError(\"Object of type '%s' is not JSON serializable\" %\n\u001b[0;32m--> 180\u001b[0;31m                         o.__class__.__name__)\n\u001b[0m\u001b[1;32m    181\u001b[0m \u001b[0;34m\u001b[0m\u001b[0m\n\u001b[1;32m    182\u001b[0m     \u001b[0;32mdef\u001b[0m \u001b[0mencode\u001b[0m\u001b[0;34m(\u001b[0m\u001b[0mself\u001b[0m\u001b[0;34m,\u001b[0m \u001b[0mo\u001b[0m\u001b[0;34m)\u001b[0m\u001b[0;34m:\u001b[0m\u001b[0;34m\u001b[0m\u001b[0m\n",
      "\u001b[0;31mTypeError\u001b[0m: Object of type 'ndarray' is not JSON serializable"
     ]
    }
   ],
   "source": [
    "for i, model in enumerate(models):\n",
    "    model['coords'] = coords[i]\n",
    "    model.pop('lda', None)\n",
    "    \n",
    "with open('../data/lee-metrics.json', 'w') as f:\n",
    "    json.dump(models, f)"
   ]
  },
  {
   "cell_type": "markdown",
   "metadata": {},
   "source": [
    "It seems that u_mass, c_uci and c_npmi correlate well. Let's focus on those metrics only."
   ]
  },
  {
   "cell_type": "code",
   "execution_count": 40,
   "metadata": {
    "collapsed": true
   },
   "outputs": [],
   "source": [
    "focus_measures = ['u_mass', 'c_uci', 'c_npmi']"
   ]
  },
  {
   "cell_type": "markdown",
   "metadata": {},
   "source": [
    "### Look at metrics with different parameter groupings"
   ]
  },
  {
   "cell_type": "code",
   "execution_count": 43,
   "metadata": {},
   "outputs": [
    {
     "data": {
      "text/plain": [
       "<seaborn.axisgrid.PairGrid at 0x136c119b0>"
      ]
     },
     "execution_count": 43,
     "metadata": {},
     "output_type": "execute_result"
    },
    {
     "data": {
      "image/png": "[encoded data removed]",
      "text/plain": [
       "<matplotlib.figure.Figure at 0x1361cc748>"
      ]
     },
     "metadata": {},
     "output_type": "display_data"
    }
   ],
   "source": [
    "sns.pairplot(df, vars=focus_measures, hue='num_topics')"
   ]
  },
  {
   "cell_type": "code",
   "execution_count": 33,
   "metadata": {},
   "outputs": [
    {
     "data": {
      "text/html": [
       "<div>\n",
       "<style scoped>\n",
       "    .dataframe tbody tr th:only-of-type {\n",
       "        vertical-align: middle;\n",
       "    }\n",
       "\n",
       "    .dataframe tbody tr th {\n",
       "        vertical-align: top;\n",
       "    }\n",
       "\n",
       "    .dataframe thead th {\n",
       "        text-align: right;\n",
       "    }\n",
       "</style>\n",
       "<table border=\"1\" class=\"dataframe\">\n",
       "  <thead>\n",
       "    <tr style=\"text-align: right;\">\n",
       "      <th></th>\n",
       "      <th>u_mass</th>\n",
       "      <th>c_uci</th>\n",
       "      <th>c_npmi</th>\n",
       "    </tr>\n",
       "  </thead>\n",
       "  <tbody>\n",
       "    <tr>\n",
       "      <th>0</th>\n",
       "      <td>32.0</td>\n",
       "      <td>46.0</td>\n",
       "      <td>58.0</td>\n",
       "    </tr>\n",
       "    <tr>\n",
       "      <th>1</th>\n",
       "      <td>41.0</td>\n",
       "      <td>32.0</td>\n",
       "      <td>40.0</td>\n",
       "    </tr>\n",
       "    <tr>\n",
       "      <th>2</th>\n",
       "      <td>20.0</td>\n",
       "      <td>24.0</td>\n",
       "      <td>24.0</td>\n",
       "    </tr>\n",
       "    <tr>\n",
       "      <th>3</th>\n",
       "      <td>14.0</td>\n",
       "      <td>16.0</td>\n",
       "      <td>17.0</td>\n",
       "    </tr>\n",
       "    <tr>\n",
       "      <th>4</th>\n",
       "      <td>24.0</td>\n",
       "      <td>40.5</td>\n",
       "      <td>54.0</td>\n",
       "    </tr>\n",
       "  </tbody>\n",
       "</table>\n",
       "</div>"
      ],
      "text/plain": [
       "   u_mass  c_uci  c_npmi\n",
       "0    32.0   46.0    58.0\n",
       "1    41.0   32.0    40.0\n",
       "2    20.0   24.0    24.0\n",
       "3    14.0   16.0    17.0\n",
       "4    24.0   40.5    54.0"
      ]
     },
     "execution_count": 33,
     "metadata": {},
     "output_type": "execute_result"
    }
   ],
   "source": [
    "rank_df = df[focus_measures].rank()\n",
    "rank_df.head()"
   ]
  },
  {
   "cell_type": "code",
   "execution_count": 35,
   "metadata": {
    "scrolled": true
   },
   "outputs": [
    {
     "data": {
      "text/html": [
       "<div>\n",
       "<style scoped>\n",
       "    .dataframe tbody tr th:only-of-type {\n",
       "        vertical-align: middle;\n",
       "    }\n",
       "\n",
       "    .dataframe tbody tr th {\n",
       "        vertical-align: top;\n",
       "    }\n",
       "\n",
       "    .dataframe thead th {\n",
       "        text-align: right;\n",
       "    }\n",
       "</style>\n",
       "<table border=\"1\" class=\"dataframe\">\n",
       "  <thead>\n",
       "    <tr style=\"text-align: right;\">\n",
       "      <th></th>\n",
       "      <th>u_mass</th>\n",
       "      <th>c_uci</th>\n",
       "      <th>c_npmi</th>\n",
       "    </tr>\n",
       "  </thead>\n",
       "  <tbody>\n",
       "    <tr>\n",
       "      <th>u_mass</th>\n",
       "      <td>1.000000</td>\n",
       "      <td>0.820094</td>\n",
       "      <td>0.566836</td>\n",
       "    </tr>\n",
       "    <tr>\n",
       "      <th>c_uci</th>\n",
       "      <td>0.820094</td>\n",
       "      <td>1.000000</td>\n",
       "      <td>0.842938</td>\n",
       "    </tr>\n",
       "    <tr>\n",
       "      <th>c_npmi</th>\n",
       "      <td>0.566836</td>\n",
       "      <td>0.842938</td>\n",
       "      <td>1.000000</td>\n",
       "    </tr>\n",
       "  </tbody>\n",
       "</table>\n",
       "</div>"
      ],
      "text/plain": [
       "          u_mass     c_uci    c_npmi\n",
       "u_mass  1.000000  0.820094  0.566836\n",
       "c_uci   0.820094  1.000000  0.842938\n",
       "c_npmi  0.566836  0.842938  1.000000"
      ]
     },
     "execution_count": 35,
     "metadata": {},
     "output_type": "execute_result"
    }
   ],
   "source": [
    "rank_df.corr()"
   ]
  },
  {
   "cell_type": "code",
   "execution_count": 37,
   "metadata": {},
   "outputs": [
    {
     "data": {
      "text/html": [
       "<div>\n",
       "<style scoped>\n",
       "    .dataframe tbody tr th:only-of-type {\n",
       "        vertical-align: middle;\n",
       "    }\n",
       "\n",
       "    .dataframe tbody tr th {\n",
       "        vertical-align: top;\n",
       "    }\n",
       "\n",
       "    .dataframe thead th {\n",
       "        text-align: right;\n",
       "    }\n",
       "</style>\n",
       "<table border=\"1\" class=\"dataframe\">\n",
       "  <thead>\n",
       "    <tr style=\"text-align: right;\">\n",
       "      <th></th>\n",
       "      <th>u_mass</th>\n",
       "      <th>c_v</th>\n",
       "      <th>c_uci</th>\n",
       "      <th>c_npmi</th>\n",
       "      <th>c_w2v</th>\n",
       "    </tr>\n",
       "  </thead>\n",
       "  <tbody>\n",
       "    <tr>\n",
       "      <th>u_mass</th>\n",
       "      <td>1.000000</td>\n",
       "      <td>-0.102159</td>\n",
       "      <td>0.820094</td>\n",
       "      <td>0.566836</td>\n",
       "      <td>-0.652365</td>\n",
       "    </tr>\n",
       "    <tr>\n",
       "      <th>c_v</th>\n",
       "      <td>-0.102159</td>\n",
       "      <td>1.000000</td>\n",
       "      <td>0.040365</td>\n",
       "      <td>0.480465</td>\n",
       "      <td>0.027542</td>\n",
       "    </tr>\n",
       "    <tr>\n",
       "      <th>c_uci</th>\n",
       "      <td>0.820094</td>\n",
       "      <td>0.040365</td>\n",
       "      <td>1.000000</td>\n",
       "      <td>0.842938</td>\n",
       "      <td>-0.865434</td>\n",
       "    </tr>\n",
       "    <tr>\n",
       "      <th>c_npmi</th>\n",
       "      <td>0.566836</td>\n",
       "      <td>0.480465</td>\n",
       "      <td>0.842938</td>\n",
       "      <td>1.000000</td>\n",
       "      <td>-0.722925</td>\n",
       "    </tr>\n",
       "    <tr>\n",
       "      <th>c_w2v</th>\n",
       "      <td>-0.652365</td>\n",
       "      <td>0.027542</td>\n",
       "      <td>-0.865434</td>\n",
       "      <td>-0.722925</td>\n",
       "      <td>1.000000</td>\n",
       "    </tr>\n",
       "  </tbody>\n",
       "</table>\n",
       "</div>"
      ],
      "text/plain": [
       "          u_mass       c_v     c_uci    c_npmi     c_w2v\n",
       "u_mass  1.000000 -0.102159  0.820094  0.566836 -0.652365\n",
       "c_v    -0.102159  1.000000  0.040365  0.480465  0.027542\n",
       "c_uci   0.820094  0.040365  1.000000  0.842938 -0.865434\n",
       "c_npmi  0.566836  0.480465  0.842938  1.000000 -0.722925\n",
       "c_w2v  -0.652365  0.027542 -0.865434 -0.722925  1.000000"
      ]
     },
     "execution_count": 37,
     "metadata": {},
     "output_type": "execute_result"
    }
   ],
   "source": [
    "df[measure_names].rank().corr()"
   ]
  },
  {
   "cell_type": "code",
   "execution_count": 44,
   "metadata": {},
   "outputs": [
    {
     "data": {
      "text/html": [
       "<div>\n",
       "<style scoped>\n",
       "    .dataframe tbody tr th:only-of-type {\n",
       "        vertical-align: middle;\n",
       "    }\n",
       "\n",
       "    .dataframe tbody tr th {\n",
       "        vertical-align: top;\n",
       "    }\n",
       "\n",
       "    .dataframe thead th {\n",
       "        text-align: right;\n",
       "    }\n",
       "</style>\n",
       "<table border=\"1\" class=\"dataframe\">\n",
       "  <thead>\n",
       "    <tr style=\"text-align: right;\">\n",
       "      <th></th>\n",
       "      <th>u_mass</th>\n",
       "      <th>c_v</th>\n",
       "      <th>c_uci</th>\n",
       "      <th>c_npmi</th>\n",
       "      <th>c_w2v</th>\n",
       "    </tr>\n",
       "  </thead>\n",
       "  <tbody>\n",
       "    <tr>\n",
       "      <th>u_mass</th>\n",
       "      <td>1.000000</td>\n",
       "      <td>-0.287806</td>\n",
       "      <td>0.912185</td>\n",
       "      <td>0.818642</td>\n",
       "      <td>-0.559131</td>\n",
       "    </tr>\n",
       "    <tr>\n",
       "      <th>c_v</th>\n",
       "      <td>-0.287806</td>\n",
       "      <td>1.000000</td>\n",
       "      <td>-0.194675</td>\n",
       "      <td>0.173627</td>\n",
       "      <td>0.694179</td>\n",
       "    </tr>\n",
       "    <tr>\n",
       "      <th>c_uci</th>\n",
       "      <td>0.912185</td>\n",
       "      <td>-0.194675</td>\n",
       "      <td>1.000000</td>\n",
       "      <td>0.927210</td>\n",
       "      <td>-0.651474</td>\n",
       "    </tr>\n",
       "    <tr>\n",
       "      <th>c_npmi</th>\n",
       "      <td>0.818642</td>\n",
       "      <td>0.173627</td>\n",
       "      <td>0.927210</td>\n",
       "      <td>1.000000</td>\n",
       "      <td>-0.385126</td>\n",
       "    </tr>\n",
       "    <tr>\n",
       "      <th>c_w2v</th>\n",
       "      <td>-0.559131</td>\n",
       "      <td>0.694179</td>\n",
       "      <td>-0.651474</td>\n",
       "      <td>-0.385126</td>\n",
       "      <td>1.000000</td>\n",
       "    </tr>\n",
       "  </tbody>\n",
       "</table>\n",
       "</div>"
      ],
      "text/plain": [
       "          u_mass       c_v     c_uci    c_npmi     c_w2v\n",
       "u_mass  1.000000 -0.287806  0.912185  0.818642 -0.559131\n",
       "c_v    -0.287806  1.000000 -0.194675  0.173627  0.694179\n",
       "c_uci   0.912185 -0.194675  1.000000  0.927210 -0.651474\n",
       "c_npmi  0.818642  0.173627  0.927210  1.000000 -0.385126\n",
       "c_w2v  -0.559131  0.694179 -0.651474 -0.385126  1.000000"
      ]
     },
     "execution_count": 44,
     "metadata": {},
     "output_type": "execute_result"
    }
   ],
   "source": [
    "df[measure_names].corr()"
   ]
  },
  {
   "cell_type": "markdown",
   "metadata": {},
   "source": [
    "---"
   ]
  },
  {
   "cell_type": "code",
   "execution_count": 19,
   "metadata": {
    "collapsed": true
   },
   "outputs": [],
   "source": [
    "%load_ext autoreload\n",
    "%autoreload 2"
   ]
  }
 ],
 "metadata": {
  "kernelspec": {
   "display_name": "Python 3",
   "language": "python",
   "name": "python3"
  },
  "language_info": {
   "codemirror_mode": {
    "name": "ipython",
    "version": 3
   },
   "file_extension": ".py",
   "mimetype": "text/x-python",
   "name": "python",
   "nbconvert_exporter": "python",
   "pygments_lexer": "ipython3",
   "version": "3.6.3"
  },
  "toc": {
   "base_numbering": 1,
   "nav_menu": {},
   "number_sections": false,
   "sideBar": true,
   "skip_h1_title": true,
   "title_cell": "Contents",
   "title_sidebar": "Contents",
   "toc_cell": false,
   "toc_position": {},
   "toc_section_display": true,
   "toc_window_display": false
  }
 },
 "nbformat": 4,
 "nbformat_minor": 2
}
