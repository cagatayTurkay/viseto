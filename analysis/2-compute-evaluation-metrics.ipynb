{
 "cells": [
  {
   "cell_type": "markdown",
   "metadata": {},
   "source": [
    "# Computing different metrics to evaluate topic models"
   ]
  },
  {
   "cell_type": "code",
   "execution_count": null,
   "metadata": {
    "collapsed": true
   },
   "outputs": [],
   "source": [
    "import nlp\n",
    "import json\n",
    "    \n",
    "from gensim.models.ldamodel import LdaModel\n",
    "from gensim.models import CoherenceModel"
   ]
  },
  {
   "cell_type": "markdown",
   "metadata": {},
   "source": [
    "### Load and clean data"
   ]
  },
  {
   "cell_type": "code",
   "execution_count": null,
   "metadata": {},
   "outputs": [],
   "source": [
    "data = nlp.load_file('../data/lee.txt')\n",
    "docs = nlp.preprocess(data)\n",
    "len(data), data[0], docs[0]"
   ]
  },
  {
   "cell_type": "markdown",
   "metadata": {},
   "source": [
    "### Load computed models"
   ]
  },
  {
   "cell_type": "code",
   "execution_count": null,
   "metadata": {
    "collapsed": true
   },
   "outputs": [],
   "source": [
    "alphas = [0.01, 0.1, 1, 10]\n",
    "betas = [0.01, 0.1, 1, 10]\n",
    "num_topics = [5, 10, 15, 20]\n",
    "models = []\n",
    "\n",
    "for a in alphas:\n",
    "    for b in betas:\n",
    "        for k in num_topics:\n",
    "            name = '../data/models/lee/{}-{}-{}'.format(a, b, k)\n",
    "            models.append({ 'alpha': a, 'beta': b, 'num_topics': k, 'lda': LdaModel.load(name) })"
   ]
  },
  {
   "cell_type": "markdown",
   "metadata": {},
   "source": [
    "### Compute coherence metrics"
   ]
  },
  {
   "cell_type": "code",
   "execution_count": null,
   "metadata": {
    "collapsed": true
   },
   "outputs": [],
   "source": [
    "def add_metrics(model, measure_names, docs):\n",
    "    'Compute each measure and add it to the given model.'\n",
    "    for m in measure_names:\n",
    "        cm = CoherenceModel(model=model['lda'], texts=docs, coherence=m)\n",
    "        model[m] = cm.get_coherence()"
   ]
  },
  {
   "cell_type": "markdown",
   "metadata": {},
   "source": [
    "This could take some time to compute 5 x 4 x 4 x 4 = 384 metrics."
   ]
  },
  {
   "cell_type": "code",
   "execution_count": null,
   "metadata": {
    "collapsed": true
   },
   "outputs": [],
   "source": [
    "measure_names = ['u_mass', 'c_v', 'c_uci', 'c_npmi', 'c_w2v']\n",
    "for model in models:\n",
    "    add_metrics(model, measure_names, docs)    "
   ]
  },
  {
   "cell_type": "markdown",
   "metadata": {},
   "source": [
    "### Add other metrics"
   ]
  },
  {
   "cell_type": "code",
   "execution_count": null,
   "metadata": {
    "collapsed": true
   },
   "outputs": [],
   "source": [
    "def add_other_metrics(models, corpus):\n",
    "    # Perplexity\n",
    "    for model in models:\n",
    "        model['perplexity'] = model['lda'].log_perplexity(corpus)"
   ]
  },
  {
   "cell_type": "code",
   "execution_count": null,
   "metadata": {
    "collapsed": true
   },
   "outputs": [],
   "source": [
    "corpus, dictionary = nlp.build_corpus_dictionary(docs, min_count=10)\n",
    "add_other_metrics(models, corpus)"
   ]
  },
  {
   "cell_type": "markdown",
   "metadata": {},
   "source": [
    "### Exports metrics"
   ]
  },
  {
   "cell_type": "code",
   "execution_count": null,
   "metadata": {},
   "outputs": [],
   "source": [
    "for i, model in enumerate(models):\n",
    "    model.pop('lda', None)\n",
    "    \n",
    "with open('../data/lee-metrics.json', 'w') as f:\n",
    "    json.dump(models, f)"
   ]
  },
  {
   "cell_type": "markdown",
   "metadata": {},
   "source": [
    "---"
   ]
  },
  {
   "cell_type": "code",
   "execution_count": null,
   "metadata": {
    "collapsed": true
   },
   "outputs": [],
   "source": [
    "%load_ext autoreload\n",
    "%autoreload 2"
   ]
  }
 ],
 "metadata": {
  "kernelspec": {
   "display_name": "Python 3",
   "language": "python",
   "name": "python3"
  },
  "language_info": {
   "codemirror_mode": {
    "name": "ipython",
    "version": 3
   },
   "file_extension": ".py",
   "mimetype": "text/x-python",
   "name": "python",
   "nbconvert_exporter": "python",
   "pygments_lexer": "ipython3",
   "version": "3.6.3"
  },
  "toc": {
   "base_numbering": 1,
   "nav_menu": {},
   "number_sections": false,
   "sideBar": true,
   "skip_h1_title": true,
   "title_cell": "Contents",
   "title_sidebar": "Contents",
   "toc_cell": false,
   "toc_position": {},
   "toc_section_display": true,
   "toc_window_display": false
  }
 },
 "nbformat": 4,
 "nbformat_minor": 2
}
