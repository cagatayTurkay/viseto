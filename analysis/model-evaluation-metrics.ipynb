{
 "cells": [
  {
   "cell_type": "markdown",
   "metadata": {},
   "source": [
    "# Computing different metrics to evaluate topic models"
   ]
  },
  {
   "cell_type": "code",
   "execution_count": 1,
   "metadata": {},
   "outputs": [],
   "source": [
    "import nlp\n",
    "import json\n",
    "\n",
    "import pandas as pd\n",
    "import seaborn as sns\n",
    "    \n",
    "from gensim.models.ldamodel import LdaModel\n",
    "from gensim.models import CoherenceModel"
   ]
  },
  {
   "cell_type": "markdown",
   "metadata": {},
   "source": [
    "### Load and clean data"
   ]
  },
  {
   "cell_type": "code",
   "execution_count": 2,
   "metadata": {},
   "outputs": [
    {
     "data": {
      "text/plain": [
       "(300,\n",
       " 'Hundreds of people have been forced to vacate their homes in the Southern Highlands of New South Wales as strong winds today pushed a huge bushfire towards the town of Hill Top. A new blaze near Goulburn, south-west of Sydney, has forced the closure of the Hume Highway. At about 4:00pm AEDT, a marked deterioration in the weather as a storm cell moved east across the Blue Mountains forced authorities to make a decision to evacuate people from homes in outlying streets at Hill Top in the New South Wales southern highlands. An estimated 500 residents have left their homes for nearby Mittagong. The New South Wales Rural Fire Service says the weather conditions which caused the fire to burn in a finger formation have now eased and about 60 fire units in and around Hill Top are optimistic of defending all properties. As more than 100 blazes burn on New Year\\'s Eve in New South Wales, fire crews have been called to new fire at Gunning, south of Goulburn. While few details are available at this stage, fire authorities says it has closed the Hume Highway in both directions. Meanwhile, a new fire in Sydney\\'s west is no longer threatening properties in the Cranebrook area. Rain has fallen in some parts of the Illawarra, Sydney, the Hunter Valley and the north coast. But the Bureau of Meteorology\\'s Claire Richards says the rain has done little to ease any of the hundred fires still burning across the state. \"The falls have been quite isolated in those areas and generally the falls have been less than about five millimetres,\" she said. \"In some places really not significant at all, less than a millimetre, so there hasn\\'t been much relief as far as rain is concerned. \"In fact, they\\'ve probably hampered the efforts of the firefighters more because of the wind gusts that are associated with those thunderstorms.\"',\n",
       " ['hundred',\n",
       "  'people',\n",
       "  'forced',\n",
       "  'vacate',\n",
       "  'home',\n",
       "  'southern',\n",
       "  'highland',\n",
       "  'new',\n",
       "  'south',\n",
       "  'wale',\n",
       "  'strong',\n",
       "  'wind',\n",
       "  'today',\n",
       "  'pushed',\n",
       "  'huge',\n",
       "  'bushfire',\n",
       "  'towards',\n",
       "  'town',\n",
       "  'hill',\n",
       "  'top',\n",
       "  'new',\n",
       "  'blaze',\n",
       "  'near',\n",
       "  'goulburn',\n",
       "  'southwest',\n",
       "  'sydney',\n",
       "  'forced',\n",
       "  'closure',\n",
       "  'hume',\n",
       "  'highway',\n",
       "  '400pm',\n",
       "  'aedt',\n",
       "  'marked',\n",
       "  'deterioration',\n",
       "  'weather',\n",
       "  'storm',\n",
       "  'cell',\n",
       "  'moved',\n",
       "  'east',\n",
       "  'across',\n",
       "  'blue',\n",
       "  'mountain',\n",
       "  'forced',\n",
       "  'authority',\n",
       "  'make',\n",
       "  'decision',\n",
       "  'evacuate',\n",
       "  'people',\n",
       "  'home',\n",
       "  'outlying',\n",
       "  'street',\n",
       "  'hill',\n",
       "  'top',\n",
       "  'new',\n",
       "  'south',\n",
       "  'wale',\n",
       "  'southern',\n",
       "  'highland',\n",
       "  'estimated',\n",
       "  '500',\n",
       "  'resident',\n",
       "  'left',\n",
       "  'home',\n",
       "  'nearby',\n",
       "  'mittagong',\n",
       "  'new',\n",
       "  'south',\n",
       "  'wale',\n",
       "  'rural',\n",
       "  'fire',\n",
       "  'service',\n",
       "  'say',\n",
       "  'weather',\n",
       "  'condition',\n",
       "  'caused',\n",
       "  'fire',\n",
       "  'burn',\n",
       "  'finger',\n",
       "  'formation',\n",
       "  'eased',\n",
       "  'fire',\n",
       "  'unit',\n",
       "  'around',\n",
       "  'hill',\n",
       "  'top',\n",
       "  'optimistic',\n",
       "  'defending',\n",
       "  'property',\n",
       "  '100',\n",
       "  'blaze',\n",
       "  'burn',\n",
       "  'new',\n",
       "  'year',\n",
       "  'eve',\n",
       "  'new',\n",
       "  'south',\n",
       "  'wale',\n",
       "  'fire',\n",
       "  'crew',\n",
       "  'called',\n",
       "  'new',\n",
       "  'fire',\n",
       "  'gunning',\n",
       "  'south',\n",
       "  'goulburn',\n",
       "  'detail',\n",
       "  'available',\n",
       "  'stage',\n",
       "  'fire',\n",
       "  'authority',\n",
       "  'say',\n",
       "  'closed',\n",
       "  'hume',\n",
       "  'highway',\n",
       "  'direction',\n",
       "  'meanwhile',\n",
       "  'new',\n",
       "  'fire',\n",
       "  'sydney',\n",
       "  'west',\n",
       "  'longer',\n",
       "  'threatening',\n",
       "  'property',\n",
       "  'cranebrook',\n",
       "  'area',\n",
       "  'rain',\n",
       "  'fallen',\n",
       "  'part',\n",
       "  'illawarra',\n",
       "  'sydney',\n",
       "  'hunter',\n",
       "  'valley',\n",
       "  'north',\n",
       "  'coast',\n",
       "  'bureau',\n",
       "  'meteorology',\n",
       "  'claire',\n",
       "  'richards',\n",
       "  'say',\n",
       "  'rain',\n",
       "  'done',\n",
       "  'little',\n",
       "  'ease',\n",
       "  'hundred',\n",
       "  'fire',\n",
       "  'still',\n",
       "  'burning',\n",
       "  'across',\n",
       "  'state',\n",
       "  'fall',\n",
       "  'quite',\n",
       "  'isolated',\n",
       "  'area',\n",
       "  'generally',\n",
       "  'fall',\n",
       "  'le',\n",
       "  'five',\n",
       "  'millimetre',\n",
       "  'said',\n",
       "  'place',\n",
       "  'really',\n",
       "  'significant',\n",
       "  'le',\n",
       "  'millimetre',\n",
       "  'hasnt',\n",
       "  'much',\n",
       "  'relief',\n",
       "  'far',\n",
       "  'rain',\n",
       "  'concerned',\n",
       "  'fact',\n",
       "  'theyve',\n",
       "  'probably',\n",
       "  'hampered',\n",
       "  'effort',\n",
       "  'firefighter',\n",
       "  'wind',\n",
       "  'gust',\n",
       "  'associated',\n",
       "  'thunderstorm'])"
      ]
     },
     "execution_count": 2,
     "metadata": {},
     "output_type": "execute_result"
    }
   ],
   "source": [
    "data = nlp.load_file('../data/lee.txt')\n",
    "docs = nlp.preprocess(data)\n",
    "len(data), data[0], docs[0]"
   ]
  },
  {
   "cell_type": "markdown",
   "metadata": {},
   "source": [
    "### Load computed models"
   ]
  },
  {
   "cell_type": "code",
   "execution_count": 3,
   "metadata": {},
   "outputs": [],
   "source": [
    "alphas = [0.01, 0.1, 1, 10]\n",
    "betas = [0.01, 0.1, 1, 10]\n",
    "num_topics = [5, 10, 15, 20]\n",
    "models = []\n",
    "\n",
    "for a in alphas:\n",
    "    for b in betas:\n",
    "        for k in num_topics:\n",
    "            name = '../data/models/lee/{}-{}-{}'.format(a, b, k)\n",
    "            models.append({ 'alpha': a, 'beta': b, 'num_topics': k, 'lda': LdaModel.load(name) })"
   ]
  },
  {
   "cell_type": "markdown",
   "metadata": {},
   "source": [
    "### Compute coherence metrics"
   ]
  },
  {
   "cell_type": "code",
   "execution_count": 7,
   "metadata": {},
   "outputs": [],
   "source": [
    "def add_metrics(model, measure_names, docs):\n",
    "    'Compute each measure and add it to the given model.'\n",
    "    for m in measure_names:\n",
    "        cm = CoherenceModel(model=model['lda'], texts=docs, coherence=m)\n",
    "        model[m] = cm.get_coherence()"
   ]
  },
  {
   "cell_type": "markdown",
   "metadata": {},
   "source": [
    "This could take some time to compute 5 x 4 x 4 x 4 = 384 metrics."
   ]
  },
  {
   "cell_type": "code",
   "execution_count": 8,
   "metadata": {},
   "outputs": [],
   "source": [
    "measure_names = ['u_mass', 'c_v', 'c_uci', 'c_npmi', 'c_w2v']\n",
    "for model in models:\n",
    "    add_metrics(model, measure_names, docs)    "
   ]
  },
  {
   "cell_type": "markdown",
   "metadata": {},
   "source": [
    "### Add other metrics"
   ]
  },
  {
   "cell_type": "code",
   "execution_count": 11,
   "metadata": {},
   "outputs": [],
   "source": [
    "def add_other_metrics(models, corpus):\n",
    "    # Perplexity\n",
    "    for model in models:\n",
    "        model['perplexity'] = model['lda'].log_perplexity(corpus)"
   ]
  },
  {
   "cell_type": "code",
   "execution_count": 12,
   "metadata": {},
   "outputs": [],
   "source": [
    "corpus, dictionary = nlp.build_corpus_dictionary(docs, min_count=10)\n",
    "add_other_metrics(models, corpus)"
   ]
  },
  {
   "cell_type": "markdown",
   "metadata": {},
   "source": [
    "### Look at correlation between the metrics"
   ]
  },
  {
   "cell_type": "code",
   "execution_count": 18,
   "metadata": {},
   "outputs": [
    {
     "data": {
      "text/html": [
       "<div>\n",
       "<style scoped>\n",
       "    .dataframe tbody tr th:only-of-type {\n",
       "        vertical-align: middle;\n",
       "    }\n",
       "\n",
       "    .dataframe tbody tr th {\n",
       "        vertical-align: top;\n",
       "    }\n",
       "\n",
       "    .dataframe thead th {\n",
       "        text-align: right;\n",
       "    }\n",
       "</style>\n",
       "<table border=\"1\" class=\"dataframe\">\n",
       "  <thead>\n",
       "    <tr style=\"text-align: right;\">\n",
       "      <th></th>\n",
       "      <th>alpha</th>\n",
       "      <th>beta</th>\n",
       "      <th>c_npmi</th>\n",
       "      <th>c_uci</th>\n",
       "      <th>c_v</th>\n",
       "      <th>c_w2v</th>\n",
       "      <th>num_topics</th>\n",
       "      <th>perplexity</th>\n",
       "      <th>u_mass</th>\n",
       "    </tr>\n",
       "  </thead>\n",
       "  <tbody>\n",
       "    <tr>\n",
       "      <th>0</th>\n",
       "      <td>0.01</td>\n",
       "      <td>0.01</td>\n",
       "      <td>-0.003759</td>\n",
       "      <td>-1.836443</td>\n",
       "      <td>0.449097</td>\n",
       "      <td>0.998194</td>\n",
       "      <td>5</td>\n",
       "      <td>-6.246609</td>\n",
       "      <td>-2.393090</td>\n",
       "    </tr>\n",
       "    <tr>\n",
       "      <th>1</th>\n",
       "      <td>0.01</td>\n",
       "      <td>0.01</td>\n",
       "      <td>-0.037455</td>\n",
       "      <td>-2.854046</td>\n",
       "      <td>0.470005</td>\n",
       "      <td>0.998829</td>\n",
       "      <td>10</td>\n",
       "      <td>-6.302226</td>\n",
       "      <td>-2.233028</td>\n",
       "    </tr>\n",
       "    <tr>\n",
       "      <th>2</th>\n",
       "      <td>0.01</td>\n",
       "      <td>0.01</td>\n",
       "      <td>-0.059600</td>\n",
       "      <td>-3.329506</td>\n",
       "      <td>0.433467</td>\n",
       "      <td>0.998800</td>\n",
       "      <td>15</td>\n",
       "      <td>-6.363658</td>\n",
       "      <td>-2.439774</td>\n",
       "    </tr>\n",
       "    <tr>\n",
       "      <th>3</th>\n",
       "      <td>0.01</td>\n",
       "      <td>0.01</td>\n",
       "      <td>-0.075871</td>\n",
       "      <td>-3.677816</td>\n",
       "      <td>0.412369</td>\n",
       "      <td>0.998757</td>\n",
       "      <td>20</td>\n",
       "      <td>-6.402373</td>\n",
       "      <td>-2.509307</td>\n",
       "    </tr>\n",
       "    <tr>\n",
       "      <th>4</th>\n",
       "      <td>0.01</td>\n",
       "      <td>0.10</td>\n",
       "      <td>-0.008113</td>\n",
       "      <td>-2.012630</td>\n",
       "      <td>0.449335</td>\n",
       "      <td>0.998223</td>\n",
       "      <td>5</td>\n",
       "      <td>-6.038808</td>\n",
       "      <td>-2.413199</td>\n",
       "    </tr>\n",
       "  </tbody>\n",
       "</table>\n",
       "</div>"
      ],
      "text/plain": [
       "   alpha  beta    c_npmi     c_uci       c_v     c_w2v  num_topics  \\\n",
       "0   0.01  0.01 -0.003759 -1.836443  0.449097  0.998194           5   \n",
       "1   0.01  0.01 -0.037455 -2.854046  0.470005  0.998829          10   \n",
       "2   0.01  0.01 -0.059600 -3.329506  0.433467  0.998800          15   \n",
       "3   0.01  0.01 -0.075871 -3.677816  0.412369  0.998757          20   \n",
       "4   0.01  0.10 -0.008113 -2.012630  0.449335  0.998223           5   \n",
       "\n",
       "   perplexity    u_mass  \n",
       "0   -6.246609 -2.393090  \n",
       "1   -6.302226 -2.233028  \n",
       "2   -6.363658 -2.439774  \n",
       "3   -6.402373 -2.509307  \n",
       "4   -6.038808 -2.413199  "
      ]
     },
     "execution_count": 18,
     "metadata": {},
     "output_type": "execute_result"
    }
   ],
   "source": [
    "df = pd.DataFrame(models)\n",
    "df.head()"
   ]
  },
  {
   "cell_type": "code",
   "execution_count": 14,
   "metadata": {},
   "outputs": [
    {
     "data": {
      "text/plain": [
       "<seaborn.axisgrid.PairGrid at 0x12209c1d0>"
      ]
     },
     "execution_count": 14,
     "metadata": {},
     "output_type": "execute_result"
    },
    {
     "data": {
      "image/png": "[encoded data removed]",
      "text/plain": [
       "<matplotlib.figure.Figure at 0x12209c128>"
      ]
     },
     "metadata": {},
     "output_type": "display_data"
    }
   ],
   "source": [
    "metrics = measure_names + ['perplexity']\n",
    "sns.pairplot(df[metrics])"
   ]
  },
  {
   "cell_type": "code",
   "execution_count": 15,
   "metadata": {},
   "outputs": [
    {
     "data": {
      "text/html": [
       "<div>\n",
       "<style scoped>\n",
       "    .dataframe tbody tr th:only-of-type {\n",
       "        vertical-align: middle;\n",
       "    }\n",
       "\n",
       "    .dataframe tbody tr th {\n",
       "        vertical-align: top;\n",
       "    }\n",
       "\n",
       "    .dataframe thead th {\n",
       "        text-align: right;\n",
       "    }\n",
       "</style>\n",
       "<table border=\"1\" class=\"dataframe\">\n",
       "  <thead>\n",
       "    <tr style=\"text-align: right;\">\n",
       "      <th></th>\n",
       "      <th>u_mass</th>\n",
       "      <th>c_v</th>\n",
       "      <th>c_uci</th>\n",
       "      <th>c_npmi</th>\n",
       "      <th>c_w2v</th>\n",
       "      <th>perplexity</th>\n",
       "    </tr>\n",
       "  </thead>\n",
       "  <tbody>\n",
       "    <tr>\n",
       "      <th>u_mass</th>\n",
       "      <td>1.000000</td>\n",
       "      <td>-0.287806</td>\n",
       "      <td>0.912185</td>\n",
       "      <td>0.818642</td>\n",
       "      <td>-0.562415</td>\n",
       "      <td>0.436741</td>\n",
       "    </tr>\n",
       "    <tr>\n",
       "      <th>c_v</th>\n",
       "      <td>-0.287806</td>\n",
       "      <td>1.000000</td>\n",
       "      <td>-0.194675</td>\n",
       "      <td>0.173627</td>\n",
       "      <td>0.728527</td>\n",
       "      <td>0.482732</td>\n",
       "    </tr>\n",
       "    <tr>\n",
       "      <th>c_uci</th>\n",
       "      <td>0.912185</td>\n",
       "      <td>-0.194675</td>\n",
       "      <td>1.000000</td>\n",
       "      <td>0.927210</td>\n",
       "      <td>-0.636553</td>\n",
       "      <td>0.394107</td>\n",
       "    </tr>\n",
       "    <tr>\n",
       "      <th>c_npmi</th>\n",
       "      <td>0.818642</td>\n",
       "      <td>0.173627</td>\n",
       "      <td>0.927210</td>\n",
       "      <td>1.000000</td>\n",
       "      <td>-0.358857</td>\n",
       "      <td>0.610780</td>\n",
       "    </tr>\n",
       "    <tr>\n",
       "      <th>c_w2v</th>\n",
       "      <td>-0.562415</td>\n",
       "      <td>0.728527</td>\n",
       "      <td>-0.636553</td>\n",
       "      <td>-0.358857</td>\n",
       "      <td>1.000000</td>\n",
       "      <td>0.138437</td>\n",
       "    </tr>\n",
       "    <tr>\n",
       "      <th>perplexity</th>\n",
       "      <td>0.436741</td>\n",
       "      <td>0.482732</td>\n",
       "      <td>0.394107</td>\n",
       "      <td>0.610780</td>\n",
       "      <td>0.138437</td>\n",
       "      <td>1.000000</td>\n",
       "    </tr>\n",
       "  </tbody>\n",
       "</table>\n",
       "</div>"
      ],
      "text/plain": [
       "              u_mass       c_v     c_uci    c_npmi     c_w2v  perplexity\n",
       "u_mass      1.000000 -0.287806  0.912185  0.818642 -0.562415    0.436741\n",
       "c_v        -0.287806  1.000000 -0.194675  0.173627  0.728527    0.482732\n",
       "c_uci       0.912185 -0.194675  1.000000  0.927210 -0.636553    0.394107\n",
       "c_npmi      0.818642  0.173627  0.927210  1.000000 -0.358857    0.610780\n",
       "c_w2v      -0.562415  0.728527 -0.636553 -0.358857  1.000000    0.138437\n",
       "perplexity  0.436741  0.482732  0.394107  0.610780  0.138437    1.000000"
      ]
     },
     "execution_count": 15,
     "metadata": {},
     "output_type": "execute_result"
    }
   ],
   "source": [
    "df[metrics].corr()"
   ]
  },
  {
   "cell_type": "markdown",
   "metadata": {},
   "source": [
    "### Exports metrics"
   ]
  },
  {
   "cell_type": "code",
   "execution_count": 24,
   "metadata": {},
   "outputs": [],
   "source": [
    "for model in models:\n",
    "    model.pop('lda', None)\n",
    "    \n",
    "with open('../data/lee-metrics.json', 'w') as f:\n",
    "    json.dump(models, f)"
   ]
  },
  {
   "cell_type": "markdown",
   "metadata": {},
   "source": [
    "It seems that u_mass, c_uci and c_npmi correlate well. Let's focus on those metrics only."
   ]
  },
  {
   "cell_type": "code",
   "execution_count": 40,
   "metadata": {},
   "outputs": [],
   "source": [
    "focus_measures = ['u_mass', 'c_uci', 'c_npmi']"
   ]
  },
  {
   "cell_type": "markdown",
   "metadata": {},
   "source": [
    "### Look at metrics with different parameter groupings"
   ]
  },
  {
   "cell_type": "code",
   "execution_count": 43,
   "metadata": {},
   "outputs": [
    {
     "data": {
      "text/plain": [
       "<seaborn.axisgrid.PairGrid at 0x136c119b0>"
      ]
     },
     "execution_count": 43,
     "metadata": {},
     "output_type": "execute_result"
    },
    {
     "data": {
      "image/png": "[encoded data removed]",
      "text/plain": [
       "<matplotlib.figure.Figure at 0x1361cc748>"
      ]
     },
     "metadata": {},
     "output_type": "display_data"
    }
   ],
   "source": [
    "sns.pairplot(df, vars=focus_measures, hue='num_topics')"
   ]
  },
  {
   "cell_type": "code",
   "execution_count": 33,
   "metadata": {},
   "outputs": [
    {
     "data": {
      "text/html": [
       "<div>\n",
       "<style scoped>\n",
       "    .dataframe tbody tr th:only-of-type {\n",
       "        vertical-align: middle;\n",
       "    }\n",
       "\n",
       "    .dataframe tbody tr th {\n",
       "        vertical-align: top;\n",
       "    }\n",
       "\n",
       "    .dataframe thead th {\n",
       "        text-align: right;\n",
       "    }\n",
       "</style>\n",
       "<table border=\"1\" class=\"dataframe\">\n",
       "  <thead>\n",
       "    <tr style=\"text-align: right;\">\n",
       "      <th></th>\n",
       "      <th>u_mass</th>\n",
       "      <th>c_uci</th>\n",
       "      <th>c_npmi</th>\n",
       "    </tr>\n",
       "  </thead>\n",
       "  <tbody>\n",
       "    <tr>\n",
       "      <th>0</th>\n",
       "      <td>32.0</td>\n",
       "      <td>46.0</td>\n",
       "      <td>58.0</td>\n",
       "    </tr>\n",
       "    <tr>\n",
       "      <th>1</th>\n",
       "      <td>41.0</td>\n",
       "      <td>32.0</td>\n",
       "      <td>40.0</td>\n",
       "    </tr>\n",
       "    <tr>\n",
       "      <th>2</th>\n",
       "      <td>20.0</td>\n",
       "      <td>24.0</td>\n",
       "      <td>24.0</td>\n",
       "    </tr>\n",
       "    <tr>\n",
       "      <th>3</th>\n",
       "      <td>14.0</td>\n",
       "      <td>16.0</td>\n",
       "      <td>17.0</td>\n",
       "    </tr>\n",
       "    <tr>\n",
       "      <th>4</th>\n",
       "      <td>24.0</td>\n",
       "      <td>40.5</td>\n",
       "      <td>54.0</td>\n",
       "    </tr>\n",
       "  </tbody>\n",
       "</table>\n",
       "</div>"
      ],
      "text/plain": [
       "   u_mass  c_uci  c_npmi\n",
       "0    32.0   46.0    58.0\n",
       "1    41.0   32.0    40.0\n",
       "2    20.0   24.0    24.0\n",
       "3    14.0   16.0    17.0\n",
       "4    24.0   40.5    54.0"
      ]
     },
     "execution_count": 33,
     "metadata": {},
     "output_type": "execute_result"
    }
   ],
   "source": [
    "rank_df = df[focus_measures].rank()\n",
    "rank_df.head()"
   ]
  },
  {
   "cell_type": "code",
   "execution_count": 35,
   "metadata": {
    "scrolled": true
   },
   "outputs": [
    {
     "data": {
      "text/html": [
       "<div>\n",
       "<style scoped>\n",
       "    .dataframe tbody tr th:only-of-type {\n",
       "        vertical-align: middle;\n",
       "    }\n",
       "\n",
       "    .dataframe tbody tr th {\n",
       "        vertical-align: top;\n",
       "    }\n",
       "\n",
       "    .dataframe thead th {\n",
       "        text-align: right;\n",
       "    }\n",
       "</style>\n",
       "<table border=\"1\" class=\"dataframe\">\n",
       "  <thead>\n",
       "    <tr style=\"text-align: right;\">\n",
       "      <th></th>\n",
       "      <th>u_mass</th>\n",
       "      <th>c_uci</th>\n",
       "      <th>c_npmi</th>\n",
       "    </tr>\n",
       "  </thead>\n",
       "  <tbody>\n",
       "    <tr>\n",
       "      <th>u_mass</th>\n",
       "      <td>1.000000</td>\n",
       "      <td>0.820094</td>\n",
       "      <td>0.566836</td>\n",
       "    </tr>\n",
       "    <tr>\n",
       "      <th>c_uci</th>\n",
       "      <td>0.820094</td>\n",
       "      <td>1.000000</td>\n",
       "      <td>0.842938</td>\n",
       "    </tr>\n",
       "    <tr>\n",
       "      <th>c_npmi</th>\n",
       "      <td>0.566836</td>\n",
       "      <td>0.842938</td>\n",
       "      <td>1.000000</td>\n",
       "    </tr>\n",
       "  </tbody>\n",
       "</table>\n",
       "</div>"
      ],
      "text/plain": [
       "          u_mass     c_uci    c_npmi\n",
       "u_mass  1.000000  0.820094  0.566836\n",
       "c_uci   0.820094  1.000000  0.842938\n",
       "c_npmi  0.566836  0.842938  1.000000"
      ]
     },
     "execution_count": 35,
     "metadata": {},
     "output_type": "execute_result"
    }
   ],
   "source": [
    "rank_df.corr()"
   ]
  },
  {
   "cell_type": "code",
   "execution_count": 37,
   "metadata": {},
   "outputs": [
    {
     "data": {
      "text/html": [
       "<div>\n",
       "<style scoped>\n",
       "    .dataframe tbody tr th:only-of-type {\n",
       "        vertical-align: middle;\n",
       "    }\n",
       "\n",
       "    .dataframe tbody tr th {\n",
       "        vertical-align: top;\n",
       "    }\n",
       "\n",
       "    .dataframe thead th {\n",
       "        text-align: right;\n",
       "    }\n",
       "</style>\n",
       "<table border=\"1\" class=\"dataframe\">\n",
       "  <thead>\n",
       "    <tr style=\"text-align: right;\">\n",
       "      <th></th>\n",
       "      <th>u_mass</th>\n",
       "      <th>c_v</th>\n",
       "      <th>c_uci</th>\n",
       "      <th>c_npmi</th>\n",
       "      <th>c_w2v</th>\n",
       "    </tr>\n",
       "  </thead>\n",
       "  <tbody>\n",
       "    <tr>\n",
       "      <th>u_mass</th>\n",
       "      <td>1.000000</td>\n",
       "      <td>-0.102159</td>\n",
       "      <td>0.820094</td>\n",
       "      <td>0.566836</td>\n",
       "      <td>-0.652365</td>\n",
       "    </tr>\n",
       "    <tr>\n",
       "      <th>c_v</th>\n",
       "      <td>-0.102159</td>\n",
       "      <td>1.000000</td>\n",
       "      <td>0.040365</td>\n",
       "      <td>0.480465</td>\n",
       "      <td>0.027542</td>\n",
       "    </tr>\n",
       "    <tr>\n",
       "      <th>c_uci</th>\n",
       "      <td>0.820094</td>\n",
       "      <td>0.040365</td>\n",
       "      <td>1.000000</td>\n",
       "      <td>0.842938</td>\n",
       "      <td>-0.865434</td>\n",
       "    </tr>\n",
       "    <tr>\n",
       "      <th>c_npmi</th>\n",
       "      <td>0.566836</td>\n",
       "      <td>0.480465</td>\n",
       "      <td>0.842938</td>\n",
       "      <td>1.000000</td>\n",
       "      <td>-0.722925</td>\n",
       "    </tr>\n",
       "    <tr>\n",
       "      <th>c_w2v</th>\n",
       "      <td>-0.652365</td>\n",
       "      <td>0.027542</td>\n",
       "      <td>-0.865434</td>\n",
       "      <td>-0.722925</td>\n",
       "      <td>1.000000</td>\n",
       "    </tr>\n",
       "  </tbody>\n",
       "</table>\n",
       "</div>"
      ],
      "text/plain": [
       "          u_mass       c_v     c_uci    c_npmi     c_w2v\n",
       "u_mass  1.000000 -0.102159  0.820094  0.566836 -0.652365\n",
       "c_v    -0.102159  1.000000  0.040365  0.480465  0.027542\n",
       "c_uci   0.820094  0.040365  1.000000  0.842938 -0.865434\n",
       "c_npmi  0.566836  0.480465  0.842938  1.000000 -0.722925\n",
       "c_w2v  -0.652365  0.027542 -0.865434 -0.722925  1.000000"
      ]
     },
     "execution_count": 37,
     "metadata": {},
     "output_type": "execute_result"
    }
   ],
   "source": [
    "df[measure_names].rank().corr()"
   ]
  },
  {
   "cell_type": "code",
   "execution_count": 44,
   "metadata": {},
   "outputs": [
    {
     "data": {
      "text/html": [
       "<div>\n",
       "<style scoped>\n",
       "    .dataframe tbody tr th:only-of-type {\n",
       "        vertical-align: middle;\n",
       "    }\n",
       "\n",
       "    .dataframe tbody tr th {\n",
       "        vertical-align: top;\n",
       "    }\n",
       "\n",
       "    .dataframe thead th {\n",
       "        text-align: right;\n",
       "    }\n",
       "</style>\n",
       "<table border=\"1\" class=\"dataframe\">\n",
       "  <thead>\n",
       "    <tr style=\"text-align: right;\">\n",
       "      <th></th>\n",
       "      <th>u_mass</th>\n",
       "      <th>c_v</th>\n",
       "      <th>c_uci</th>\n",
       "      <th>c_npmi</th>\n",
       "      <th>c_w2v</th>\n",
       "    </tr>\n",
       "  </thead>\n",
       "  <tbody>\n",
       "    <tr>\n",
       "      <th>u_mass</th>\n",
       "      <td>1.000000</td>\n",
       "      <td>-0.287806</td>\n",
       "      <td>0.912185</td>\n",
       "      <td>0.818642</td>\n",
       "      <td>-0.559131</td>\n",
       "    </tr>\n",
       "    <tr>\n",
       "      <th>c_v</th>\n",
       "      <td>-0.287806</td>\n",
       "      <td>1.000000</td>\n",
       "      <td>-0.194675</td>\n",
       "      <td>0.173627</td>\n",
       "      <td>0.694179</td>\n",
       "    </tr>\n",
       "    <tr>\n",
       "      <th>c_uci</th>\n",
       "      <td>0.912185</td>\n",
       "      <td>-0.194675</td>\n",
       "      <td>1.000000</td>\n",
       "      <td>0.927210</td>\n",
       "      <td>-0.651474</td>\n",
       "    </tr>\n",
       "    <tr>\n",
       "      <th>c_npmi</th>\n",
       "      <td>0.818642</td>\n",
       "      <td>0.173627</td>\n",
       "      <td>0.927210</td>\n",
       "      <td>1.000000</td>\n",
       "      <td>-0.385126</td>\n",
       "    </tr>\n",
       "    <tr>\n",
       "      <th>c_w2v</th>\n",
       "      <td>-0.559131</td>\n",
       "      <td>0.694179</td>\n",
       "      <td>-0.651474</td>\n",
       "      <td>-0.385126</td>\n",
       "      <td>1.000000</td>\n",
       "    </tr>\n",
       "  </tbody>\n",
       "</table>\n",
       "</div>"
      ],
      "text/plain": [
       "          u_mass       c_v     c_uci    c_npmi     c_w2v\n",
       "u_mass  1.000000 -0.287806  0.912185  0.818642 -0.559131\n",
       "c_v    -0.287806  1.000000 -0.194675  0.173627  0.694179\n",
       "c_uci   0.912185 -0.194675  1.000000  0.927210 -0.651474\n",
       "c_npmi  0.818642  0.173627  0.927210  1.000000 -0.385126\n",
       "c_w2v  -0.559131  0.694179 -0.651474 -0.385126  1.000000"
      ]
     },
     "execution_count": 44,
     "metadata": {},
     "output_type": "execute_result"
    }
   ],
   "source": [
    "df[measure_names].corr()"
   ]
  },
  {
   "cell_type": "markdown",
   "metadata": {},
   "source": [
    "---"
   ]
  },
  {
   "cell_type": "code",
   "execution_count": 19,
   "metadata": {
    "collapsed": true
   },
   "outputs": [],
   "source": [
    "%load_ext autoreload\n",
    "%autoreload 2"
   ]
  }
 ],
 "metadata": {
  "kernelspec": {
   "display_name": "Python 3",
   "language": "python",
   "name": "python3"
  },
  "language_info": {
   "codemirror_mode": {
    "name": "ipython",
    "version": 3
   },
   "file_extension": ".py",
   "mimetype": "text/x-python",
   "name": "python",
   "nbconvert_exporter": "python",
   "pygments_lexer": "ipython3",
   "version": "3.6.4"
  },
  "toc": {
   "base_numbering": 1,
   "nav_menu": {},
   "number_sections": false,
   "sideBar": true,
   "skip_h1_title": true,
   "title_cell": "Contents",
   "title_sidebar": "Contents",
   "toc_cell": false,
   "toc_position": {},
   "toc_section_display": true,
   "toc_window_display": false
  }
 },
 "nbformat": 4,
 "nbformat_minor": 2
}
