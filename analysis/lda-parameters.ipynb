{
 "cells": [
  {
   "cell_type": "markdown",
   "metadata": {},
   "source": [
    "# LDA Topic Models with Varying Parameters"
   ]
  },
  {
   "cell_type": "markdown",
   "metadata": {},
   "source": [
    "*Apply LDA with different values of alpha and beta parameters. Export the models for visualisation.*"
   ]
  },
  {
   "cell_type": "code",
   "execution_count": 3,
   "metadata": {},
   "outputs": [],
   "source": [
    "import json\n",
    "\n",
    "from gensim.models.ldamodel import LdaModel\n",
    "from gensim import corpora\n",
    "\n",
    "from nltk.corpus import stopwords \n",
    "from nltk.stem.wordnet import WordNetLemmatizer\n",
    "import string\n",
    "\n",
    "from collections import Counter\n",
    "from itertools import chain"
   ]
  },
  {
   "cell_type": "markdown",
   "metadata": {},
   "source": [
    "## Data Preprocessing"
   ]
  },
  {
   "cell_type": "markdown",
   "metadata": {},
   "source": [
    "#### Load the data"
   ]
  },
  {
   "cell_type": "code",
   "execution_count": 4,
   "metadata": {},
   "outputs": [],
   "source": [
    "def load_data(filename):\n",
    "    'Return a list of documents.'\n",
    "    with open(filename, encoding='ISO-8859-1') as f:\n",
    "        return [line for line in f]"
   ]
  },
  {
   "cell_type": "code",
   "execution_count": 5,
   "metadata": {},
   "outputs": [
    {
     "data": {
      "text/plain": [
       "(300,\n",
       " 'Hundreds of people have been forced to vacate their homes in the Southern Highlands of New South Wales as strong winds today pushed a huge bushfire towards the town of Hill Top. A new blaze near Goulburn, south-west of Sydney, has forced the closure of the Hume Highway. At about 4:00pm AEDT, a marked deterioration in the weather as a storm cell moved east across the Blue Mountains forced authorities to make a decision to evacuate people from homes in outlying streets at Hill Top in the New South Wales southern highlands. An estimated 500 residents have left their homes for nearby Mittagong. The New South Wales Rural Fire Service says the weather conditions which caused the fire to burn in a finger formation have now eased and about 60 fire units in and around Hill Top are optimistic of defending all properties. As more than 100 blazes burn on New Year\\'s Eve in New South Wales, fire crews have been called to new fire at Gunning, south of Goulburn. While few details are available at this stage, fire authorities says it has closed the Hume Highway in both directions. Meanwhile, a new fire in Sydney\\'s west is no longer threatening properties in the Cranebrook area. Rain has fallen in some parts of the Illawarra, Sydney, the Hunter Valley and the north coast. But the Bureau of Meteorology\\'s Claire Richards says the rain has done little to ease any of the hundred fires still burning across the state. \"The falls have been quite isolated in those areas and generally the falls have been less than about five millimetres,\" she said. \"In some places really not significant at all, less than a millimetre, so there hasn\\'t been much relief as far as rain is concerned. \"In fact, they\\'ve probably hampered the efforts of the firefighters more because of the wind gusts that are associated with those thunderstorms.\" \\n')"
      ]
     },
     "execution_count": 5,
     "metadata": {},
     "output_type": "execute_result"
    }
   ],
   "source": [
    "data = load_data('../data/lee.txt')\n",
    "len(data), data[0]"
   ]
  },
  {
   "cell_type": "markdown",
   "metadata": {},
   "source": [
    "#### Clean the data"
   ]
  },
  {
   "cell_type": "code",
   "execution_count": 6,
   "metadata": {},
   "outputs": [],
   "source": [
    "def preprocess_documents(docs):\n",
    "    'Return tokens for documents after cleaning (stopwords/punctuation removal, lemmatization).'\n",
    "    stop = set(stopwords.words('english'))\n",
    "    exclude = set(string.punctuation + '“”’—') \n",
    "    lemma = WordNetLemmatizer()\n",
    "    return [clean(doc, stop, exclude, lemma) for doc in docs]\n",
    "\n",
    "def clean(doc, stop, exclude, lemma):\n",
    "    punc_free_doc = ''.join(c for c in doc if c not in exclude)\n",
    "    stop_free_words = [w for w in punc_free_doc.lower().split() if w not in stop]    \n",
    "    normalized_words = [lemma.lemmatize(w) for w in stop_free_words if len(w) >= 3]\n",
    "    return normalized_words"
   ]
  },
  {
   "cell_type": "code",
   "execution_count": 7,
   "metadata": {},
   "outputs": [
    {
     "data": {
      "text/plain": [
       "('Hundreds of people have been forced to vacate their homes in the Southern Highlands of New South Wales as strong winds today pushed a huge bushfire towards the town of Hill Top. A new blaze near Goulburn, south-west of Sydney, has forced the closure of the Hume Highway. At about 4:00pm AEDT, a marked deterioration in the weather as a storm cell moved east across the Blue Mountains forced authorities to make a decision to evacuate people from homes in outlying streets at Hill Top in the New South Wales southern highlands. An estimated 500 residents have left their homes for nearby Mittagong. The New South Wales Rural Fire Service says the weather conditions which caused the fire to burn in a finger formation have now eased and about 60 fire units in and around Hill Top are optimistic of defending all properties. As more than 100 blazes burn on New Year\\'s Eve in New South Wales, fire crews have been called to new fire at Gunning, south of Goulburn. While few details are available at this stage, fire authorities says it has closed the Hume Highway in both directions. Meanwhile, a new fire in Sydney\\'s west is no longer threatening properties in the Cranebrook area. Rain has fallen in some parts of the Illawarra, Sydney, the Hunter Valley and the north coast. But the Bureau of Meteorology\\'s Claire Richards says the rain has done little to ease any of the hundred fires still burning across the state. \"The falls have been quite isolated in those areas and generally the falls have been less than about five millimetres,\" she said. \"In some places really not significant at all, less than a millimetre, so there hasn\\'t been much relief as far as rain is concerned. \"In fact, they\\'ve probably hampered the efforts of the firefighters more because of the wind gusts that are associated with those thunderstorms.\" \\n',\n",
       " ['hundred',\n",
       "  'people',\n",
       "  'forced',\n",
       "  'vacate',\n",
       "  'home',\n",
       "  'southern',\n",
       "  'highland',\n",
       "  'new',\n",
       "  'south',\n",
       "  'wale',\n",
       "  'strong',\n",
       "  'wind',\n",
       "  'today',\n",
       "  'pushed',\n",
       "  'huge',\n",
       "  'bushfire',\n",
       "  'towards',\n",
       "  'town',\n",
       "  'hill',\n",
       "  'top',\n",
       "  'new',\n",
       "  'blaze',\n",
       "  'near',\n",
       "  'goulburn',\n",
       "  'southwest',\n",
       "  'sydney',\n",
       "  'forced',\n",
       "  'closure',\n",
       "  'hume',\n",
       "  'highway',\n",
       "  '400pm',\n",
       "  'aedt',\n",
       "  'marked',\n",
       "  'deterioration',\n",
       "  'weather',\n",
       "  'storm',\n",
       "  'cell',\n",
       "  'moved',\n",
       "  'east',\n",
       "  'across',\n",
       "  'blue',\n",
       "  'mountain',\n",
       "  'forced',\n",
       "  'authority',\n",
       "  'make',\n",
       "  'decision',\n",
       "  'evacuate',\n",
       "  'people',\n",
       "  'home',\n",
       "  'outlying',\n",
       "  'street',\n",
       "  'hill',\n",
       "  'top',\n",
       "  'new',\n",
       "  'south',\n",
       "  'wale',\n",
       "  'southern',\n",
       "  'highland',\n",
       "  'estimated',\n",
       "  '500',\n",
       "  'resident',\n",
       "  'left',\n",
       "  'home',\n",
       "  'nearby',\n",
       "  'mittagong',\n",
       "  'new',\n",
       "  'south',\n",
       "  'wale',\n",
       "  'rural',\n",
       "  'fire',\n",
       "  'service',\n",
       "  'say',\n",
       "  'weather',\n",
       "  'condition',\n",
       "  'caused',\n",
       "  'fire',\n",
       "  'burn',\n",
       "  'finger',\n",
       "  'formation',\n",
       "  'eased',\n",
       "  'fire',\n",
       "  'unit',\n",
       "  'around',\n",
       "  'hill',\n",
       "  'top',\n",
       "  'optimistic',\n",
       "  'defending',\n",
       "  'property',\n",
       "  '100',\n",
       "  'blaze',\n",
       "  'burn',\n",
       "  'new',\n",
       "  'year',\n",
       "  'eve',\n",
       "  'new',\n",
       "  'south',\n",
       "  'wale',\n",
       "  'fire',\n",
       "  'crew',\n",
       "  'called',\n",
       "  'new',\n",
       "  'fire',\n",
       "  'gunning',\n",
       "  'south',\n",
       "  'goulburn',\n",
       "  'detail',\n",
       "  'available',\n",
       "  'stage',\n",
       "  'fire',\n",
       "  'authority',\n",
       "  'say',\n",
       "  'closed',\n",
       "  'hume',\n",
       "  'highway',\n",
       "  'direction',\n",
       "  'meanwhile',\n",
       "  'new',\n",
       "  'fire',\n",
       "  'sydney',\n",
       "  'west',\n",
       "  'longer',\n",
       "  'threatening',\n",
       "  'property',\n",
       "  'cranebrook',\n",
       "  'area',\n",
       "  'rain',\n",
       "  'fallen',\n",
       "  'part',\n",
       "  'illawarra',\n",
       "  'sydney',\n",
       "  'hunter',\n",
       "  'valley',\n",
       "  'north',\n",
       "  'coast',\n",
       "  'bureau',\n",
       "  'meteorology',\n",
       "  'claire',\n",
       "  'richards',\n",
       "  'say',\n",
       "  'rain',\n",
       "  'done',\n",
       "  'little',\n",
       "  'ease',\n",
       "  'hundred',\n",
       "  'fire',\n",
       "  'still',\n",
       "  'burning',\n",
       "  'across',\n",
       "  'state',\n",
       "  'fall',\n",
       "  'quite',\n",
       "  'isolated',\n",
       "  'area',\n",
       "  'generally',\n",
       "  'fall',\n",
       "  'le',\n",
       "  'five',\n",
       "  'millimetre',\n",
       "  'said',\n",
       "  'place',\n",
       "  'really',\n",
       "  'significant',\n",
       "  'le',\n",
       "  'millimetre',\n",
       "  'hasnt',\n",
       "  'much',\n",
       "  'relief',\n",
       "  'far',\n",
       "  'rain',\n",
       "  'concerned',\n",
       "  'fact',\n",
       "  'theyve',\n",
       "  'probably',\n",
       "  'hampered',\n",
       "  'effort',\n",
       "  'firefighter',\n",
       "  'wind',\n",
       "  'gust',\n",
       "  'associated',\n",
       "  'thunderstorm'])"
      ]
     },
     "execution_count": 7,
     "metadata": {},
     "output_type": "execute_result"
    }
   ],
   "source": [
    "docs = preprocess_documents(data)\n",
    "data[0], docs[0]"
   ]
  },
  {
   "cell_type": "markdown",
   "metadata": {},
   "source": [
    "## Topic Modelling with LDA"
   ]
  },
  {
   "cell_type": "markdown",
   "metadata": {},
   "source": [
    "#### Find topics of the whole corpus"
   ]
  },
  {
   "cell_type": "code",
   "execution_count": 8,
   "metadata": {},
   "outputs": [],
   "source": [
    "def build_lda(corpus, num_topics=10, passes=10, alpha='symmetric', eta=None):\n",
    "    'Return an LDA model from the given doc-term matrix .'\n",
    "    return LdaModel(corpus, num_topics=num_topics, id2word=dictionary, passes=passes, alpha=alpha, eta=eta, random_state=0)\n",
    "\n",
    "def get_model_topics(lda):\n",
    "    return [[(lda.id2word[t], '{:.3f}'.format(p)) for t, p in lda.get_topic_terms(i)] for i in range(lda.num_topics)]"
   ]
  },
  {
   "cell_type": "code",
   "execution_count": 9,
   "metadata": {
    "scrolled": true
   },
   "outputs": [
    {
     "name": "stderr",
     "output_type": "stream",
     "text": [
      "/anaconda3/lib/python3.6/site-packages/gensim/models/ldamodel.py:775: RuntimeWarning: divide by zero encountered in log\n",
      "  diff = np.log(self.expElogbeta)\n"
     ]
    },
    {
     "data": {
      "text/plain": [
       "[[('palestinian', '0.020'),\n",
       "  ('arafat', '0.015'),\n",
       "  ('said', '0.015'),\n",
       "  ('israeli', '0.013'),\n",
       "  ('say', '0.011'),\n",
       "  ('minister', '0.008'),\n",
       "  ('gaza', '0.007'),\n",
       "  ('israel', '0.006'),\n",
       "  ('west', '0.006'),\n",
       "  ('attack', '0.006')],\n",
       " [('say', '0.021'),\n",
       "  ('new', '0.011'),\n",
       "  ('south', '0.011'),\n",
       "  ('fire', '0.010'),\n",
       "  ('australia', '0.009'),\n",
       "  ('said', '0.007'),\n",
       "  ('people', '0.006'),\n",
       "  ('firefighter', '0.005'),\n",
       "  ('two', '0.005'),\n",
       "  ('year', '0.004')],\n",
       " [('said', '0.017'),\n",
       "  ('say', '0.017'),\n",
       "  ('year', '0.008'),\n",
       "  ('australian', '0.006'),\n",
       "  ('day', '0.004'),\n",
       "  ('new', '0.004'),\n",
       "  ('river', '0.004'),\n",
       "  ('could', '0.003'),\n",
       "  ('take', '0.003'),\n",
       "  ('people', '0.003')],\n",
       " [('said', '0.016'),\n",
       "  ('say', '0.009'),\n",
       "  ('metre', '0.008'),\n",
       "  ('pakistan', '0.006'),\n",
       "  ('two', '0.005'),\n",
       "  ('minister', '0.005'),\n",
       "  ('last', '0.005'),\n",
       "  ('palestinian', '0.005'),\n",
       "  ('australian', '0.005'),\n",
       "  ('attack', '0.005')],\n",
       " [('said', '0.019'),\n",
       "  ('say', '0.016'),\n",
       "  ('force', '0.010'),\n",
       "  ('afghanistan', '0.009'),\n",
       "  ('government', '0.008'),\n",
       "  ('qaeda', '0.007'),\n",
       "  ('bin', '0.007'),\n",
       "  ('bora', '0.006'),\n",
       "  ('laden', '0.006'),\n",
       "  ('tora', '0.006')],\n",
       " [('say', '0.018'),\n",
       "  ('australian', '0.010'),\n",
       "  ('union', '0.010'),\n",
       "  ('said', '0.009'),\n",
       "  ('worker', '0.007'),\n",
       "  ('qantas', '0.006'),\n",
       "  ('government', '0.005'),\n",
       "  ('company', '0.004'),\n",
       "  ('year', '0.004'),\n",
       "  ('detainee', '0.004')],\n",
       " [('say', '0.010'),\n",
       "  ('test', '0.009'),\n",
       "  ('said', '0.009'),\n",
       "  ('palestinian', '0.009'),\n",
       "  ('south', '0.007'),\n",
       "  ('day', '0.007'),\n",
       "  ('first', '0.007'),\n",
       "  ('australia', '0.006'),\n",
       "  ('new', '0.006'),\n",
       "  ('israeli', '0.005')],\n",
       " [('said', '0.020'),\n",
       "  ('say', '0.013'),\n",
       "  ('people', '0.007'),\n",
       "  ('united', '0.006'),\n",
       "  ('bin', '0.005'),\n",
       "  ('attack', '0.005'),\n",
       "  ('afghanistan', '0.005'),\n",
       "  ('would', '0.004'),\n",
       "  ('state', '0.004'),\n",
       "  ('taliban', '0.004')],\n",
       " [('say', '0.017'),\n",
       "  ('said', '0.010'),\n",
       "  ('people', '0.009'),\n",
       "  ('police', '0.006'),\n",
       "  ('new', '0.006'),\n",
       "  ('state', '0.006'),\n",
       "  ('australian', '0.006'),\n",
       "  ('sydney', '0.005'),\n",
       "  ('storm', '0.005'),\n",
       "  ('australia', '0.005')],\n",
       " [('say', '0.015'),\n",
       "  ('said', '0.014'),\n",
       "  ('australia', '0.006'),\n",
       "  ('one', '0.006'),\n",
       "  ('two', '0.005'),\n",
       "  ('new', '0.005'),\n",
       "  ('australian', '0.005'),\n",
       "  ('first', '0.005'),\n",
       "  ('year', '0.004'),\n",
       "  ('world', '0.004')]]"
      ]
     },
     "execution_count": 9,
     "metadata": {},
     "output_type": "execute_result"
    }
   ],
   "source": [
    "dictionary = corpora.Dictionary(docs)\n",
    "corpus = [dictionary.doc2bow(doc) for doc in docs]    \n",
    "lda = build_lda(corpus, alpha=10, eta=0.01, num_topics=10)\n",
    "get_model_topics(lda)"
   ]
  },
  {
   "cell_type": "markdown",
   "metadata": {},
   "source": [
    "#### Get topics associated with documents"
   ]
  },
  {
   "cell_type": "code",
   "execution_count": 10,
   "metadata": {},
   "outputs": [],
   "source": [
    "def get_topics_for_documents(lda, corpus):\n",
    "    'Return top 5 topic probabilities for each document in the given corpus.'\n",
    "    return [get_topics_for_one_document(lda, doc) for doc in corpus]\n",
    "\n",
    "def get_topics_for_one_document(lda, doc):\n",
    "    topics = sorted(lda.get_document_topics(doc, minimum_probability=10**-6), key = lambda x: -x[1])[:5]\n",
    "    return [float('{:.3f}'.format(p)) for (t, p) in topics]"
   ]
  },
  {
   "cell_type": "code",
   "execution_count": 11,
   "metadata": {},
   "outputs": [
    {
     "data": {
      "text/plain": [
       "[[0.394, 0.156, 0.074, 0.071, 0.063],\n",
       " [0.154, 0.137, 0.12, 0.113, 0.094],\n",
       " [0.125, 0.116, 0.109, 0.105, 0.1],\n",
       " [0.195, 0.113, 0.106, 0.103, 0.1],\n",
       " [0.17, 0.13, 0.128, 0.108, 0.08],\n",
       " [0.218, 0.115, 0.095, 0.095, 0.094],\n",
       " [0.259, 0.17, 0.124, 0.078, 0.071],\n",
       " [0.141, 0.118, 0.116, 0.107, 0.091],\n",
       " [0.464, 0.079, 0.067, 0.065, 0.063],\n",
       " [0.294, 0.087, 0.086, 0.084, 0.084]]"
      ]
     },
     "execution_count": 11,
     "metadata": {},
     "output_type": "execute_result"
    }
   ],
   "source": [
    "output_topics = get_topics_for_documents(lda, corpus)\n",
    "output_topics[:10]"
   ]
  },
  {
   "cell_type": "markdown",
   "metadata": {},
   "source": [
    "#### Find terms associated with topics "
   ]
  },
  {
   "cell_type": "code",
   "execution_count": 12,
   "metadata": {},
   "outputs": [],
   "source": [
    "def get_terms_for_topics(lda):\n",
    "    'Return term probabilities for each topic. Only top 5 terms.'\n",
    "    return [get_terms_for_one_topic(lda, i) for i in range(lda.num_topics)]\n",
    "\n",
    "def get_terms_for_one_topic(lda, topic_id):\n",
    "    return [float('{:.3f}'.format(p)) for t, p in lda.get_topic_terms(topic_id, topn=5)]"
   ]
  },
  {
   "cell_type": "code",
   "execution_count": 13,
   "metadata": {},
   "outputs": [
    {
     "data": {
      "text/plain": [
       "[[0.02, 0.015, 0.015, 0.013, 0.011],\n",
       " [0.021, 0.011, 0.011, 0.01, 0.009],\n",
       " [0.017, 0.017, 0.008, 0.006, 0.004],\n",
       " [0.016, 0.009, 0.008, 0.006, 0.005],\n",
       " [0.019, 0.016, 0.01, 0.009, 0.008],\n",
       " [0.018, 0.01, 0.01, 0.009, 0.007],\n",
       " [0.01, 0.009, 0.009, 0.009, 0.007],\n",
       " [0.02, 0.013, 0.007, 0.006, 0.005],\n",
       " [0.017, 0.01, 0.009, 0.006, 0.006],\n",
       " [0.015, 0.014, 0.006, 0.006, 0.005]]"
      ]
     },
     "execution_count": 13,
     "metadata": {},
     "output_type": "execute_result"
    }
   ],
   "source": [
    "output_terms = get_terms_for_topics(lda)\n",
    "output_terms"
   ]
  },
  {
   "cell_type": "markdown",
   "metadata": {},
   "source": [
    "## Export Model Data"
   ]
  },
  {
   "cell_type": "code",
   "execution_count": 14,
   "metadata": {},
   "outputs": [],
   "source": [
    "def export_model_data(corpus, alpha, beta):\n",
    "    'Return a dictionary detailing model parameters and probability matrices.'\n",
    "    lda = build_lda(corpus, alpha=alpha, eta=beta)\n",
    "    return {\n",
    "        'alpha': alpha,\n",
    "        'beta': beta,\n",
    "        'num_topics': lda.num_topics,\n",
    "        'doc_topics': get_topics_for_documents(lda, corpus),\n",
    "        'topic_terms': get_terms_for_topics(lda)\n",
    "    }"
   ]
  },
  {
   "cell_type": "code",
   "execution_count": 15,
   "metadata": {},
   "outputs": [],
   "source": [
    "def save_file(data, filename):\n",
    "    with open(filename, 'w') as f:\n",
    "        json.dump(data, f)"
   ]
  },
  {
   "cell_type": "markdown",
   "metadata": {},
   "source": [
    "#### Different alpha values"
   ]
  },
  {
   "cell_type": "code",
   "execution_count": 16,
   "metadata": {},
   "outputs": [],
   "source": [
    "def export_data(corpus, alphas, betas, filename):\n",
    "    data = [export_model_data(corpus, alpha, beta) for alpha in alphas for beta in betas]\n",
    "    save_file(data, filename)"
   ]
  },
  {
   "cell_type": "code",
   "execution_count": 17,
   "metadata": {},
   "outputs": [
    {
     "name": "stderr",
     "output_type": "stream",
     "text": [
      "/anaconda3/lib/python3.6/site-packages/gensim/models/ldamodel.py:775: RuntimeWarning: divide by zero encountered in log\n",
      "  diff = np.log(self.expElogbeta)\n"
     ]
    }
   ],
   "source": [
    "alphas = [0.01, 0.1, 1, 10]\n",
    "betas = [0.001, 0.01, 0.1, 1]\n",
    "export_data(corpus, alphas, betas, '../data/lee-params.json')"
   ]
  }
 ],
 "metadata": {
  "kernelspec": {
   "display_name": "Python 3",
   "language": "python",
   "name": "python3"
  },
  "language_info": {
   "codemirror_mode": {
    "name": "ipython",
    "version": 3
   },
   "file_extension": ".py",
   "mimetype": "text/x-python",
   "name": "python",
   "nbconvert_exporter": "python",
   "pygments_lexer": "ipython3",
   "version": "3.6.4"
  }
 },
 "nbformat": 4,
 "nbformat_minor": 2
}
