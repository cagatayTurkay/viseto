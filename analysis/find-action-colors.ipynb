{
 "cells": [
  {
   "cell_type": "markdown",
   "metadata": {},
   "source": [
    "# Using word2vec to Color Words"
   ]
  },
  {
   "cell_type": "code",
   "execution_count": 30,
   "metadata": {},
   "outputs": [],
   "source": [
    "import json\n",
    "import nlp\n",
    "\n",
    "import pandas as pd\n",
    "import numpy as np\n",
    "\n",
    "from sklearn import manifold\n",
    "from sklearn.preprocessing import MinMaxScaler\n",
    "from sklearn.cluster import KMeans\n",
    "\n",
    "import matplotlib.pyplot as plt\n",
    "%matplotlib inline \n",
    "\n",
    "dataset = 'asm' # lss/asm\n",
    "input_file = '../data/lss-17k.json'\n",
    "output_file = '../data/lss-17k-color-lookup.json'\n",
    "\n",
    "if dataset == 'asm':\n",
    "    input_file = '../data/lss_asm_dataset.txt'\n",
    "    output_file = '../data/lss-asm-color-lookup.json'"
   ]
  },
  {
   "cell_type": "markdown",
   "metadata": {},
   "source": [
    "###  Load data"
   ]
  },
  {
   "cell_type": "code",
   "execution_count": 2,
   "metadata": {
    "scrolled": true
   },
   "outputs": [],
   "source": [
    "def load(filename):\n",
    "    'A text file with each line as a JSON text.'\n",
    "    p = parse_asm if dataset == 'asm' else parse_lss\n",
    "    with open(filename) as file:\n",
    "        sessions = [p(line) for line in file]\n",
    "    return [s for s in sessions if s]\n",
    "\n",
    "def parse_asm(text):\n",
    "    'Return the list of actions from the given JSON text.'\n",
    "    obj = json.loads(text)\n",
    "    if 'actions' in obj and obj['actions']:\n",
    "        action = [a['name'][6:] for a in obj['actions']] #  [6:] to exclude the prefix 'Action'\n",
    "        return { 'id': obj['session']['dcxID'], 'action': action }\n",
    "\n",
    "def parse_lss(text):\n",
    "    'Return the list of actions from the given JSON text.'\n",
    "    obj = json.loads(text)\n",
    "    if 'actionsQueue' in obj and obj['actionsQueue']:\n",
    "        action = [a[6:] for a in obj['actionsQueue']] #  [6:] to exclude the prefix 'Action'\n",
    "        return { 'id': obj['PFX'], 'action': action }"
   ]
  },
  {
   "cell_type": "code",
   "execution_count": 3,
   "metadata": {},
   "outputs": [
    {
     "data": {
      "text/plain": [
       "(19351,\n",
       " {'action': ['SearchUsr',\n",
       "   'SearchUsr',\n",
       "   'DisplayOneUser',\n",
       "   'UpdateUserDetails',\n",
       "   'TabBar',\n",
       "   'SearchUsr',\n",
       "   'DisplayOneUser',\n",
       "   'UpdateUserDetails',\n",
       "   'TabBar',\n",
       "   'TabBar'],\n",
       "  'id': '2LK1J5ID313Q1BWKN##NAGHU91'})"
      ]
     },
     "execution_count": 3,
     "metadata": {},
     "output_type": "execute_result"
    }
   ],
   "source": [
    "data = load(input_file)\n",
    "docs = [d['action'] for d in data]\n",
    "len(data), data[0]"
   ]
  },
  {
   "cell_type": "markdown",
   "metadata": {},
   "source": [
    "### word2vec"
   ]
  },
  {
   "cell_type": "code",
   "execution_count": 4,
   "metadata": {},
   "outputs": [],
   "source": [
    "word2vec = nlp.build_word2vec(docs)\n",
    "wordvecs = word2vec.wv"
   ]
  },
  {
   "cell_type": "markdown",
   "metadata": {},
   "source": [
    "We can apply t-sne projection to show all terms in the dictionary and highlight the 26 ones in the clustering result."
   ]
  },
  {
   "cell_type": "code",
   "execution_count": 14,
   "metadata": {},
   "outputs": [],
   "source": [
    "actions = [\"CreateLoginArea\", \"AddNewLoginArea\", \"TabBar\", \"SearchUsr\", \"DisplayOneUser\", \"CreateUser\", \"CloseTab\", \"AssignRole1\", \"AssignRole2\", \"SearchOffice\", \"DisplayOneOffice\", \"DisplayOrgaDetails\", \"EditLoginArea\", \"UpdateLogAreaIndic\", \"AdminOguStep1\", \"AddOfficeDodFinish\", \"AssignAcl2\", \"AssignAcl1\", \"AssignACLStep3\", \"SearchRoleForAssignRoleAcl\", \"UpdateUserDetails\", \"UnLockUser\", \"ResetPwdUnlock\", \"DisplayOneAppli\", \"TpfMassImport\", \"TpfRefreshTable\"]"
   ]
  },
  {
   "cell_type": "code",
   "execution_count": 23,
   "metadata": {},
   "outputs": [],
   "source": [
    "matrix = np.concatenate([wordvecs[t].reshape(1, -1) for t in actions])\n",
    "coords = manifold.TSNE(perplexity=100, random_state=0).fit_transform(matrix)"
   ]
  },
  {
   "cell_type": "code",
   "execution_count": 34,
   "metadata": {},
   "outputs": [],
   "source": [
    "ss = []\n",
    "K = range(1, 15)\n",
    "for k in K:\n",
    "    km = KMeans(n_clusters=k, random_state=0)\n",
    "    km = km.fit(coords)\n",
    "    ss.append(km.inertia_)"
   ]
  },
  {
   "cell_type": "code",
   "execution_count": 35,
   "metadata": {},
   "outputs": [
    {
     "data": {
      "text/plain": [
       "Text(0.5,1,'Elbow Method For Optimal k')"
      ]
     },
     "execution_count": 35,
     "metadata": {},
     "output_type": "execute_result"
    },
    {
     "data": {
      "image/png": "[encoded data removed]",
      "text/plain": [
       "<matplotlib.figure.Figure at 0x126daa908>"
      ]
     },
     "metadata": {},
     "output_type": "display_data"
    }
   ],
   "source": [
    "plt.figure(figsize=(10,5))\n",
    "plt.plot(K, ss, 'bx-')\n",
    "plt.xlabel('k')\n",
    "plt.ylabel('Sum_of_squared_distances')\n",
    "plt.title('Elbow Method For Optimal k')"
   ]
  },
  {
   "cell_type": "markdown",
   "metadata": {},
   "source": [
    "Let's choose 5 clusters and visualise them."
   ]
  },
  {
   "cell_type": "code",
   "execution_count": 28,
   "metadata": {},
   "outputs": [],
   "source": [
    "km = KMeans(n_clusters=5, random_state=0)\n",
    "labels = km.fit_predict(coords)"
   ]
  },
  {
   "cell_type": "code",
   "execution_count": 37,
   "metadata": {},
   "outputs": [
    {
     "data": {
      "text/html": [
       "<div>\n",
       "<style scoped>\n",
       "    .dataframe tbody tr th:only-of-type {\n",
       "        vertical-align: middle;\n",
       "    }\n",
       "\n",
       "    .dataframe tbody tr th {\n",
       "        vertical-align: top;\n",
       "    }\n",
       "\n",
       "    .dataframe thead th {\n",
       "        text-align: right;\n",
       "    }\n",
       "</style>\n",
       "<table border=\"1\" class=\"dataframe\">\n",
       "  <thead>\n",
       "    <tr style=\"text-align: right;\">\n",
       "      <th></th>\n",
       "      <th>label</th>\n",
       "      <th>name</th>\n",
       "    </tr>\n",
       "  </thead>\n",
       "  <tbody>\n",
       "    <tr>\n",
       "      <th>0</th>\n",
       "      <td>4</td>\n",
       "      <td>CreateLoginArea</td>\n",
       "    </tr>\n",
       "    <tr>\n",
       "      <th>1</th>\n",
       "      <td>4</td>\n",
       "      <td>AddNewLoginArea</td>\n",
       "    </tr>\n",
       "    <tr>\n",
       "      <th>2</th>\n",
       "      <td>2</td>\n",
       "      <td>TabBar</td>\n",
       "    </tr>\n",
       "    <tr>\n",
       "      <th>3</th>\n",
       "      <td>3</td>\n",
       "      <td>SearchUsr</td>\n",
       "    </tr>\n",
       "    <tr>\n",
       "      <th>4</th>\n",
       "      <td>4</td>\n",
       "      <td>DisplayOneUser</td>\n",
       "    </tr>\n",
       "    <tr>\n",
       "      <th>5</th>\n",
       "      <td>1</td>\n",
       "      <td>CreateUser</td>\n",
       "    </tr>\n",
       "    <tr>\n",
       "      <th>6</th>\n",
       "      <td>4</td>\n",
       "      <td>CloseTab</td>\n",
       "    </tr>\n",
       "    <tr>\n",
       "      <th>7</th>\n",
       "      <td>3</td>\n",
       "      <td>AssignRole1</td>\n",
       "    </tr>\n",
       "    <tr>\n",
       "      <th>8</th>\n",
       "      <td>0</td>\n",
       "      <td>AssignRole2</td>\n",
       "    </tr>\n",
       "    <tr>\n",
       "      <th>9</th>\n",
       "      <td>2</td>\n",
       "      <td>SearchOffice</td>\n",
       "    </tr>\n",
       "    <tr>\n",
       "      <th>10</th>\n",
       "      <td>0</td>\n",
       "      <td>DisplayOneOffice</td>\n",
       "    </tr>\n",
       "    <tr>\n",
       "      <th>11</th>\n",
       "      <td>2</td>\n",
       "      <td>DisplayOrgaDetails</td>\n",
       "    </tr>\n",
       "    <tr>\n",
       "      <th>12</th>\n",
       "      <td>0</td>\n",
       "      <td>EditLoginArea</td>\n",
       "    </tr>\n",
       "    <tr>\n",
       "      <th>13</th>\n",
       "      <td>4</td>\n",
       "      <td>UpdateLogAreaIndic</td>\n",
       "    </tr>\n",
       "    <tr>\n",
       "      <th>14</th>\n",
       "      <td>1</td>\n",
       "      <td>AdminOguStep1</td>\n",
       "    </tr>\n",
       "    <tr>\n",
       "      <th>15</th>\n",
       "      <td>3</td>\n",
       "      <td>AddOfficeDodFinish</td>\n",
       "    </tr>\n",
       "    <tr>\n",
       "      <th>16</th>\n",
       "      <td>0</td>\n",
       "      <td>AssignAcl2</td>\n",
       "    </tr>\n",
       "    <tr>\n",
       "      <th>17</th>\n",
       "      <td>0</td>\n",
       "      <td>AssignAcl1</td>\n",
       "    </tr>\n",
       "    <tr>\n",
       "      <th>18</th>\n",
       "      <td>0</td>\n",
       "      <td>AssignACLStep3</td>\n",
       "    </tr>\n",
       "    <tr>\n",
       "      <th>19</th>\n",
       "      <td>1</td>\n",
       "      <td>SearchRoleForAssignRoleAcl</td>\n",
       "    </tr>\n",
       "    <tr>\n",
       "      <th>20</th>\n",
       "      <td>3</td>\n",
       "      <td>UpdateUserDetails</td>\n",
       "    </tr>\n",
       "    <tr>\n",
       "      <th>21</th>\n",
       "      <td>3</td>\n",
       "      <td>UnLockUser</td>\n",
       "    </tr>\n",
       "    <tr>\n",
       "      <th>22</th>\n",
       "      <td>1</td>\n",
       "      <td>ResetPwdUnlock</td>\n",
       "    </tr>\n",
       "    <tr>\n",
       "      <th>23</th>\n",
       "      <td>2</td>\n",
       "      <td>DisplayOneAppli</td>\n",
       "    </tr>\n",
       "    <tr>\n",
       "      <th>24</th>\n",
       "      <td>1</td>\n",
       "      <td>TpfMassImport</td>\n",
       "    </tr>\n",
       "    <tr>\n",
       "      <th>25</th>\n",
       "      <td>1</td>\n",
       "      <td>TpfRefreshTable</td>\n",
       "    </tr>\n",
       "  </tbody>\n",
       "</table>\n",
       "</div>"
      ],
      "text/plain": [
       "    label                        name\n",
       "0       4             CreateLoginArea\n",
       "1       4             AddNewLoginArea\n",
       "2       2                      TabBar\n",
       "3       3                   SearchUsr\n",
       "4       4              DisplayOneUser\n",
       "5       1                  CreateUser\n",
       "6       4                    CloseTab\n",
       "7       3                 AssignRole1\n",
       "8       0                 AssignRole2\n",
       "9       2                SearchOffice\n",
       "10      0            DisplayOneOffice\n",
       "11      2          DisplayOrgaDetails\n",
       "12      0               EditLoginArea\n",
       "13      4          UpdateLogAreaIndic\n",
       "14      1               AdminOguStep1\n",
       "15      3          AddOfficeDodFinish\n",
       "16      0                  AssignAcl2\n",
       "17      0                  AssignAcl1\n",
       "18      0              AssignACLStep3\n",
       "19      1  SearchRoleForAssignRoleAcl\n",
       "20      3           UpdateUserDetails\n",
       "21      3                  UnLockUser\n",
       "22      1              ResetPwdUnlock\n",
       "23      2             DisplayOneAppli\n",
       "24      1               TpfMassImport\n",
       "25      1             TpfRefreshTable"
      ]
     },
     "execution_count": 37,
     "metadata": {},
     "output_type": "execute_result"
    }
   ],
   "source": [
    "pd.DataFrame({ 'name': actions, 'label': labels })"
   ]
  },
  {
   "cell_type": "markdown",
   "metadata": {},
   "source": [
    "### Export RGB colors of terms"
   ]
  },
  {
   "cell_type": "code",
   "execution_count": 34,
   "metadata": {
    "collapsed": true
   },
   "outputs": [],
   "source": [
    "terms = list(wordvecs.vocab.keys())\n",
    "hex_colors = ['#{:02x}{:02x}{:02x}'.format(int(r * 255), int(g * 255), int(b * 255)) for r, g, b in colors]\n",
    "color_lookup = {terms[i]:c for i, c in enumerate(hex_colors)} \n",
    "\n",
    "with open(output_file, 'w') as f:\n",
    "    json.dump(color_lookup, f)"
   ]
  }
 ],
 "metadata": {
  "kernelspec": {
   "display_name": "Python 3",
   "language": "python",
   "name": "python3"
  },
  "language_info": {
   "codemirror_mode": {
    "name": "ipython",
    "version": 3
   },
   "file_extension": ".py",
   "mimetype": "text/x-python",
   "name": "python",
   "nbconvert_exporter": "python",
   "pygments_lexer": "ipython3",
   "version": "3.6.4"
  },
  "toc": {
   "base_numbering": 1,
   "nav_menu": {},
   "number_sections": true,
   "sideBar": true,
   "skip_h1_title": true,
   "title_cell": "Contents",
   "title_sidebar": "Contents",
   "toc_cell": false,
   "toc_position": {
    "height": "calc(100% - 180px)",
    "left": "10px",
    "top": "150px",
    "width": "165px"
   },
   "toc_section_display": true,
   "toc_window_display": true
  }
 },
 "nbformat": 4,
 "nbformat_minor": 2
}
